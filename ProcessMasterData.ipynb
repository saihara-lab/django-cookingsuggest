{
  "nbformat": 4,
  "nbformat_minor": 0,
  "metadata": {
    "colab": {
      "name": "ProcessMasterData.ipynb",
      "provenance": [],
      "collapsed_sections": []
    },
    "kernelspec": {
      "name": "python3",
      "display_name": "Python 3"
    },
    "language_info": {
      "name": "python"
    }
  },
  "cells": [
    {
      "cell_type": "code",
      "metadata": {
        "colab": {
          "base_uri": "https://localhost:8080/"
        },
        "id": "cnxQuTJONcGM",
        "outputId": "0b3ae0b2-bcf7-4470-b5c4-592c6995a3dd"
      },
      "source": [
        "!pip3 install gensim==3.8.3"
      ],
      "execution_count": 1,
      "outputs": [
        {
          "output_type": "stream",
          "name": "stdout",
          "text": [
            "Collecting gensim==3.8.3\n",
            "  Downloading gensim-3.8.3-cp37-cp37m-manylinux1_x86_64.whl (24.2 MB)\n",
            "\u001b[K     |████████████████████████████████| 24.2 MB 101 kB/s \n",
            "\u001b[?25hRequirement already satisfied: numpy>=1.11.3 in /usr/local/lib/python3.7/dist-packages (from gensim==3.8.3) (1.19.5)\n",
            "Requirement already satisfied: six>=1.5.0 in /usr/local/lib/python3.7/dist-packages (from gensim==3.8.3) (1.15.0)\n",
            "Requirement already satisfied: smart-open>=1.8.1 in /usr/local/lib/python3.7/dist-packages (from gensim==3.8.3) (5.1.0)\n",
            "Requirement already satisfied: scipy>=0.18.1 in /usr/local/lib/python3.7/dist-packages (from gensim==3.8.3) (1.4.1)\n",
            "Installing collected packages: gensim\n",
            "  Attempting uninstall: gensim\n",
            "    Found existing installation: gensim 3.6.0\n",
            "    Uninstalling gensim-3.6.0:\n",
            "      Successfully uninstalled gensim-3.6.0\n",
            "Successfully installed gensim-3.8.3\n"
          ]
        }
      ]
    },
    {
      "cell_type": "code",
      "metadata": {
        "id": "6QaWXKI4N_7l"
      },
      "source": [
        "import pandas as pd\n",
        "import matplotlib.pyplot as plt\n",
        "import seaborn as sns\n",
        "import numpy as np\n",
        "\n",
        "from gensim.models.doc2vec import Doc2Vec\n",
        "from gensim.models.doc2vec import TaggedDocument"
      ],
      "execution_count": 2,
      "outputs": []
    },
    {
      "cell_type": "code",
      "metadata": {
        "id": "XoeBxd3fOGC4"
      },
      "source": [
        "%%capture\n",
        "!apt install aptitude swig\n",
        "!aptitude install mecab libmecab-dev mecab-ipadic-utf8 git make curl xz-utils file -y\n",
        "!pip install mecab-python3==0.996.5\n",
        "!pip install unidic-lite"
      ],
      "execution_count": 3,
      "outputs": []
    },
    {
      "cell_type": "markdown",
      "metadata": {
        "id": "HDsmq9yFgmBH"
      },
      "source": [
        "## 元データ"
      ]
    },
    {
      "cell_type": "code",
      "metadata": {
        "colab": {
          "base_uri": "https://localhost:8080/",
          "height": 768
        },
        "id": "NdOB6YyDOOrR",
        "outputId": "e56a0a1b-b6a7-4df9-efa4-6f08f10a4677"
      },
      "source": [
        "df_origin = pd.read_csv('/content/drive/MyDrive/Colab Notebooks/kikagaku/AI長期コース/0_自走アプリ/dataset/久留米市オープンデータ_料理の栄養価一覧.csv')\n",
        "df_origin.head()"
      ],
      "execution_count": 4,
      "outputs": [
        {
          "output_type": "execute_result",
          "data": {
            "text/html": [
              "<div>\n",
              "<style scoped>\n",
              "    .dataframe tbody tr th:only-of-type {\n",
              "        vertical-align: middle;\n",
              "    }\n",
              "\n",
              "    .dataframe tbody tr th {\n",
              "        vertical-align: top;\n",
              "    }\n",
              "\n",
              "    .dataframe thead th {\n",
              "        text-align: right;\n",
              "    }\n",
              "</style>\n",
              "<table border=\"1\" class=\"dataframe\">\n",
              "  <thead>\n",
              "    <tr style=\"text-align: right;\">\n",
              "      <th></th>\n",
              "      <th>料理の種類</th>\n",
              "      <th>料理名</th>\n",
              "      <th>エネルギー[キロカロリー]</th>\n",
              "      <th>たんぱく質[グラム]</th>\n",
              "      <th>脂質[グラム]</th>\n",
              "      <th>炭水化物[グラム]</th>\n",
              "      <th>カルシウム[mg]</th>\n",
              "      <th>鉄分[mg]</th>\n",
              "      <th>ビタミンA[ug]</th>\n",
              "      <th>ビタミンB1[mg]</th>\n",
              "      <th>ビタミンB2[mg]</th>\n",
              "      <th>ビタミンC[mg]</th>\n",
              "      <th>食塩相当量[グラム]</th>\n",
              "      <th>野菜量[グラム]</th>\n",
              "      <th>調理工程</th>\n",
              "      <th>材料1＿材料名</th>\n",
              "      <th>材料1＿重量[グラム]</th>\n",
              "      <th>材料2＿材料名</th>\n",
              "      <th>材料2＿重量[グラム]</th>\n",
              "      <th>材料3＿材料名</th>\n",
              "      <th>材料3＿重量[グラム]</th>\n",
              "      <th>材料4＿材料名</th>\n",
              "      <th>材料4＿重量[グラム]</th>\n",
              "      <th>材料5＿材料名</th>\n",
              "      <th>材料5＿重量[グラム]</th>\n",
              "      <th>材料6＿材料名</th>\n",
              "      <th>材料6＿重量[グラム]</th>\n",
              "      <th>材料7＿材料名</th>\n",
              "      <th>材料7＿重量[グラム]</th>\n",
              "      <th>材料8＿材料名</th>\n",
              "      <th>材料8＿重量[グラム]</th>\n",
              "      <th>材料9＿材料名</th>\n",
              "      <th>材料9＿重量[グラム]</th>\n",
              "      <th>材料10＿材料名</th>\n",
              "      <th>材料10＿重量[グラム]</th>\n",
              "      <th>材料11＿材料名</th>\n",
              "      <th>材料11＿重量[グラム]</th>\n",
              "      <th>材料12＿材料名</th>\n",
              "      <th>材料12＿重量[グラム]</th>\n",
              "      <th>材料13＿材料名</th>\n",
              "      <th>材料13＿重量[グラム]</th>\n",
              "      <th>材料14＿材料名</th>\n",
              "      <th>材料14＿重量[グラム]</th>\n",
              "      <th>材料15＿材料名</th>\n",
              "      <th>材料15＿重量[グラム]</th>\n",
              "      <th>材料16＿材料名</th>\n",
              "      <th>材料16＿重量[グラム]</th>\n",
              "      <th>材料17＿材料名</th>\n",
              "      <th>材料17＿重量[グラム]</th>\n",
              "      <th>材料18＿材料名</th>\n",
              "      <th>材料18＿重量[グラム]</th>\n",
              "      <th>材料19＿材料名</th>\n",
              "      <th>材料19＿重量[グラム]</th>\n",
              "      <th>材料20＿材料名</th>\n",
              "      <th>材料20＿重量[グラム]</th>\n",
              "    </tr>\n",
              "  </thead>\n",
              "  <tbody>\n",
              "    <tr>\n",
              "      <th>0</th>\n",
              "      <td>ごはん</td>\n",
              "      <td>ごはん（中茶碗1杯）</td>\n",
              "      <td>252</td>\n",
              "      <td>3.8</td>\n",
              "      <td>0.5</td>\n",
              "      <td>55.7</td>\n",
              "      <td>NaN</td>\n",
              "      <td>NaN</td>\n",
              "      <td>NaN</td>\n",
              "      <td>NaN</td>\n",
              "      <td>NaN</td>\n",
              "      <td>NaN</td>\n",
              "      <td>0.0</td>\n",
              "      <td>0.0</td>\n",
              "      <td>NaN</td>\n",
              "      <td>めし・精白米（水稲）</td>\n",
              "      <td>150</td>\n",
              "      <td>NaN</td>\n",
              "      <td>NaN</td>\n",
              "      <td>NaN</td>\n",
              "      <td>NaN</td>\n",
              "      <td>NaN</td>\n",
              "      <td>NaN</td>\n",
              "      <td>NaN</td>\n",
              "      <td>NaN</td>\n",
              "      <td>NaN</td>\n",
              "      <td>NaN</td>\n",
              "      <td>NaN</td>\n",
              "      <td>NaN</td>\n",
              "      <td>NaN</td>\n",
              "      <td>NaN</td>\n",
              "      <td>NaN</td>\n",
              "      <td>NaN</td>\n",
              "      <td>NaN</td>\n",
              "      <td>NaN</td>\n",
              "      <td>NaN</td>\n",
              "      <td>NaN</td>\n",
              "      <td>NaN</td>\n",
              "      <td>NaN</td>\n",
              "      <td>NaN</td>\n",
              "      <td>NaN</td>\n",
              "      <td>NaN</td>\n",
              "      <td>NaN</td>\n",
              "      <td>NaN</td>\n",
              "      <td>NaN</td>\n",
              "      <td>NaN</td>\n",
              "      <td>NaN</td>\n",
              "      <td>NaN</td>\n",
              "      <td>NaN</td>\n",
              "      <td>NaN</td>\n",
              "      <td>NaN</td>\n",
              "      <td>NaN</td>\n",
              "      <td>NaN</td>\n",
              "      <td>NaN</td>\n",
              "      <td>NaN</td>\n",
              "    </tr>\n",
              "    <tr>\n",
              "      <th>1</th>\n",
              "      <td>ごはん</td>\n",
              "      <td>麦ごはん</td>\n",
              "      <td>248</td>\n",
              "      <td>4.3</td>\n",
              "      <td>0.7</td>\n",
              "      <td>54.0</td>\n",
              "      <td>NaN</td>\n",
              "      <td>NaN</td>\n",
              "      <td>NaN</td>\n",
              "      <td>NaN</td>\n",
              "      <td>NaN</td>\n",
              "      <td>NaN</td>\n",
              "      <td>0.0</td>\n",
              "      <td>0.0</td>\n",
              "      <td>NaN</td>\n",
              "      <td>米・精白米（水稲）</td>\n",
              "      <td>60</td>\n",
              "      <td>大麦・押麦</td>\n",
              "      <td>10.0</td>\n",
              "      <td>NaN</td>\n",
              "      <td>NaN</td>\n",
              "      <td>NaN</td>\n",
              "      <td>NaN</td>\n",
              "      <td>NaN</td>\n",
              "      <td>NaN</td>\n",
              "      <td>NaN</td>\n",
              "      <td>NaN</td>\n",
              "      <td>NaN</td>\n",
              "      <td>NaN</td>\n",
              "      <td>NaN</td>\n",
              "      <td>NaN</td>\n",
              "      <td>NaN</td>\n",
              "      <td>NaN</td>\n",
              "      <td>NaN</td>\n",
              "      <td>NaN</td>\n",
              "      <td>NaN</td>\n",
              "      <td>NaN</td>\n",
              "      <td>NaN</td>\n",
              "      <td>NaN</td>\n",
              "      <td>NaN</td>\n",
              "      <td>NaN</td>\n",
              "      <td>NaN</td>\n",
              "      <td>NaN</td>\n",
              "      <td>NaN</td>\n",
              "      <td>NaN</td>\n",
              "      <td>NaN</td>\n",
              "      <td>NaN</td>\n",
              "      <td>NaN</td>\n",
              "      <td>NaN</td>\n",
              "      <td>NaN</td>\n",
              "      <td>NaN</td>\n",
              "      <td>NaN</td>\n",
              "      <td>NaN</td>\n",
              "      <td>NaN</td>\n",
              "      <td>NaN</td>\n",
              "    </tr>\n",
              "    <tr>\n",
              "      <th>2</th>\n",
              "      <td>ごはん</td>\n",
              "      <td>きのこたっぷり混ぜご飯</td>\n",
              "      <td>307</td>\n",
              "      <td>6.6</td>\n",
              "      <td>2.4</td>\n",
              "      <td>61.4</td>\n",
              "      <td>NaN</td>\n",
              "      <td>NaN</td>\n",
              "      <td>NaN</td>\n",
              "      <td>NaN</td>\n",
              "      <td>NaN</td>\n",
              "      <td>NaN</td>\n",
              "      <td>1.0</td>\n",
              "      <td>23.0</td>\n",
              "      <td>NaN</td>\n",
              "      <td>米・精白米（水稲）</td>\n",
              "      <td>70</td>\n",
              "      <td>えのきたけ＿生</td>\n",
              "      <td>7.0</td>\n",
              "      <td>しめじ・ぶなしめじ＿生</td>\n",
              "      <td>7.0</td>\n",
              "      <td>まいたけ＿生</td>\n",
              "      <td>7.0</td>\n",
              "      <td>油揚げ</td>\n",
              "      <td>5.0</td>\n",
              "      <td>かつお・昆布だし</td>\n",
              "      <td>90.0</td>\n",
              "      <td>こいくちしょうゆ</td>\n",
              "      <td>6.0</td>\n",
              "      <td>みりん風調味料</td>\n",
              "      <td>9.0</td>\n",
              "      <td>清酒・上撰</td>\n",
              "      <td>7.5</td>\n",
              "      <td>糸みつば・葉＿生</td>\n",
              "      <td>2.0</td>\n",
              "      <td>NaN</td>\n",
              "      <td>NaN</td>\n",
              "      <td>NaN</td>\n",
              "      <td>NaN</td>\n",
              "      <td>NaN</td>\n",
              "      <td>NaN</td>\n",
              "      <td>NaN</td>\n",
              "      <td>NaN</td>\n",
              "      <td>NaN</td>\n",
              "      <td>NaN</td>\n",
              "      <td>NaN</td>\n",
              "      <td>NaN</td>\n",
              "      <td>NaN</td>\n",
              "      <td>NaN</td>\n",
              "      <td>NaN</td>\n",
              "      <td>NaN</td>\n",
              "      <td>NaN</td>\n",
              "      <td>NaN</td>\n",
              "      <td>NaN</td>\n",
              "      <td>NaN</td>\n",
              "    </tr>\n",
              "    <tr>\n",
              "      <th>3</th>\n",
              "      <td>ごはん</td>\n",
              "      <td>五目炊き込みご飯</td>\n",
              "      <td>311</td>\n",
              "      <td>11.4</td>\n",
              "      <td>2.7</td>\n",
              "      <td>57.9</td>\n",
              "      <td>28.0</td>\n",
              "      <td>0.5</td>\n",
              "      <td>62.0</td>\n",
              "      <td>0.06</td>\n",
              "      <td>0.09</td>\n",
              "      <td>2.0</td>\n",
              "      <td>1.1</td>\n",
              "      <td>35.0</td>\n",
              "      <td>NaN</td>\n",
              "      <td>米・精白米（水稲）</td>\n",
              "      <td>66</td>\n",
              "      <td>油揚げ</td>\n",
              "      <td>5.0</td>\n",
              "      <td>にんじん・根、皮つき＿生</td>\n",
              "      <td>7.0</td>\n",
              "      <td>板こんにゃく（精粉こんにゃく）</td>\n",
              "      <td>15.0</td>\n",
              "      <td>ごぼう・根＿生</td>\n",
              "      <td>20.0</td>\n",
              "      <td>生しいたけ＿生</td>\n",
              "      <td>5.0</td>\n",
              "      <td>若鶏・むね、皮なし＿生</td>\n",
              "      <td>25.0</td>\n",
              "      <td>こいくちしょうゆ</td>\n",
              "      <td>3.0</td>\n",
              "      <td>みりん風調味料</td>\n",
              "      <td>3.0</td>\n",
              "      <td>昆布だし</td>\n",
              "      <td>50.0</td>\n",
              "      <td>食塩</td>\n",
              "      <td>0.5</td>\n",
              "      <td>清酒・上撰</td>\n",
              "      <td>1.2</td>\n",
              "      <td>さやいんげん・若ざや＿生</td>\n",
              "      <td>3.0</td>\n",
              "      <td>NaN</td>\n",
              "      <td>NaN</td>\n",
              "      <td>NaN</td>\n",
              "      <td>NaN</td>\n",
              "      <td>NaN</td>\n",
              "      <td>NaN</td>\n",
              "      <td>NaN</td>\n",
              "      <td>NaN</td>\n",
              "      <td>NaN</td>\n",
              "      <td>NaN</td>\n",
              "      <td>NaN</td>\n",
              "      <td>NaN</td>\n",
              "      <td>NaN</td>\n",
              "      <td>NaN</td>\n",
              "    </tr>\n",
              "    <tr>\n",
              "      <th>4</th>\n",
              "      <td>ごはん</td>\n",
              "      <td>赤飯</td>\n",
              "      <td>289</td>\n",
              "      <td>6.1</td>\n",
              "      <td>1.1</td>\n",
              "      <td>63.8</td>\n",
              "      <td>18.0</td>\n",
              "      <td>0.8</td>\n",
              "      <td>0.0</td>\n",
              "      <td>0.13</td>\n",
              "      <td>0.03</td>\n",
              "      <td>0.0</td>\n",
              "      <td>0.5</td>\n",
              "      <td>0.0</td>\n",
              "      <td>NaN</td>\n",
              "      <td>赤飯（もち米製品）</td>\n",
              "      <td>150</td>\n",
              "      <td>ごま＿いり</td>\n",
              "      <td>1.0</td>\n",
              "      <td>食塩</td>\n",
              "      <td>0.5</td>\n",
              "      <td>NaN</td>\n",
              "      <td>NaN</td>\n",
              "      <td>NaN</td>\n",
              "      <td>NaN</td>\n",
              "      <td>NaN</td>\n",
              "      <td>NaN</td>\n",
              "      <td>NaN</td>\n",
              "      <td>NaN</td>\n",
              "      <td>NaN</td>\n",
              "      <td>NaN</td>\n",
              "      <td>NaN</td>\n",
              "      <td>NaN</td>\n",
              "      <td>NaN</td>\n",
              "      <td>NaN</td>\n",
              "      <td>NaN</td>\n",
              "      <td>NaN</td>\n",
              "      <td>NaN</td>\n",
              "      <td>NaN</td>\n",
              "      <td>NaN</td>\n",
              "      <td>NaN</td>\n",
              "      <td>NaN</td>\n",
              "      <td>NaN</td>\n",
              "      <td>NaN</td>\n",
              "      <td>NaN</td>\n",
              "      <td>NaN</td>\n",
              "      <td>NaN</td>\n",
              "      <td>NaN</td>\n",
              "      <td>NaN</td>\n",
              "      <td>NaN</td>\n",
              "      <td>NaN</td>\n",
              "      <td>NaN</td>\n",
              "      <td>NaN</td>\n",
              "      <td>NaN</td>\n",
              "      <td>NaN</td>\n",
              "    </tr>\n",
              "  </tbody>\n",
              "</table>\n",
              "</div>"
            ],
            "text/plain": [
              "  料理の種類          料理名  エネルギー[キロカロリー]  ...  材料19＿重量[グラム]  材料20＿材料名  材料20＿重量[グラム]\n",
              "0   ごはん   ごはん（中茶碗1杯）            252  ...           NaN       NaN           NaN\n",
              "1   ごはん         麦ごはん            248  ...           NaN       NaN           NaN\n",
              "2   ごはん  きのこたっぷり混ぜご飯            307  ...           NaN       NaN           NaN\n",
              "3   ごはん     五目炊き込みご飯            311  ...           NaN       NaN           NaN\n",
              "4   ごはん           赤飯            289  ...           NaN       NaN           NaN\n",
              "\n",
              "[5 rows x 55 columns]"
            ]
          },
          "metadata": {},
          "execution_count": 4
        }
      ]
    },
    {
      "cell_type": "markdown",
      "metadata": {
        "id": "RItw25LdP3JN"
      },
      "source": [
        "#■１．栄養の処理"
      ]
    },
    {
      "cell_type": "markdown",
      "metadata": {
        "id": "zgXj0J-rP8e-"
      },
      "source": [
        "## データの分布"
      ]
    },
    {
      "cell_type": "code",
      "metadata": {
        "colab": {
          "base_uri": "https://localhost:8080/",
          "height": 333
        },
        "id": "b9dZVjuPP59q",
        "outputId": "ab92c4c8-c2d2-45c0-9f7f-4f390c0b4d67"
      },
      "source": [
        "plt.hist(df_origin['エネルギー[キロカロリー]'], bins=10)"
      ],
      "execution_count": 5,
      "outputs": [
        {
          "output_type": "execute_result",
          "data": {
            "text/plain": [
              "(array([65., 46., 29., 25.,  6., 10.,  3.,  2.,  3.,  3.]),\n",
              " array([  3. ,  90.9, 178.8, 266.7, 354.6, 442.5, 530.4, 618.3, 706.2,\n",
              "        794.1, 882. ]),\n",
              " <a list of 10 Patch objects>)"
            ]
          },
          "metadata": {},
          "execution_count": 5
        },
        {
          "output_type": "display_data",
          "data": {
            "image/png": "[encoded data removed]",
            "text/plain": [
              "<Figure size 432x288 with 1 Axes>"
            ]
          },
          "metadata": {
            "needs_background": "light"
          }
        }
      ]
    },
    {
      "cell_type": "code",
      "metadata": {
        "colab": {
          "base_uri": "https://localhost:8080/",
          "height": 333
        },
        "id": "rtriE_TRQIGo",
        "outputId": "118c5bb1-551a-458f-e665-755e9e0c0315"
      },
      "source": [
        "plt.hist(df_origin.dropna(subset=['たんぱく質[グラム]'])['たんぱく質[グラム]'], bins=10)"
      ],
      "execution_count": 6,
      "outputs": [
        {
          "output_type": "execute_result",
          "data": {
            "text/plain": [
              "(array([76., 26., 19., 30., 22., 11.,  4.,  2.,  1.,  1.]),\n",
              " array([ 0.1 ,  3.95,  7.8 , 11.65, 15.5 , 19.35, 23.2 , 27.05, 30.9 ,\n",
              "        34.75, 38.6 ]),\n",
              " <a list of 10 Patch objects>)"
            ]
          },
          "metadata": {},
          "execution_count": 6
        },
        {
          "output_type": "display_data",
          "data": {
            "image/png": "[encoded data removed]",
            "text/plain": [
              "<Figure size 432x288 with 1 Axes>"
            ]
          },
          "metadata": {
            "needs_background": "light"
          }
        }
      ]
    },
    {
      "cell_type": "code",
      "metadata": {
        "colab": {
          "base_uri": "https://localhost:8080/",
          "height": 336
        },
        "id": "ACSSqAgRQy2v",
        "outputId": "ca8f84f3-f41b-4fc8-9a75-edc22bcdb087"
      },
      "source": [
        "plt.hist(df_origin['脂質[グラム]'], bins=10)"
      ],
      "execution_count": 7,
      "outputs": [
        {
          "output_type": "execute_result",
          "data": {
            "text/plain": [
              "(array([96., 35., 24., 17.,  9.,  3.,  5.,  1.,  1.,  1.]),\n",
              " array([ 0.  ,  4.59,  9.18, 13.77, 18.36, 22.95, 27.54, 32.13, 36.72,\n",
              "        41.31, 45.9 ]),\n",
              " <a list of 10 Patch objects>)"
            ]
          },
          "metadata": {},
          "execution_count": 7
        },
        {
          "output_type": "display_data",
          "data": {
            "image/png": "[encoded data removed]",
            "text/plain": [
              "<Figure size 432x288 with 1 Axes>"
            ]
          },
          "metadata": {
            "needs_background": "light"
          }
        }
      ]
    },
    {
      "cell_type": "code",
      "metadata": {
        "colab": {
          "base_uri": "https://localhost:8080/",
          "height": 350
        },
        "id": "VatD9rUWhi52",
        "outputId": "dffec961-4f09-49f3-b6f4-e32ac72d0c60"
      },
      "source": [
        "plt.hist(df_origin['炭水化物[グラム]'], bins=10)"
      ],
      "execution_count": 8,
      "outputs": [
        {
          "output_type": "execute_result",
          "data": {
            "text/plain": [
              "(array([111.,  28.,  17.,   3.,   7.,  12.,   8.,   0.,   4.,   2.]),\n",
              " array([1.0000e-01, 1.2510e+01, 2.4920e+01, 3.7330e+01, 4.9740e+01,\n",
              "        6.2150e+01, 7.4560e+01, 8.6970e+01, 9.9380e+01, 1.1179e+02,\n",
              "        1.2420e+02]),\n",
              " <a list of 10 Patch objects>)"
            ]
          },
          "metadata": {},
          "execution_count": 8
        },
        {
          "output_type": "display_data",
          "data": {
            "image/png": "[encoded data removed]",
            "text/plain": [
              "<Figure size 432x288 with 1 Axes>"
            ]
          },
          "metadata": {
            "needs_background": "light"
          }
        }
      ]
    },
    {
      "cell_type": "code",
      "metadata": {
        "colab": {
          "base_uri": "https://localhost:8080/",
          "height": 336
        },
        "id": "8aNiNnlzhsPV",
        "outputId": "72af48cc-0a42-4b22-e879-f206ef1f1665"
      },
      "source": [
        "plt.hist(df_origin.dropna(subset=['カルシウム[mg]'])['カルシウム[mg]'], bins=10)"
      ],
      "execution_count": 9,
      "outputs": [
        {
          "output_type": "execute_result",
          "data": {
            "text/plain": [
              "(array([48., 28., 12., 10.,  3.,  2.,  2.,  5.,  0.,  2.]),\n",
              " array([  6. ,  32.4,  58.8,  85.2, 111.6, 138. , 164.4, 190.8, 217.2,\n",
              "        243.6, 270. ]),\n",
              " <a list of 10 Patch objects>)"
            ]
          },
          "metadata": {},
          "execution_count": 9
        },
        {
          "output_type": "display_data",
          "data": {
            "image/png": "[encoded data removed]",
            "text/plain": [
              "<Figure size 432x288 with 1 Axes>"
            ]
          },
          "metadata": {
            "needs_background": "light"
          }
        }
      ]
    },
    {
      "cell_type": "code",
      "metadata": {
        "colab": {
          "base_uri": "https://localhost:8080/",
          "height": 316
        },
        "id": "atxa9ddMjnmq",
        "outputId": "ed1a24da-c01e-4385-c42e-01dae45e0286"
      },
      "source": [
        "plt.hist(df_origin.dropna(subset=['鉄分[mg]'])['鉄分[mg]'], bins=10)"
      ],
      "execution_count": 10,
      "outputs": [
        {
          "output_type": "execute_result",
          "data": {
            "text/plain": [
              "(array([26., 39., 17.,  8., 13.,  4.,  1.,  0.,  3.,  1.]),\n",
              " array([0.1 , 0.47, 0.84, 1.21, 1.58, 1.95, 2.32, 2.69, 3.06, 3.43, 3.8 ]),\n",
              " <a list of 10 Patch objects>)"
            ]
          },
          "metadata": {},
          "execution_count": 10
        },
        {
          "output_type": "display_data",
          "data": {
            "image/png": "[encoded data removed]",
            "text/plain": [
              "<Figure size 432x288 with 1 Axes>"
            ]
          },
          "metadata": {
            "needs_background": "light"
          }
        }
      ]
    },
    {
      "cell_type": "code",
      "metadata": {
        "colab": {
          "base_uri": "https://localhost:8080/",
          "height": 336
        },
        "id": "62LpJhwZjzF6",
        "outputId": "3b5696ef-271c-4e92-8e9d-aeec3ca248a4"
      },
      "source": [
        "plt.hist(df_origin.dropna(subset=['ビタミンA[ug]'])['ビタミンA[ug]'], bins=10)"
      ],
      "execution_count": 11,
      "outputs": [
        {
          "output_type": "execute_result",
          "data": {
            "text/plain": [
              "(array([67., 26.,  7.,  6.,  4.,  1.,  0.,  0.,  0.,  1.]),\n",
              " array([  0. ,  51.6, 103.2, 154.8, 206.4, 258. , 309.6, 361.2, 412.8,\n",
              "        464.4, 516. ]),\n",
              " <a list of 10 Patch objects>)"
            ]
          },
          "metadata": {},
          "execution_count": 11
        },
        {
          "output_type": "display_data",
          "data": {
            "image/png": "[encoded data removed]",
            "text/plain": [
              "<Figure size 432x288 with 1 Axes>"
            ]
          },
          "metadata": {
            "needs_background": "light"
          }
        }
      ]
    },
    {
      "cell_type": "code",
      "metadata": {
        "colab": {
          "base_uri": "https://localhost:8080/",
          "height": 316
        },
        "id": "I4oQSw86kGkP",
        "outputId": "a7719041-f880-4f28-cbe7-29f25b97049d"
      },
      "source": [
        "plt.hist(df_origin.dropna(subset=['ビタミンB1[mg]'])['ビタミンB1[mg]'], bins=10)"
      ],
      "execution_count": 12,
      "outputs": [
        {
          "output_type": "execute_result",
          "data": {
            "text/plain": [
              "(array([44., 34., 12.,  9.,  7.,  0.,  1.,  0.,  1.,  4.]),\n",
              " array([0.01, 0.07, 0.13, 0.19, 0.25, 0.31, 0.37, 0.43, 0.49, 0.55, 0.61]),\n",
              " <a list of 10 Patch objects>)"
            ]
          },
          "metadata": {},
          "execution_count": 12
        },
        {
          "output_type": "display_data",
          "data": {
            "image/png": "[encoded data removed]",
            "text/plain": [
              "<Figure size 432x288 with 1 Axes>"
            ]
          },
          "metadata": {
            "needs_background": "light"
          }
        }
      ]
    },
    {
      "cell_type": "code",
      "metadata": {
        "colab": {
          "base_uri": "https://localhost:8080/",
          "height": 333
        },
        "id": "636QV93OkYmL",
        "outputId": "34d53530-9dbf-4154-9bfe-a957a9a68e62"
      },
      "source": [
        "plt.hist(df_origin.dropna(subset=['ビタミンB2[mg]'])['ビタミンB2[mg]'], bins=10)"
      ],
      "execution_count": 13,
      "outputs": [
        {
          "output_type": "execute_result",
          "data": {
            "text/plain": [
              "(array([32., 21., 20., 13.,  8.,  7.,  8.,  1.,  1.,  1.]),\n",
              " array([0.01 , 0.061, 0.112, 0.163, 0.214, 0.265, 0.316, 0.367, 0.418,\n",
              "        0.469, 0.52 ]),\n",
              " <a list of 10 Patch objects>)"
            ]
          },
          "metadata": {},
          "execution_count": 13
        },
        {
          "output_type": "display_data",
          "data": {
            "image/png": "[encoded data removed]",
            "text/plain": [
              "<Figure size 432x288 with 1 Axes>"
            ]
          },
          "metadata": {
            "needs_background": "light"
          }
        }
      ]
    },
    {
      "cell_type": "code",
      "metadata": {
        "colab": {
          "base_uri": "https://localhost:8080/",
          "height": 316
        },
        "id": "GZ7hGSVMkgjE",
        "outputId": "f3613387-ce8f-4cc2-8fcb-5e5da58e994d"
      },
      "source": [
        "plt.hist(df_origin.dropna(subset=['ビタミンC[mg]'])['ビタミンC[mg]'], bins=10)"
      ],
      "execution_count": 14,
      "outputs": [
        {
          "output_type": "execute_result",
          "data": {
            "text/plain": [
              "(array([56., 23., 16.,  6.,  4.,  3.,  2.,  1.,  0.,  1.]),\n",
              " array([ 0. ,  7.8, 15.6, 23.4, 31.2, 39. , 46.8, 54.6, 62.4, 70.2, 78. ]),\n",
              " <a list of 10 Patch objects>)"
            ]
          },
          "metadata": {},
          "execution_count": 14
        },
        {
          "output_type": "display_data",
          "data": {
            "image/png": "[encoded data removed]",
            "text/plain": [
              "<Figure size 432x288 with 1 Axes>"
            ]
          },
          "metadata": {
            "needs_background": "light"
          }
        }
      ]
    },
    {
      "cell_type": "markdown",
      "metadata": {
        "id": "NgRuWP45SKs3"
      },
      "source": [
        "## クラスタリング"
      ]
    },
    {
      "cell_type": "code",
      "metadata": {
        "colab": {
          "base_uri": "https://localhost:8080/",
          "height": 69
        },
        "id": "u-pcHWiamBoA",
        "outputId": "464cc00c-4547-483c-98ce-b4d61e48d954"
      },
      "source": [
        "\"\"\"\n",
        "df_ntr_fillna_zero = df_origin[['料理名', 'エネルギー[キロカロリー]', 'たんぱく質[グラム]', '炭水化物[グラム]', '脂質[グラム]', 'カルシウム[mg]', '鉄分[mg]', 'ビタミンA[ug]', 'ビタミンB1[mg]', 'ビタミンB2[mg]', 'ビタミンC[mg]']]\n",
        "df_ntr_fillna_zero = df_ntr_fillna_zero.fillna({\n",
        "    'エネルギー[キロカロリー]': 0,\n",
        "    'たんぱく質[グラム]': 0.0,\n",
        "    '炭水化物[グラム]': 0.0,\n",
        "    '脂質[グラム]': 0.0,\n",
        "    'カルシウム[mg]': 0.0,\n",
        "    '鉄分[mg]': 0.0,\n",
        "    'ビタミンA[ug]': 0,\n",
        "    'ビタミンB1[mg]': 0.0,\n",
        "    'ビタミンB2[mg]': 0.0,\n",
        "    'ビタミンC[mg]': 0.0\n",
        "})\n",
        "df_ntr_fillna_zero.head()\n",
        "\"\"\""
      ],
      "execution_count": 15,
      "outputs": [
        {
          "output_type": "execute_result",
          "data": {
            "application/vnd.google.colaboratory.intrinsic+json": {
              "type": "string"
            },
            "text/plain": [
              "\"\\ndf_ntr_fillna_zero = df_origin[['料理名', 'エネルギー[キロカロリー]', 'たんぱく質[グラム]', '炭水化物[グラム]', '脂質[グラム]', 'カルシウム[mg]', '鉄分[mg]', 'ビタミンA[ug]', 'ビタミンB1[mg]', 'ビタミンB2[mg]', 'ビタミンC[mg]']]\\ndf_ntr_fillna_zero = df_ntr_fillna_zero.fillna({\\n    'エネルギー[キロカロリー]': 0,\\n    'たんぱく質[グラム]': 0.0,\\n    '炭水化物[グラム]': 0.0,\\n    '脂質[グラム]': 0.0,\\n    'カルシウム[mg]': 0.0,\\n    '鉄分[mg]': 0.0,\\n    'ビタミンA[ug]': 0,\\n    'ビタミンB1[mg]': 0.0,\\n    'ビタミンB2[mg]': 0.0,\\n    'ビタミンC[mg]': 0.0\\n})\\ndf_ntr_fillna_zero.head()\\n\""
            ]
          },
          "metadata": {},
          "execution_count": 15
        }
      ]
    },
    {
      "cell_type": "code",
      "metadata": {
        "colab": {
          "base_uri": "https://localhost:8080/",
          "height": 819
        },
        "id": "D8Myg-vAsdeP",
        "outputId": "fd1a7bc8-46d0-4c15-94f5-abeff32d6119"
      },
      "source": [
        "df_drop_ntr_nan = df_origin.dropna(subset=['カルシウム[mg]'])\n",
        "df_drop_ntr_nan.head()"
      ],
      "execution_count": 16,
      "outputs": [
        {
          "output_type": "execute_result",
          "data": {
            "text/html": [
              "<div>\n",
              "<style scoped>\n",
              "    .dataframe tbody tr th:only-of-type {\n",
              "        vertical-align: middle;\n",
              "    }\n",
              "\n",
              "    .dataframe tbody tr th {\n",
              "        vertical-align: top;\n",
              "    }\n",
              "\n",
              "    .dataframe thead th {\n",
              "        text-align: right;\n",
              "    }\n",
              "</style>\n",
              "<table border=\"1\" class=\"dataframe\">\n",
              "  <thead>\n",
              "    <tr style=\"text-align: right;\">\n",
              "      <th></th>\n",
              "      <th>料理の種類</th>\n",
              "      <th>料理名</th>\n",
              "      <th>エネルギー[キロカロリー]</th>\n",
              "      <th>たんぱく質[グラム]</th>\n",
              "      <th>脂質[グラム]</th>\n",
              "      <th>炭水化物[グラム]</th>\n",
              "      <th>カルシウム[mg]</th>\n",
              "      <th>鉄分[mg]</th>\n",
              "      <th>ビタミンA[ug]</th>\n",
              "      <th>ビタミンB1[mg]</th>\n",
              "      <th>ビタミンB2[mg]</th>\n",
              "      <th>ビタミンC[mg]</th>\n",
              "      <th>食塩相当量[グラム]</th>\n",
              "      <th>野菜量[グラム]</th>\n",
              "      <th>調理工程</th>\n",
              "      <th>材料1＿材料名</th>\n",
              "      <th>材料1＿重量[グラム]</th>\n",
              "      <th>材料2＿材料名</th>\n",
              "      <th>材料2＿重量[グラム]</th>\n",
              "      <th>材料3＿材料名</th>\n",
              "      <th>材料3＿重量[グラム]</th>\n",
              "      <th>材料4＿材料名</th>\n",
              "      <th>材料4＿重量[グラム]</th>\n",
              "      <th>材料5＿材料名</th>\n",
              "      <th>材料5＿重量[グラム]</th>\n",
              "      <th>材料6＿材料名</th>\n",
              "      <th>材料6＿重量[グラム]</th>\n",
              "      <th>材料7＿材料名</th>\n",
              "      <th>材料7＿重量[グラム]</th>\n",
              "      <th>材料8＿材料名</th>\n",
              "      <th>材料8＿重量[グラム]</th>\n",
              "      <th>材料9＿材料名</th>\n",
              "      <th>材料9＿重量[グラム]</th>\n",
              "      <th>材料10＿材料名</th>\n",
              "      <th>材料10＿重量[グラム]</th>\n",
              "      <th>材料11＿材料名</th>\n",
              "      <th>材料11＿重量[グラム]</th>\n",
              "      <th>材料12＿材料名</th>\n",
              "      <th>材料12＿重量[グラム]</th>\n",
              "      <th>材料13＿材料名</th>\n",
              "      <th>材料13＿重量[グラム]</th>\n",
              "      <th>材料14＿材料名</th>\n",
              "      <th>材料14＿重量[グラム]</th>\n",
              "      <th>材料15＿材料名</th>\n",
              "      <th>材料15＿重量[グラム]</th>\n",
              "      <th>材料16＿材料名</th>\n",
              "      <th>材料16＿重量[グラム]</th>\n",
              "      <th>材料17＿材料名</th>\n",
              "      <th>材料17＿重量[グラム]</th>\n",
              "      <th>材料18＿材料名</th>\n",
              "      <th>材料18＿重量[グラム]</th>\n",
              "      <th>材料19＿材料名</th>\n",
              "      <th>材料19＿重量[グラム]</th>\n",
              "      <th>材料20＿材料名</th>\n",
              "      <th>材料20＿重量[グラム]</th>\n",
              "    </tr>\n",
              "  </thead>\n",
              "  <tbody>\n",
              "    <tr>\n",
              "      <th>3</th>\n",
              "      <td>ごはん</td>\n",
              "      <td>五目炊き込みご飯</td>\n",
              "      <td>311</td>\n",
              "      <td>11.4</td>\n",
              "      <td>2.7</td>\n",
              "      <td>57.9</td>\n",
              "      <td>28.0</td>\n",
              "      <td>0.5</td>\n",
              "      <td>62.0</td>\n",
              "      <td>0.06</td>\n",
              "      <td>0.09</td>\n",
              "      <td>2.0</td>\n",
              "      <td>1.1</td>\n",
              "      <td>35.0</td>\n",
              "      <td>NaN</td>\n",
              "      <td>米・精白米（水稲）</td>\n",
              "      <td>66</td>\n",
              "      <td>油揚げ</td>\n",
              "      <td>5.00</td>\n",
              "      <td>にんじん・根、皮つき＿生</td>\n",
              "      <td>7.00</td>\n",
              "      <td>板こんにゃく（精粉こんにゃく）</td>\n",
              "      <td>15.0</td>\n",
              "      <td>ごぼう・根＿生</td>\n",
              "      <td>20.0</td>\n",
              "      <td>生しいたけ＿生</td>\n",
              "      <td>5.0</td>\n",
              "      <td>若鶏・むね、皮なし＿生</td>\n",
              "      <td>25.0</td>\n",
              "      <td>こいくちしょうゆ</td>\n",
              "      <td>3.00</td>\n",
              "      <td>みりん風調味料</td>\n",
              "      <td>3.0</td>\n",
              "      <td>昆布だし</td>\n",
              "      <td>50.0</td>\n",
              "      <td>食塩</td>\n",
              "      <td>0.5</td>\n",
              "      <td>清酒・上撰</td>\n",
              "      <td>1.2</td>\n",
              "      <td>さやいんげん・若ざや＿生</td>\n",
              "      <td>3.0</td>\n",
              "      <td>NaN</td>\n",
              "      <td>NaN</td>\n",
              "      <td>NaN</td>\n",
              "      <td>NaN</td>\n",
              "      <td>NaN</td>\n",
              "      <td>NaN</td>\n",
              "      <td>NaN</td>\n",
              "      <td>NaN</td>\n",
              "      <td>NaN</td>\n",
              "      <td>NaN</td>\n",
              "      <td>NaN</td>\n",
              "      <td>NaN</td>\n",
              "      <td>NaN</td>\n",
              "      <td>NaN</td>\n",
              "    </tr>\n",
              "    <tr>\n",
              "      <th>4</th>\n",
              "      <td>ごはん</td>\n",
              "      <td>赤飯</td>\n",
              "      <td>289</td>\n",
              "      <td>6.1</td>\n",
              "      <td>1.1</td>\n",
              "      <td>63.8</td>\n",
              "      <td>18.0</td>\n",
              "      <td>0.8</td>\n",
              "      <td>0.0</td>\n",
              "      <td>0.13</td>\n",
              "      <td>0.03</td>\n",
              "      <td>0.0</td>\n",
              "      <td>0.5</td>\n",
              "      <td>0.0</td>\n",
              "      <td>NaN</td>\n",
              "      <td>赤飯（もち米製品）</td>\n",
              "      <td>150</td>\n",
              "      <td>ごま＿いり</td>\n",
              "      <td>1.00</td>\n",
              "      <td>食塩</td>\n",
              "      <td>0.50</td>\n",
              "      <td>NaN</td>\n",
              "      <td>NaN</td>\n",
              "      <td>NaN</td>\n",
              "      <td>NaN</td>\n",
              "      <td>NaN</td>\n",
              "      <td>NaN</td>\n",
              "      <td>NaN</td>\n",
              "      <td>NaN</td>\n",
              "      <td>NaN</td>\n",
              "      <td>NaN</td>\n",
              "      <td>NaN</td>\n",
              "      <td>NaN</td>\n",
              "      <td>NaN</td>\n",
              "      <td>NaN</td>\n",
              "      <td>NaN</td>\n",
              "      <td>NaN</td>\n",
              "      <td>NaN</td>\n",
              "      <td>NaN</td>\n",
              "      <td>NaN</td>\n",
              "      <td>NaN</td>\n",
              "      <td>NaN</td>\n",
              "      <td>NaN</td>\n",
              "      <td>NaN</td>\n",
              "      <td>NaN</td>\n",
              "      <td>NaN</td>\n",
              "      <td>NaN</td>\n",
              "      <td>NaN</td>\n",
              "      <td>NaN</td>\n",
              "      <td>NaN</td>\n",
              "      <td>NaN</td>\n",
              "      <td>NaN</td>\n",
              "      <td>NaN</td>\n",
              "      <td>NaN</td>\n",
              "      <td>NaN</td>\n",
              "    </tr>\n",
              "    <tr>\n",
              "      <th>6</th>\n",
              "      <td>ごはん</td>\n",
              "      <td>巻き寿司</td>\n",
              "      <td>402</td>\n",
              "      <td>10.2</td>\n",
              "      <td>4.3</td>\n",
              "      <td>78.2</td>\n",
              "      <td>45.0</td>\n",
              "      <td>1.0</td>\n",
              "      <td>103.0</td>\n",
              "      <td>0.09</td>\n",
              "      <td>0.22</td>\n",
              "      <td>9.0</td>\n",
              "      <td>2.4</td>\n",
              "      <td>73.4</td>\n",
              "      <td>NaN</td>\n",
              "      <td>めし・精白米（水稲）</td>\n",
              "      <td>170</td>\n",
              "      <td>清酒・上撰</td>\n",
              "      <td>3.75</td>\n",
              "      <td>穀物酢</td>\n",
              "      <td>13.00</td>\n",
              "      <td>車糖・上白糖</td>\n",
              "      <td>4.5</td>\n",
              "      <td>食塩</td>\n",
              "      <td>1.5</td>\n",
              "      <td>乾ししいたけ＿乾</td>\n",
              "      <td>2.0</td>\n",
              "      <td>車糖・上白糖</td>\n",
              "      <td>1.5</td>\n",
              "      <td>みりん風調味料</td>\n",
              "      <td>3.00</td>\n",
              "      <td>こいくちしょうゆ</td>\n",
              "      <td>3.0</td>\n",
              "      <td>鶏卵・全卵＿生</td>\n",
              "      <td>25.0</td>\n",
              "      <td>車糖・上白糖</td>\n",
              "      <td>1.5</td>\n",
              "      <td>食塩</td>\n",
              "      <td>0.2</td>\n",
              "      <td>調合油</td>\n",
              "      <td>1.0</td>\n",
              "      <td>きゅうり＿生</td>\n",
              "      <td>60.0</td>\n",
              "      <td>まだら・でんぶ</td>\n",
              "      <td>3.0</td>\n",
              "      <td>あまのり・焼きのり</td>\n",
              "      <td>2.0</td>\n",
              "      <td>NaN</td>\n",
              "      <td>NaN</td>\n",
              "      <td>NaN</td>\n",
              "      <td>NaN</td>\n",
              "      <td>NaN</td>\n",
              "      <td>NaN</td>\n",
              "      <td>NaN</td>\n",
              "      <td>NaN</td>\n",
              "    </tr>\n",
              "    <tr>\n",
              "      <th>7</th>\n",
              "      <td>ごはん</td>\n",
              "      <td>ちらし寿司</td>\n",
              "      <td>457</td>\n",
              "      <td>13.7</td>\n",
              "      <td>4.7</td>\n",
              "      <td>86.3</td>\n",
              "      <td>95.0</td>\n",
              "      <td>1.3</td>\n",
              "      <td>516.0</td>\n",
              "      <td>0.30</td>\n",
              "      <td>0.36</td>\n",
              "      <td>2.0</td>\n",
              "      <td>3.2</td>\n",
              "      <td>42.0</td>\n",
              "      <td>NaN</td>\n",
              "      <td>めし・精白米（水稲）</td>\n",
              "      <td>200</td>\n",
              "      <td>穀物酢</td>\n",
              "      <td>20.00</td>\n",
              "      <td>車糖・上白糖</td>\n",
              "      <td>4.50</td>\n",
              "      <td>食塩</td>\n",
              "      <td>2.0</td>\n",
              "      <td>にんじん・根、皮つき＿生</td>\n",
              "      <td>15.0</td>\n",
              "      <td>食塩</td>\n",
              "      <td>0.2</td>\n",
              "      <td>車糖・上白糖</td>\n",
              "      <td>1.0</td>\n",
              "      <td>昆布だし</td>\n",
              "      <td>10.00</td>\n",
              "      <td>乾ししいたけ＿乾</td>\n",
              "      <td>2.0</td>\n",
              "      <td>かんぴょう＿乾</td>\n",
              "      <td>2.0</td>\n",
              "      <td>こいくちしょうゆ</td>\n",
              "      <td>3.0</td>\n",
              "      <td>車糖・上白糖</td>\n",
              "      <td>1.5</td>\n",
              "      <td>鶏卵・全卵＿生</td>\n",
              "      <td>28.0</td>\n",
              "      <td>食塩</td>\n",
              "      <td>0.2</td>\n",
              "      <td>調合油</td>\n",
              "      <td>1.0</td>\n",
              "      <td>くるまえび・養殖＿生</td>\n",
              "      <td>20.0</td>\n",
              "      <td>食塩</td>\n",
              "      <td>0.2</td>\n",
              "      <td>さやいんげん・若ざや＿生</td>\n",
              "      <td>5.0</td>\n",
              "      <td>NaN</td>\n",
              "      <td>NaN</td>\n",
              "      <td>NaN</td>\n",
              "      <td>NaN</td>\n",
              "    </tr>\n",
              "    <tr>\n",
              "      <th>8</th>\n",
              "      <td>ごはん</td>\n",
              "      <td>親子丼</td>\n",
              "      <td>665</td>\n",
              "      <td>28.5</td>\n",
              "      <td>8.9</td>\n",
              "      <td>110.7</td>\n",
              "      <td>47.0</td>\n",
              "      <td>1.7</td>\n",
              "      <td>90.0</td>\n",
              "      <td>0.15</td>\n",
              "      <td>0.37</td>\n",
              "      <td>5.0</td>\n",
              "      <td>2.1</td>\n",
              "      <td>65.0</td>\n",
              "      <td>NaN</td>\n",
              "      <td>めし・精白米（水稲）</td>\n",
              "      <td>260</td>\n",
              "      <td>若鶏・もも、皮なし＿生</td>\n",
              "      <td>75.00</td>\n",
              "      <td>清酒・上撰</td>\n",
              "      <td>3.75</td>\n",
              "      <td>たまねぎ・りん茎＿生</td>\n",
              "      <td>60.0</td>\n",
              "      <td>かつおだし</td>\n",
              "      <td>25.0</td>\n",
              "      <td>こいくちしょうゆ</td>\n",
              "      <td>12.0</td>\n",
              "      <td>みりん風調味料</td>\n",
              "      <td>9.0</td>\n",
              "      <td>車糖・上白糖</td>\n",
              "      <td>2.25</td>\n",
              "      <td>鶏卵・全卵＿生</td>\n",
              "      <td>50.0</td>\n",
              "      <td>切りみつば・葉＿生</td>\n",
              "      <td>5.0</td>\n",
              "      <td>NaN</td>\n",
              "      <td>NaN</td>\n",
              "      <td>NaN</td>\n",
              "      <td>NaN</td>\n",
              "      <td>NaN</td>\n",
              "      <td>NaN</td>\n",
              "      <td>NaN</td>\n",
              "      <td>NaN</td>\n",
              "      <td>NaN</td>\n",
              "      <td>NaN</td>\n",
              "      <td>NaN</td>\n",
              "      <td>NaN</td>\n",
              "      <td>NaN</td>\n",
              "      <td>NaN</td>\n",
              "      <td>NaN</td>\n",
              "      <td>NaN</td>\n",
              "      <td>NaN</td>\n",
              "      <td>NaN</td>\n",
              "      <td>NaN</td>\n",
              "      <td>NaN</td>\n",
              "    </tr>\n",
              "  </tbody>\n",
              "</table>\n",
              "</div>"
            ],
            "text/plain": [
              "  料理の種類       料理名  エネルギー[キロカロリー]  ...  材料19＿重量[グラム]  材料20＿材料名  材料20＿重量[グラム]\n",
              "3   ごはん  五目炊き込みご飯            311  ...           NaN       NaN           NaN\n",
              "4   ごはん        赤飯            289  ...           NaN       NaN           NaN\n",
              "6   ごはん      巻き寿司            402  ...           NaN       NaN           NaN\n",
              "7   ごはん     ちらし寿司            457  ...           NaN       NaN           NaN\n",
              "8   ごはん       親子丼            665  ...           NaN       NaN           NaN\n",
              "\n",
              "[5 rows x 55 columns]"
            ]
          },
          "metadata": {},
          "execution_count": 16
        }
      ]
    },
    {
      "cell_type": "code",
      "metadata": {
        "id": "9RSXfBZ_RA0-"
      },
      "source": [
        "x_n = df_drop_ntr_nan[['エネルギー[キロカロリー]', 'たんぱく質[グラム]', '炭水化物[グラム]', '脂質[グラム]', 'カルシウム[mg]', '鉄分[mg]', 'ビタミンA[ug]', 'ビタミンB1[mg]', 'ビタミンB2[mg]', 'ビタミンC[mg]']].values"
      ],
      "execution_count": 17,
      "outputs": []
    },
    {
      "cell_type": "code",
      "metadata": {
        "id": "Zece6H2vS9Xw"
      },
      "source": [
        "# 必要なライブラリのインポート\n",
        "import matplotlib.pyplot as plt\n",
        "from sklearn.datasets import make_blobs\n",
        "from sklearn.preprocessing import MinMaxScaler\n",
        "plt.style.use('seaborn-darkgrid')\n",
        "\n",
        "# データの正規化\n",
        "x_n_norm = MinMaxScaler().fit_transform(x_n)"
      ],
      "execution_count": 18,
      "outputs": []
    },
    {
      "cell_type": "code",
      "metadata": {
        "colab": {
          "base_uri": "https://localhost:8080/",
          "height": 276
        },
        "id": "IA9pUHEFqiY_",
        "outputId": "002d8654-c1da-495f-bbb0-c261012bd31f"
      },
      "source": [
        "## エルボー法によるクラスタリングの性能評価\n",
        "from sklearn.cluster import KMeans\n",
        "\n",
        "# クラスタ内誤差平方和を格納\n",
        "sse = []\n",
        "\n",
        "for i in range(1, 8):\n",
        "  # k-meansの適用\n",
        "  kmeans = KMeans(n_clusters=i, random_state=0)\n",
        "  kmeans.fit(x_n_norm)\n",
        "  # クラスタ内誤差平方和をリストに追加\n",
        "  sse.append(kmeans.inertia_)\n",
        "\n",
        "# クラスタリング結果の可視化\n",
        "plt.ylabel('SSE')\n",
        "plt.xlabel('Number of clusters')\n",
        "plt.xticks(range(1,8))\n",
        "plt.plot(range(1,8), sse, marker='o')\n",
        "plt.show()"
      ],
      "execution_count": 19,
      "outputs": [
        {
          "output_type": "display_data",
          "data": {
            "image/png": "[encoded data removed]",
            "text/plain": [
              "<Figure size 432x288 with 1 Axes>"
            ]
          },
          "metadata": {}
        }
      ]
    },
    {
      "cell_type": "code",
      "metadata": {
        "colab": {
          "base_uri": "https://localhost:8080/"
        },
        "id": "XGMenky5q_t4",
        "outputId": "d17afabd-8d98-4f72-e5a0-f1cfb60acc72"
      },
      "source": [
        "# モデルの作成\n",
        "from sklearn.cluster import KMeans\n",
        "\n",
        "kmeans_ntr = KMeans(n_clusters=3, random_state=0)\n",
        "\n",
        "kmeans_ntr.fit(x_n_norm)"
      ],
      "execution_count": 20,
      "outputs": [
        {
          "output_type": "execute_result",
          "data": {
            "text/plain": [
              "KMeans(algorithm='auto', copy_x=True, init='k-means++', max_iter=300,\n",
              "       n_clusters=3, n_init=10, n_jobs=None, precompute_distances='auto',\n",
              "       random_state=0, tol=0.0001, verbose=0)"
            ]
          },
          "metadata": {},
          "execution_count": 20
        }
      ]
    },
    {
      "cell_type": "code",
      "metadata": {
        "colab": {
          "base_uri": "https://localhost:8080/"
        },
        "id": "y5bxP19GrI5u",
        "outputId": "0555b7b5-310d-4320-89ad-33b498f2d5a0"
      },
      "source": [
        "# クラスタの取得\n",
        "cluster_ntr = kmeans_ntr.predict(x_n_norm)\n",
        "cluster_ntr"
      ],
      "execution_count": 21,
      "outputs": [
        {
          "output_type": "execute_result",
          "data": {
            "text/plain": [
              "array([2, 1, 2, 0, 0, 0, 0, 1, 2, 2, 2, 2, 2, 2, 0, 2, 0, 0, 0, 0, 0, 0,\n",
              "       2, 2, 2, 2, 2, 0, 2, 2, 2, 2, 2, 2, 2, 2, 0, 2, 2, 2, 2, 2, 2, 2,\n",
              "       2, 2, 2, 2, 2, 2, 2, 2, 2, 2, 2, 2, 2, 2, 2, 1, 2, 1, 2, 2, 2, 2,\n",
              "       1, 1, 1, 1, 1, 1, 1, 1, 1, 1, 1, 1, 1, 1, 1, 1, 1, 1, 1, 1, 1, 1,\n",
              "       1, 1, 1, 1, 1, 1, 1, 1, 1, 1, 1, 1, 1, 1, 1, 1, 1, 1, 1, 1, 1, 1,\n",
              "       1, 1], dtype=int32)"
            ]
          },
          "metadata": {},
          "execution_count": 21
        }
      ]
    },
    {
      "cell_type": "code",
      "metadata": {
        "colab": {
          "base_uri": "https://localhost:8080/",
          "height": 921
        },
        "id": "-dz2IGq2uGn4",
        "outputId": "35feb493-a4ca-49eb-bdc2-ebf23e91cca5"
      },
      "source": [
        "# 結果を代入\n",
        "df_drop_ntr_nan['n_cluster'] = cluster_ntr\n",
        "\n",
        "df_drop_ntr_nan.head()"
      ],
      "execution_count": 22,
      "outputs": [
        {
          "output_type": "stream",
          "name": "stderr",
          "text": [
            "/usr/local/lib/python3.7/dist-packages/ipykernel_launcher.py:2: SettingWithCopyWarning: \n",
            "A value is trying to be set on a copy of a slice from a DataFrame.\n",
            "Try using .loc[row_indexer,col_indexer] = value instead\n",
            "\n",
            "See the caveats in the documentation: https://pandas.pydata.org/pandas-docs/stable/user_guide/indexing.html#returning-a-view-versus-a-copy\n",
            "  \n"
          ]
        },
        {
          "output_type": "execute_result",
          "data": {
            "text/html": [
              "<div>\n",
              "<style scoped>\n",
              "    .dataframe tbody tr th:only-of-type {\n",
              "        vertical-align: middle;\n",
              "    }\n",
              "\n",
              "    .dataframe tbody tr th {\n",
              "        vertical-align: top;\n",
              "    }\n",
              "\n",
              "    .dataframe thead th {\n",
              "        text-align: right;\n",
              "    }\n",
              "</style>\n",
              "<table border=\"1\" class=\"dataframe\">\n",
              "  <thead>\n",
              "    <tr style=\"text-align: right;\">\n",
              "      <th></th>\n",
              "      <th>料理の種類</th>\n",
              "      <th>料理名</th>\n",
              "      <th>エネルギー[キロカロリー]</th>\n",
              "      <th>たんぱく質[グラム]</th>\n",
              "      <th>脂質[グラム]</th>\n",
              "      <th>炭水化物[グラム]</th>\n",
              "      <th>カルシウム[mg]</th>\n",
              "      <th>鉄分[mg]</th>\n",
              "      <th>ビタミンA[ug]</th>\n",
              "      <th>ビタミンB1[mg]</th>\n",
              "      <th>ビタミンB2[mg]</th>\n",
              "      <th>ビタミンC[mg]</th>\n",
              "      <th>食塩相当量[グラム]</th>\n",
              "      <th>野菜量[グラム]</th>\n",
              "      <th>調理工程</th>\n",
              "      <th>材料1＿材料名</th>\n",
              "      <th>材料1＿重量[グラム]</th>\n",
              "      <th>材料2＿材料名</th>\n",
              "      <th>材料2＿重量[グラム]</th>\n",
              "      <th>材料3＿材料名</th>\n",
              "      <th>材料3＿重量[グラム]</th>\n",
              "      <th>材料4＿材料名</th>\n",
              "      <th>材料4＿重量[グラム]</th>\n",
              "      <th>材料5＿材料名</th>\n",
              "      <th>材料5＿重量[グラム]</th>\n",
              "      <th>材料6＿材料名</th>\n",
              "      <th>材料6＿重量[グラム]</th>\n",
              "      <th>材料7＿材料名</th>\n",
              "      <th>材料7＿重量[グラム]</th>\n",
              "      <th>材料8＿材料名</th>\n",
              "      <th>材料8＿重量[グラム]</th>\n",
              "      <th>材料9＿材料名</th>\n",
              "      <th>材料9＿重量[グラム]</th>\n",
              "      <th>材料10＿材料名</th>\n",
              "      <th>材料10＿重量[グラム]</th>\n",
              "      <th>材料11＿材料名</th>\n",
              "      <th>材料11＿重量[グラム]</th>\n",
              "      <th>材料12＿材料名</th>\n",
              "      <th>材料12＿重量[グラム]</th>\n",
              "      <th>材料13＿材料名</th>\n",
              "      <th>材料13＿重量[グラム]</th>\n",
              "      <th>材料14＿材料名</th>\n",
              "      <th>材料14＿重量[グラム]</th>\n",
              "      <th>材料15＿材料名</th>\n",
              "      <th>材料15＿重量[グラム]</th>\n",
              "      <th>材料16＿材料名</th>\n",
              "      <th>材料16＿重量[グラム]</th>\n",
              "      <th>材料17＿材料名</th>\n",
              "      <th>材料17＿重量[グラム]</th>\n",
              "      <th>材料18＿材料名</th>\n",
              "      <th>材料18＿重量[グラム]</th>\n",
              "      <th>材料19＿材料名</th>\n",
              "      <th>材料19＿重量[グラム]</th>\n",
              "      <th>材料20＿材料名</th>\n",
              "      <th>材料20＿重量[グラム]</th>\n",
              "      <th>n_cluster</th>\n",
              "    </tr>\n",
              "  </thead>\n",
              "  <tbody>\n",
              "    <tr>\n",
              "      <th>3</th>\n",
              "      <td>ごはん</td>\n",
              "      <td>五目炊き込みご飯</td>\n",
              "      <td>311</td>\n",
              "      <td>11.4</td>\n",
              "      <td>2.7</td>\n",
              "      <td>57.9</td>\n",
              "      <td>28.0</td>\n",
              "      <td>0.5</td>\n",
              "      <td>62.0</td>\n",
              "      <td>0.06</td>\n",
              "      <td>0.09</td>\n",
              "      <td>2.0</td>\n",
              "      <td>1.1</td>\n",
              "      <td>35.0</td>\n",
              "      <td>NaN</td>\n",
              "      <td>米・精白米（水稲）</td>\n",
              "      <td>66</td>\n",
              "      <td>油揚げ</td>\n",
              "      <td>5.00</td>\n",
              "      <td>にんじん・根、皮つき＿生</td>\n",
              "      <td>7.00</td>\n",
              "      <td>板こんにゃく（精粉こんにゃく）</td>\n",
              "      <td>15.0</td>\n",
              "      <td>ごぼう・根＿生</td>\n",
              "      <td>20.0</td>\n",
              "      <td>生しいたけ＿生</td>\n",
              "      <td>5.0</td>\n",
              "      <td>若鶏・むね、皮なし＿生</td>\n",
              "      <td>25.0</td>\n",
              "      <td>こいくちしょうゆ</td>\n",
              "      <td>3.00</td>\n",
              "      <td>みりん風調味料</td>\n",
              "      <td>3.0</td>\n",
              "      <td>昆布だし</td>\n",
              "      <td>50.0</td>\n",
              "      <td>食塩</td>\n",
              "      <td>0.5</td>\n",
              "      <td>清酒・上撰</td>\n",
              "      <td>1.2</td>\n",
              "      <td>さやいんげん・若ざや＿生</td>\n",
              "      <td>3.0</td>\n",
              "      <td>NaN</td>\n",
              "      <td>NaN</td>\n",
              "      <td>NaN</td>\n",
              "      <td>NaN</td>\n",
              "      <td>NaN</td>\n",
              "      <td>NaN</td>\n",
              "      <td>NaN</td>\n",
              "      <td>NaN</td>\n",
              "      <td>NaN</td>\n",
              "      <td>NaN</td>\n",
              "      <td>NaN</td>\n",
              "      <td>NaN</td>\n",
              "      <td>NaN</td>\n",
              "      <td>NaN</td>\n",
              "      <td>2</td>\n",
              "    </tr>\n",
              "    <tr>\n",
              "      <th>4</th>\n",
              "      <td>ごはん</td>\n",
              "      <td>赤飯</td>\n",
              "      <td>289</td>\n",
              "      <td>6.1</td>\n",
              "      <td>1.1</td>\n",
              "      <td>63.8</td>\n",
              "      <td>18.0</td>\n",
              "      <td>0.8</td>\n",
              "      <td>0.0</td>\n",
              "      <td>0.13</td>\n",
              "      <td>0.03</td>\n",
              "      <td>0.0</td>\n",
              "      <td>0.5</td>\n",
              "      <td>0.0</td>\n",
              "      <td>NaN</td>\n",
              "      <td>赤飯（もち米製品）</td>\n",
              "      <td>150</td>\n",
              "      <td>ごま＿いり</td>\n",
              "      <td>1.00</td>\n",
              "      <td>食塩</td>\n",
              "      <td>0.50</td>\n",
              "      <td>NaN</td>\n",
              "      <td>NaN</td>\n",
              "      <td>NaN</td>\n",
              "      <td>NaN</td>\n",
              "      <td>NaN</td>\n",
              "      <td>NaN</td>\n",
              "      <td>NaN</td>\n",
              "      <td>NaN</td>\n",
              "      <td>NaN</td>\n",
              "      <td>NaN</td>\n",
              "      <td>NaN</td>\n",
              "      <td>NaN</td>\n",
              "      <td>NaN</td>\n",
              "      <td>NaN</td>\n",
              "      <td>NaN</td>\n",
              "      <td>NaN</td>\n",
              "      <td>NaN</td>\n",
              "      <td>NaN</td>\n",
              "      <td>NaN</td>\n",
              "      <td>NaN</td>\n",
              "      <td>NaN</td>\n",
              "      <td>NaN</td>\n",
              "      <td>NaN</td>\n",
              "      <td>NaN</td>\n",
              "      <td>NaN</td>\n",
              "      <td>NaN</td>\n",
              "      <td>NaN</td>\n",
              "      <td>NaN</td>\n",
              "      <td>NaN</td>\n",
              "      <td>NaN</td>\n",
              "      <td>NaN</td>\n",
              "      <td>NaN</td>\n",
              "      <td>NaN</td>\n",
              "      <td>NaN</td>\n",
              "      <td>1</td>\n",
              "    </tr>\n",
              "    <tr>\n",
              "      <th>6</th>\n",
              "      <td>ごはん</td>\n",
              "      <td>巻き寿司</td>\n",
              "      <td>402</td>\n",
              "      <td>10.2</td>\n",
              "      <td>4.3</td>\n",
              "      <td>78.2</td>\n",
              "      <td>45.0</td>\n",
              "      <td>1.0</td>\n",
              "      <td>103.0</td>\n",
              "      <td>0.09</td>\n",
              "      <td>0.22</td>\n",
              "      <td>9.0</td>\n",
              "      <td>2.4</td>\n",
              "      <td>73.4</td>\n",
              "      <td>NaN</td>\n",
              "      <td>めし・精白米（水稲）</td>\n",
              "      <td>170</td>\n",
              "      <td>清酒・上撰</td>\n",
              "      <td>3.75</td>\n",
              "      <td>穀物酢</td>\n",
              "      <td>13.00</td>\n",
              "      <td>車糖・上白糖</td>\n",
              "      <td>4.5</td>\n",
              "      <td>食塩</td>\n",
              "      <td>1.5</td>\n",
              "      <td>乾ししいたけ＿乾</td>\n",
              "      <td>2.0</td>\n",
              "      <td>車糖・上白糖</td>\n",
              "      <td>1.5</td>\n",
              "      <td>みりん風調味料</td>\n",
              "      <td>3.00</td>\n",
              "      <td>こいくちしょうゆ</td>\n",
              "      <td>3.0</td>\n",
              "      <td>鶏卵・全卵＿生</td>\n",
              "      <td>25.0</td>\n",
              "      <td>車糖・上白糖</td>\n",
              "      <td>1.5</td>\n",
              "      <td>食塩</td>\n",
              "      <td>0.2</td>\n",
              "      <td>調合油</td>\n",
              "      <td>1.0</td>\n",
              "      <td>きゅうり＿生</td>\n",
              "      <td>60.0</td>\n",
              "      <td>まだら・でんぶ</td>\n",
              "      <td>3.0</td>\n",
              "      <td>あまのり・焼きのり</td>\n",
              "      <td>2.0</td>\n",
              "      <td>NaN</td>\n",
              "      <td>NaN</td>\n",
              "      <td>NaN</td>\n",
              "      <td>NaN</td>\n",
              "      <td>NaN</td>\n",
              "      <td>NaN</td>\n",
              "      <td>NaN</td>\n",
              "      <td>NaN</td>\n",
              "      <td>2</td>\n",
              "    </tr>\n",
              "    <tr>\n",
              "      <th>7</th>\n",
              "      <td>ごはん</td>\n",
              "      <td>ちらし寿司</td>\n",
              "      <td>457</td>\n",
              "      <td>13.7</td>\n",
              "      <td>4.7</td>\n",
              "      <td>86.3</td>\n",
              "      <td>95.0</td>\n",
              "      <td>1.3</td>\n",
              "      <td>516.0</td>\n",
              "      <td>0.30</td>\n",
              "      <td>0.36</td>\n",
              "      <td>2.0</td>\n",
              "      <td>3.2</td>\n",
              "      <td>42.0</td>\n",
              "      <td>NaN</td>\n",
              "      <td>めし・精白米（水稲）</td>\n",
              "      <td>200</td>\n",
              "      <td>穀物酢</td>\n",
              "      <td>20.00</td>\n",
              "      <td>車糖・上白糖</td>\n",
              "      <td>4.50</td>\n",
              "      <td>食塩</td>\n",
              "      <td>2.0</td>\n",
              "      <td>にんじん・根、皮つき＿生</td>\n",
              "      <td>15.0</td>\n",
              "      <td>食塩</td>\n",
              "      <td>0.2</td>\n",
              "      <td>車糖・上白糖</td>\n",
              "      <td>1.0</td>\n",
              "      <td>昆布だし</td>\n",
              "      <td>10.00</td>\n",
              "      <td>乾ししいたけ＿乾</td>\n",
              "      <td>2.0</td>\n",
              "      <td>かんぴょう＿乾</td>\n",
              "      <td>2.0</td>\n",
              "      <td>こいくちしょうゆ</td>\n",
              "      <td>3.0</td>\n",
              "      <td>車糖・上白糖</td>\n",
              "      <td>1.5</td>\n",
              "      <td>鶏卵・全卵＿生</td>\n",
              "      <td>28.0</td>\n",
              "      <td>食塩</td>\n",
              "      <td>0.2</td>\n",
              "      <td>調合油</td>\n",
              "      <td>1.0</td>\n",
              "      <td>くるまえび・養殖＿生</td>\n",
              "      <td>20.0</td>\n",
              "      <td>食塩</td>\n",
              "      <td>0.2</td>\n",
              "      <td>さやいんげん・若ざや＿生</td>\n",
              "      <td>5.0</td>\n",
              "      <td>NaN</td>\n",
              "      <td>NaN</td>\n",
              "      <td>NaN</td>\n",
              "      <td>NaN</td>\n",
              "      <td>0</td>\n",
              "    </tr>\n",
              "    <tr>\n",
              "      <th>8</th>\n",
              "      <td>ごはん</td>\n",
              "      <td>親子丼</td>\n",
              "      <td>665</td>\n",
              "      <td>28.5</td>\n",
              "      <td>8.9</td>\n",
              "      <td>110.7</td>\n",
              "      <td>47.0</td>\n",
              "      <td>1.7</td>\n",
              "      <td>90.0</td>\n",
              "      <td>0.15</td>\n",
              "      <td>0.37</td>\n",
              "      <td>5.0</td>\n",
              "      <td>2.1</td>\n",
              "      <td>65.0</td>\n",
              "      <td>NaN</td>\n",
              "      <td>めし・精白米（水稲）</td>\n",
              "      <td>260</td>\n",
              "      <td>若鶏・もも、皮なし＿生</td>\n",
              "      <td>75.00</td>\n",
              "      <td>清酒・上撰</td>\n",
              "      <td>3.75</td>\n",
              "      <td>たまねぎ・りん茎＿生</td>\n",
              "      <td>60.0</td>\n",
              "      <td>かつおだし</td>\n",
              "      <td>25.0</td>\n",
              "      <td>こいくちしょうゆ</td>\n",
              "      <td>12.0</td>\n",
              "      <td>みりん風調味料</td>\n",
              "      <td>9.0</td>\n",
              "      <td>車糖・上白糖</td>\n",
              "      <td>2.25</td>\n",
              "      <td>鶏卵・全卵＿生</td>\n",
              "      <td>50.0</td>\n",
              "      <td>切りみつば・葉＿生</td>\n",
              "      <td>5.0</td>\n",
              "      <td>NaN</td>\n",
              "      <td>NaN</td>\n",
              "      <td>NaN</td>\n",
              "      <td>NaN</td>\n",
              "      <td>NaN</td>\n",
              "      <td>NaN</td>\n",
              "      <td>NaN</td>\n",
              "      <td>NaN</td>\n",
              "      <td>NaN</td>\n",
              "      <td>NaN</td>\n",
              "      <td>NaN</td>\n",
              "      <td>NaN</td>\n",
              "      <td>NaN</td>\n",
              "      <td>NaN</td>\n",
              "      <td>NaN</td>\n",
              "      <td>NaN</td>\n",
              "      <td>NaN</td>\n",
              "      <td>NaN</td>\n",
              "      <td>NaN</td>\n",
              "      <td>NaN</td>\n",
              "      <td>0</td>\n",
              "    </tr>\n",
              "  </tbody>\n",
              "</table>\n",
              "</div>"
            ],
            "text/plain": [
              "  料理の種類       料理名  エネルギー[キロカロリー]  ...  材料20＿材料名  材料20＿重量[グラム]  n_cluster\n",
              "3   ごはん  五目炊き込みご飯            311  ...       NaN           NaN          2\n",
              "4   ごはん        赤飯            289  ...       NaN           NaN          1\n",
              "6   ごはん      巻き寿司            402  ...       NaN           NaN          2\n",
              "7   ごはん     ちらし寿司            457  ...       NaN           NaN          0\n",
              "8   ごはん       親子丼            665  ...       NaN           NaN          0\n",
              "\n",
              "[5 rows x 56 columns]"
            ]
          },
          "metadata": {},
          "execution_count": 22
        }
      ]
    },
    {
      "cell_type": "code",
      "metadata": {
        "colab": {
          "base_uri": "https://localhost:8080/",
          "height": 204
        },
        "id": "JuCsGY2oyeM6",
        "outputId": "dbba531b-ec96-4718-95d7-1c7ccf39f63e"
      },
      "source": [
        "df_cluster = df_drop_ntr_nan[['料理名', 'n_cluster']]\n",
        "df_cluster.head()"
      ],
      "execution_count": 23,
      "outputs": [
        {
          "output_type": "execute_result",
          "data": {
            "text/html": [
              "<div>\n",
              "<style scoped>\n",
              "    .dataframe tbody tr th:only-of-type {\n",
              "        vertical-align: middle;\n",
              "    }\n",
              "\n",
              "    .dataframe tbody tr th {\n",
              "        vertical-align: top;\n",
              "    }\n",
              "\n",
              "    .dataframe thead th {\n",
              "        text-align: right;\n",
              "    }\n",
              "</style>\n",
              "<table border=\"1\" class=\"dataframe\">\n",
              "  <thead>\n",
              "    <tr style=\"text-align: right;\">\n",
              "      <th></th>\n",
              "      <th>料理名</th>\n",
              "      <th>n_cluster</th>\n",
              "    </tr>\n",
              "  </thead>\n",
              "  <tbody>\n",
              "    <tr>\n",
              "      <th>3</th>\n",
              "      <td>五目炊き込みご飯</td>\n",
              "      <td>2</td>\n",
              "    </tr>\n",
              "    <tr>\n",
              "      <th>4</th>\n",
              "      <td>赤飯</td>\n",
              "      <td>1</td>\n",
              "    </tr>\n",
              "    <tr>\n",
              "      <th>6</th>\n",
              "      <td>巻き寿司</td>\n",
              "      <td>2</td>\n",
              "    </tr>\n",
              "    <tr>\n",
              "      <th>7</th>\n",
              "      <td>ちらし寿司</td>\n",
              "      <td>0</td>\n",
              "    </tr>\n",
              "    <tr>\n",
              "      <th>8</th>\n",
              "      <td>親子丼</td>\n",
              "      <td>0</td>\n",
              "    </tr>\n",
              "  </tbody>\n",
              "</table>\n",
              "</div>"
            ],
            "text/plain": [
              "        料理名  n_cluster\n",
              "3  五目炊き込みご飯          2\n",
              "4        赤飯          1\n",
              "6      巻き寿司          2\n",
              "7     ちらし寿司          0\n",
              "8       親子丼          0"
            ]
          },
          "metadata": {},
          "execution_count": 23
        }
      ]
    },
    {
      "cell_type": "code",
      "metadata": {
        "colab": {
          "base_uri": "https://localhost:8080/",
          "height": 204
        },
        "id": "Fa6OKh8ty_j-",
        "outputId": "931d39b1-cfd3-4471-a321-6fb1df939a10"
      },
      "source": [
        "df_names = df_origin[['料理名']]\n",
        "\n",
        "df_cluster = pd.merge(df_names, df_cluster, how='left')\n",
        "df_cluster = df_cluster.fillna(9.0)\n",
        "df_cluster.head()"
      ],
      "execution_count": 24,
      "outputs": [
        {
          "output_type": "execute_result",
          "data": {
            "text/html": [
              "<div>\n",
              "<style scoped>\n",
              "    .dataframe tbody tr th:only-of-type {\n",
              "        vertical-align: middle;\n",
              "    }\n",
              "\n",
              "    .dataframe tbody tr th {\n",
              "        vertical-align: top;\n",
              "    }\n",
              "\n",
              "    .dataframe thead th {\n",
              "        text-align: right;\n",
              "    }\n",
              "</style>\n",
              "<table border=\"1\" class=\"dataframe\">\n",
              "  <thead>\n",
              "    <tr style=\"text-align: right;\">\n",
              "      <th></th>\n",
              "      <th>料理名</th>\n",
              "      <th>n_cluster</th>\n",
              "    </tr>\n",
              "  </thead>\n",
              "  <tbody>\n",
              "    <tr>\n",
              "      <th>0</th>\n",
              "      <td>ごはん（中茶碗1杯）</td>\n",
              "      <td>9.0</td>\n",
              "    </tr>\n",
              "    <tr>\n",
              "      <th>1</th>\n",
              "      <td>麦ごはん</td>\n",
              "      <td>9.0</td>\n",
              "    </tr>\n",
              "    <tr>\n",
              "      <th>2</th>\n",
              "      <td>きのこたっぷり混ぜご飯</td>\n",
              "      <td>9.0</td>\n",
              "    </tr>\n",
              "    <tr>\n",
              "      <th>3</th>\n",
              "      <td>五目炊き込みご飯</td>\n",
              "      <td>2.0</td>\n",
              "    </tr>\n",
              "    <tr>\n",
              "      <th>4</th>\n",
              "      <td>赤飯</td>\n",
              "      <td>1.0</td>\n",
              "    </tr>\n",
              "  </tbody>\n",
              "</table>\n",
              "</div>"
            ],
            "text/plain": [
              "           料理名  n_cluster\n",
              "0   ごはん（中茶碗1杯）        9.0\n",
              "1         麦ごはん        9.0\n",
              "2  きのこたっぷり混ぜご飯        9.0\n",
              "3     五目炊き込みご飯        2.0\n",
              "4           赤飯        1.0"
            ]
          },
          "metadata": {},
          "execution_count": 24
        }
      ]
    },
    {
      "cell_type": "markdown",
      "metadata": {
        "id": "G3Z03_rvz9O3"
      },
      "source": [
        "### 結果の考察"
      ]
    },
    {
      "cell_type": "code",
      "metadata": {
        "colab": {
          "base_uri": "https://localhost:8080/",
          "height": 390
        },
        "id": "35sGgqFv0Jgf",
        "outputId": "6132f9ff-e1a6-4cb9-8a00-a23c320bc971"
      },
      "source": [
        "# 空のデータフレームを作成\n",
        "df_result_ntr = pd.DataFrame()\n",
        "\n",
        "df_ntr = df_drop_ntr_nan[['エネルギー[キロカロリー]', 'たんぱく質[グラム]', '炭水化物[グラム]', '脂質[グラム]', 'カルシウム[mg]', '鉄分[mg]', 'ビタミンA[ug]', 'ビタミンB1[mg]', 'ビタミンB2[mg]', 'ビタミンC[mg]', 'n_cluster']]\n",
        "\n",
        "df_result_ntr['cluster 0'] = df_ntr[df_ntr['n_cluster'] == 0].mean().tolist()\n",
        "df_result_ntr['cluster 1'] = df_ntr[df_ntr['n_cluster'] == 1].mean().tolist()\n",
        "df_result_ntr['cluster 2'] = df_ntr[df_ntr['n_cluster'] == 2].mean().tolist()\n",
        "\n",
        "df_result_ntr"
      ],
      "execution_count": 25,
      "outputs": [
        {
          "output_type": "execute_result",
          "data": {
            "text/html": [
              "<div>\n",
              "<style scoped>\n",
              "    .dataframe tbody tr th:only-of-type {\n",
              "        vertical-align: middle;\n",
              "    }\n",
              "\n",
              "    .dataframe tbody tr th {\n",
              "        vertical-align: top;\n",
              "    }\n",
              "\n",
              "    .dataframe thead th {\n",
              "        text-align: right;\n",
              "    }\n",
              "</style>\n",
              "<table border=\"1\" class=\"dataframe\">\n",
              "  <thead>\n",
              "    <tr style=\"text-align: right;\">\n",
              "      <th></th>\n",
              "      <th>cluster 0</th>\n",
              "      <th>cluster 1</th>\n",
              "      <th>cluster 2</th>\n",
              "    </tr>\n",
              "  </thead>\n",
              "  <tbody>\n",
              "    <tr>\n",
              "      <th>0</th>\n",
              "      <td>525.307692</td>\n",
              "      <td>68.8400</td>\n",
              "      <td>244.306122</td>\n",
              "    </tr>\n",
              "    <tr>\n",
              "      <th>1</th>\n",
              "      <td>19.830769</td>\n",
              "      <td>2.8440</td>\n",
              "      <td>14.083673</td>\n",
              "    </tr>\n",
              "    <tr>\n",
              "      <th>2</th>\n",
              "      <td>67.092308</td>\n",
              "      <td>9.3420</td>\n",
              "      <td>17.593878</td>\n",
              "    </tr>\n",
              "    <tr>\n",
              "      <th>3</th>\n",
              "      <td>17.715385</td>\n",
              "      <td>2.4060</td>\n",
              "      <td>11.985714</td>\n",
              "    </tr>\n",
              "    <tr>\n",
              "      <th>4</th>\n",
              "      <td>89.076923</td>\n",
              "      <td>58.1800</td>\n",
              "      <td>52.510204</td>\n",
              "    </tr>\n",
              "    <tr>\n",
              "      <th>5</th>\n",
              "      <td>2.153846</td>\n",
              "      <td>0.6840</td>\n",
              "      <td>0.895918</td>\n",
              "    </tr>\n",
              "    <tr>\n",
              "      <th>6</th>\n",
              "      <td>126.769231</td>\n",
              "      <td>54.1800</td>\n",
              "      <td>49.816327</td>\n",
              "    </tr>\n",
              "    <tr>\n",
              "      <th>7</th>\n",
              "      <td>0.260769</td>\n",
              "      <td>0.0610</td>\n",
              "      <td>0.151633</td>\n",
              "    </tr>\n",
              "    <tr>\n",
              "      <th>8</th>\n",
              "      <td>0.298462</td>\n",
              "      <td>0.0866</td>\n",
              "      <td>0.162449</td>\n",
              "    </tr>\n",
              "    <tr>\n",
              "      <th>9</th>\n",
              "      <td>10.923077</td>\n",
              "      <td>12.0200</td>\n",
              "      <td>13.183673</td>\n",
              "    </tr>\n",
              "    <tr>\n",
              "      <th>10</th>\n",
              "      <td>0.000000</td>\n",
              "      <td>1.0000</td>\n",
              "      <td>2.000000</td>\n",
              "    </tr>\n",
              "  </tbody>\n",
              "</table>\n",
              "</div>"
            ],
            "text/plain": [
              "     cluster 0  cluster 1   cluster 2\n",
              "0   525.307692    68.8400  244.306122\n",
              "1    19.830769     2.8440   14.083673\n",
              "2    67.092308     9.3420   17.593878\n",
              "3    17.715385     2.4060   11.985714\n",
              "4    89.076923    58.1800   52.510204\n",
              "5     2.153846     0.6840    0.895918\n",
              "6   126.769231    54.1800   49.816327\n",
              "7     0.260769     0.0610    0.151633\n",
              "8     0.298462     0.0866    0.162449\n",
              "9    10.923077    12.0200   13.183673\n",
              "10    0.000000     1.0000    2.000000"
            ]
          },
          "metadata": {},
          "execution_count": 25
        }
      ]
    },
    {
      "cell_type": "code",
      "metadata": {
        "colab": {
          "base_uri": "https://localhost:8080/",
          "height": 142
        },
        "id": "nf5AcSLR3GFT",
        "outputId": "bb0ed5ec-4aba-458c-ef2b-97a5bcf172ee"
      },
      "source": [
        "# 転置\n",
        "df_result_ntr = df_result_ntr.set_index(df_ntr.columns)\n",
        "df_result_ntr = df_result_ntr.T\n",
        "df_result_ntr"
      ],
      "execution_count": 26,
      "outputs": [
        {
          "output_type": "execute_result",
          "data": {
            "text/html": [
              "<div>\n",
              "<style scoped>\n",
              "    .dataframe tbody tr th:only-of-type {\n",
              "        vertical-align: middle;\n",
              "    }\n",
              "\n",
              "    .dataframe tbody tr th {\n",
              "        vertical-align: top;\n",
              "    }\n",
              "\n",
              "    .dataframe thead th {\n",
              "        text-align: right;\n",
              "    }\n",
              "</style>\n",
              "<table border=\"1\" class=\"dataframe\">\n",
              "  <thead>\n",
              "    <tr style=\"text-align: right;\">\n",
              "      <th></th>\n",
              "      <th>エネルギー[キロカロリー]</th>\n",
              "      <th>たんぱく質[グラム]</th>\n",
              "      <th>炭水化物[グラム]</th>\n",
              "      <th>脂質[グラム]</th>\n",
              "      <th>カルシウム[mg]</th>\n",
              "      <th>鉄分[mg]</th>\n",
              "      <th>ビタミンA[ug]</th>\n",
              "      <th>ビタミンB1[mg]</th>\n",
              "      <th>ビタミンB2[mg]</th>\n",
              "      <th>ビタミンC[mg]</th>\n",
              "      <th>n_cluster</th>\n",
              "    </tr>\n",
              "  </thead>\n",
              "  <tbody>\n",
              "    <tr>\n",
              "      <th>cluster 0</th>\n",
              "      <td>525.307692</td>\n",
              "      <td>19.830769</td>\n",
              "      <td>67.092308</td>\n",
              "      <td>17.715385</td>\n",
              "      <td>89.076923</td>\n",
              "      <td>2.153846</td>\n",
              "      <td>126.769231</td>\n",
              "      <td>0.260769</td>\n",
              "      <td>0.298462</td>\n",
              "      <td>10.923077</td>\n",
              "      <td>0.0</td>\n",
              "    </tr>\n",
              "    <tr>\n",
              "      <th>cluster 1</th>\n",
              "      <td>68.840000</td>\n",
              "      <td>2.844000</td>\n",
              "      <td>9.342000</td>\n",
              "      <td>2.406000</td>\n",
              "      <td>58.180000</td>\n",
              "      <td>0.684000</td>\n",
              "      <td>54.180000</td>\n",
              "      <td>0.061000</td>\n",
              "      <td>0.086600</td>\n",
              "      <td>12.020000</td>\n",
              "      <td>1.0</td>\n",
              "    </tr>\n",
              "    <tr>\n",
              "      <th>cluster 2</th>\n",
              "      <td>244.306122</td>\n",
              "      <td>14.083673</td>\n",
              "      <td>17.593878</td>\n",
              "      <td>11.985714</td>\n",
              "      <td>52.510204</td>\n",
              "      <td>0.895918</td>\n",
              "      <td>49.816327</td>\n",
              "      <td>0.151633</td>\n",
              "      <td>0.162449</td>\n",
              "      <td>13.183673</td>\n",
              "      <td>2.0</td>\n",
              "    </tr>\n",
              "  </tbody>\n",
              "</table>\n",
              "</div>"
            ],
            "text/plain": [
              "           エネルギー[キロカロリー]  たんぱく質[グラム]  ...  ビタミンC[mg]  n_cluster\n",
              "cluster 0     525.307692   19.830769  ...  10.923077        0.0\n",
              "cluster 1      68.840000    2.844000  ...  12.020000        1.0\n",
              "cluster 2     244.306122   14.083673  ...  13.183673        2.0\n",
              "\n",
              "[3 rows x 11 columns]"
            ]
          },
          "metadata": {},
          "execution_count": 26
        }
      ]
    },
    {
      "cell_type": "markdown",
      "metadata": {
        "id": "lYJ0ZDNh6AcC"
      },
      "source": [
        "### ラベル予測モデルの作成"
      ]
    },
    {
      "cell_type": "code",
      "metadata": {
        "colab": {
          "base_uri": "https://localhost:8080/"
        },
        "id": "hQI6fCgG5-8R",
        "outputId": "8336c2a0-c8ea-4e14-a2c3-f2665518e974"
      },
      "source": [
        "# データ型の確認\n",
        "type(x_n), type(x_n_norm), type(cluster_ntr)"
      ],
      "execution_count": 27,
      "outputs": [
        {
          "output_type": "execute_result",
          "data": {
            "text/plain": [
              "(numpy.ndarray, numpy.ndarray, numpy.ndarray)"
            ]
          },
          "metadata": {},
          "execution_count": 27
        }
      ]
    },
    {
      "cell_type": "code",
      "metadata": {
        "colab": {
          "base_uri": "https://localhost:8080/"
        },
        "id": "YHsJ7UJr6JAB",
        "outputId": "e26879fb-6e68-437d-8c06-6e669a2a6f1c"
      },
      "source": [
        "# データサイズの確認\n",
        "x_n.shape, x_n_norm.shape, cluster_ntr.shape"
      ],
      "execution_count": 28,
      "outputs": [
        {
          "output_type": "execute_result",
          "data": {
            "text/plain": [
              "((112, 10), (112, 10), (112,))"
            ]
          },
          "metadata": {},
          "execution_count": 28
        }
      ]
    },
    {
      "cell_type": "markdown",
      "metadata": {
        "id": "jvCsqtCt6XBt"
      },
      "source": [
        "### ランダムフォレスト"
      ]
    },
    {
      "cell_type": "code",
      "metadata": {
        "colab": {
          "base_uri": "https://localhost:8080/"
        },
        "id": "C5dOmizG6m2O",
        "outputId": "5b46a10e-22a8-4ba4-88eb-9cc466ffe146"
      },
      "source": [
        "# ハイパーパラメータチューニング\n",
        "!pip install optuna\n",
        "\n",
        "import optuna\n",
        "# K-分割交差検証\n",
        "from sklearn.model_selection import cross_val_score"
      ],
      "execution_count": 29,
      "outputs": [
        {
          "output_type": "stream",
          "name": "stdout",
          "text": [
            "Collecting optuna\n",
            "  Downloading optuna-2.9.1-py3-none-any.whl (302 kB)\n",
            "\u001b[?25l\r\u001b[K     |█                               | 10 kB 26.3 MB/s eta 0:00:01\r\u001b[K     |██▏                             | 20 kB 7.4 MB/s eta 0:00:01\r\u001b[K     |███▎                            | 30 kB 5.3 MB/s eta 0:00:01\r\u001b[K     |████▎                           | 40 kB 5.0 MB/s eta 0:00:01\r\u001b[K     |█████▍                          | 51 kB 2.5 MB/s eta 0:00:01\r\u001b[K     |██████▌                         | 61 kB 2.8 MB/s eta 0:00:01\r\u001b[K     |███████▋                        | 71 kB 2.8 MB/s eta 0:00:01\r\u001b[K     |████████▋                       | 81 kB 3.2 MB/s eta 0:00:01\r\u001b[K     |█████████▊                      | 92 kB 3.4 MB/s eta 0:00:01\r\u001b[K     |██████████▉                     | 102 kB 2.6 MB/s eta 0:00:01\r\u001b[K     |████████████                    | 112 kB 2.6 MB/s eta 0:00:01\r\u001b[K     |█████████████                   | 122 kB 2.6 MB/s eta 0:00:01\r\u001b[K     |██████████████                  | 133 kB 2.6 MB/s eta 0:00:01\r\u001b[K     |███████████████▏                | 143 kB 2.6 MB/s eta 0:00:01\r\u001b[K     |████████████████▎               | 153 kB 2.6 MB/s eta 0:00:01\r\u001b[K     |█████████████████▎              | 163 kB 2.6 MB/s eta 0:00:01\r\u001b[K     |██████████████████▍             | 174 kB 2.6 MB/s eta 0:00:01\r\u001b[K     |███████████████████▌            | 184 kB 2.6 MB/s eta 0:00:01\r\u001b[K     |████████████████████▋           | 194 kB 2.6 MB/s eta 0:00:01\r\u001b[K     |█████████████████████▋          | 204 kB 2.6 MB/s eta 0:00:01\r\u001b[K     |██████████████████████▊         | 215 kB 2.6 MB/s eta 0:00:01\r\u001b[K     |███████████████████████▉        | 225 kB 2.6 MB/s eta 0:00:01\r\u001b[K     |█████████████████████████       | 235 kB 2.6 MB/s eta 0:00:01\r\u001b[K     |██████████████████████████      | 245 kB 2.6 MB/s eta 0:00:01\r\u001b[K     |███████████████████████████     | 256 kB 2.6 MB/s eta 0:00:01\r\u001b[K     |████████████████████████████▏   | 266 kB 2.6 MB/s eta 0:00:01\r\u001b[K     |█████████████████████████████▎  | 276 kB 2.6 MB/s eta 0:00:01\r\u001b[K     |██████████████████████████████▎ | 286 kB 2.6 MB/s eta 0:00:01\r\u001b[K     |███████████████████████████████▍| 296 kB 2.6 MB/s eta 0:00:01\r\u001b[K     |████████████████████████████████| 302 kB 2.6 MB/s \n",
            "\u001b[?25hRequirement already satisfied: numpy in /usr/local/lib/python3.7/dist-packages (from optuna) (1.19.5)\n",
            "Requirement already satisfied: packaging>=20.0 in /usr/local/lib/python3.7/dist-packages (from optuna) (21.0)\n",
            "Collecting cmaes>=0.8.2\n",
            "  Downloading cmaes-0.8.2-py3-none-any.whl (15 kB)\n",
            "Collecting cliff\n",
            "  Downloading cliff-3.9.0-py3-none-any.whl (80 kB)\n",
            "\u001b[K     |████████████████████████████████| 80 kB 9.7 MB/s \n",
            "\u001b[?25hRequirement already satisfied: sqlalchemy>=1.1.0 in /usr/local/lib/python3.7/dist-packages (from optuna) (1.4.22)\n",
            "Requirement already satisfied: PyYAML in /usr/local/lib/python3.7/dist-packages (from optuna) (3.13)\n",
            "Collecting alembic\n",
            "  Downloading alembic-1.7.1-py3-none-any.whl (208 kB)\n",
            "\u001b[K     |████████████████████████████████| 208 kB 56.2 MB/s \n",
            "\u001b[?25hRequirement already satisfied: tqdm in /usr/local/lib/python3.7/dist-packages (from optuna) (4.62.0)\n",
            "Collecting colorlog\n",
            "  Downloading colorlog-6.4.1-py2.py3-none-any.whl (11 kB)\n",
            "Requirement already satisfied: scipy!=1.4.0 in /usr/local/lib/python3.7/dist-packages (from optuna) (1.4.1)\n",
            "Requirement already satisfied: pyparsing>=2.0.2 in /usr/local/lib/python3.7/dist-packages (from packaging>=20.0->optuna) (2.4.7)\n",
            "Requirement already satisfied: greenlet!=0.4.17 in /usr/local/lib/python3.7/dist-packages (from sqlalchemy>=1.1.0->optuna) (1.1.1)\n",
            "Requirement already satisfied: importlib-metadata in /usr/local/lib/python3.7/dist-packages (from sqlalchemy>=1.1.0->optuna) (4.6.4)\n",
            "Requirement already satisfied: importlib-resources in /usr/local/lib/python3.7/dist-packages (from alembic->optuna) (5.2.2)\n",
            "Collecting Mako\n",
            "  Downloading Mako-1.1.5-py2.py3-none-any.whl (75 kB)\n",
            "\u001b[K     |████████████████████████████████| 75 kB 4.5 MB/s \n",
            "\u001b[?25hCollecting pbr!=2.1.0,>=2.0.0\n",
            "  Downloading pbr-5.6.0-py2.py3-none-any.whl (111 kB)\n",
            "\u001b[K     |████████████████████████████████| 111 kB 71.9 MB/s \n",
            "\u001b[?25hCollecting autopage>=0.4.0\n",
            "  Downloading autopage-0.4.0-py3-none-any.whl (20 kB)\n",
            "Requirement already satisfied: PrettyTable>=0.7.2 in /usr/local/lib/python3.7/dist-packages (from cliff->optuna) (2.1.0)\n",
            "Collecting cmd2>=1.0.0\n",
            "  Downloading cmd2-2.1.2-py3-none-any.whl (141 kB)\n",
            "\u001b[K     |████████████████████████████████| 141 kB 64.7 MB/s \n",
            "\u001b[?25hCollecting stevedore>=2.0.1\n",
            "  Downloading stevedore-3.4.0-py3-none-any.whl (49 kB)\n",
            "\u001b[K     |████████████████████████████████| 49 kB 6.2 MB/s \n",
            "\u001b[?25hCollecting colorama>=0.3.7\n",
            "  Downloading colorama-0.4.4-py2.py3-none-any.whl (16 kB)\n",
            "Requirement already satisfied: typing-extensions in /usr/local/lib/python3.7/dist-packages (from cmd2>=1.0.0->cliff->optuna) (3.7.4.3)\n",
            "Requirement already satisfied: attrs>=16.3.0 in /usr/local/lib/python3.7/dist-packages (from cmd2>=1.0.0->cliff->optuna) (21.2.0)\n",
            "Collecting pyperclip>=1.6\n",
            "  Downloading pyperclip-1.8.2.tar.gz (20 kB)\n",
            "Requirement already satisfied: wcwidth>=0.1.7 in /usr/local/lib/python3.7/dist-packages (from cmd2>=1.0.0->cliff->optuna) (0.2.5)\n",
            "Requirement already satisfied: zipp>=0.5 in /usr/local/lib/python3.7/dist-packages (from importlib-metadata->sqlalchemy>=1.1.0->optuna) (3.5.0)\n",
            "Requirement already satisfied: MarkupSafe>=0.9.2 in /usr/local/lib/python3.7/dist-packages (from Mako->alembic->optuna) (2.0.1)\n",
            "Building wheels for collected packages: pyperclip\n",
            "  Building wheel for pyperclip (setup.py) ... \u001b[?25l\u001b[?25hdone\n",
            "  Created wheel for pyperclip: filename=pyperclip-1.8.2-py3-none-any.whl size=11136 sha256=98f1d7f6f6910e1429be235a33c58c8e62d169332af55b7f32db39a8401f173b\n",
            "  Stored in directory: /root/.cache/pip/wheels/9f/18/84/8f69f8b08169c7bae2dde6bd7daf0c19fca8c8e500ee620a28\n",
            "Successfully built pyperclip\n",
            "Installing collected packages: pyperclip, pbr, colorama, stevedore, Mako, cmd2, autopage, colorlog, cmaes, cliff, alembic, optuna\n",
            "Successfully installed Mako-1.1.5 alembic-1.7.1 autopage-0.4.0 cliff-3.9.0 cmaes-0.8.2 cmd2-2.1.2 colorama-0.4.4 colorlog-6.4.1 optuna-2.9.1 pbr-5.6.0 pyperclip-1.8.2 stevedore-3.4.0\n"
          ]
        }
      ]
    },
    {
      "cell_type": "code",
      "metadata": {
        "id": "zybuwN4m63vu"
      },
      "source": [
        "from sklearn.ensemble import RandomForestClassifier"
      ],
      "execution_count": 30,
      "outputs": []
    },
    {
      "cell_type": "code",
      "metadata": {
        "id": "X_shXd_p67RY"
      },
      "source": [
        "def objective(trial, x, t, cv):\n",
        "    # 1. ハイパーパラメータごとに探索範囲を指定\n",
        "    n_estimators = trial.suggest_int('n_estimators', 1, 20)\n",
        "    criterion = trial.suggest_categorical('criterion', ['gini', 'entropy'])\n",
        "    max_depth = trial.suggest_int('max_depth', 2, 30)\n",
        "    max_features = trial.suggest_categorical('max_features', ['sqrt', 'log2', 'auto'])\n",
        "\n",
        "    # 2. 学習に使用するアルゴリズムを指定\n",
        "    estimator = RandomForestClassifier(\n",
        "      n_estimators = n_estimators,\n",
        "      criterion = criterion,\n",
        "      max_depth = max_depth,\n",
        "      max_features = max_features,\n",
        "      random_state = 0\n",
        "    )\n",
        "\n",
        "    # 3. 学習の実行、検証結果の表示\n",
        "    print('Current_params : ', trial.params)\n",
        "    accuracy = cross_val_score(estimator, x, t, cv=cv).mean()\n",
        "    return accuracy"
      ],
      "execution_count": 31,
      "outputs": []
    },
    {
      "cell_type": "code",
      "metadata": {
        "colab": {
          "base_uri": "https://localhost:8080/"
        },
        "id": "qJYkhOrz7Tnu",
        "outputId": "f2819f37-530d-476c-f5f8-69e801e8ec76"
      },
      "source": [
        "# study オブジェクトの作成（最大化）\n",
        "study_ntr = optuna.create_study(direction='maximize', sampler=optuna.samplers.TPESampler(seed=42))"
      ],
      "execution_count": 32,
      "outputs": [
        {
          "output_type": "stream",
          "name": "stderr",
          "text": [
            "\u001b[32m[I 2021-09-04 10:15:12,834]\u001b[0m A new study created in memory with name: no-name-4ce7873c-9a09-4aa9-9703-6dd4a6d526a7\u001b[0m\n"
          ]
        }
      ]
    },
    {
      "cell_type": "code",
      "metadata": {
        "colab": {
          "base_uri": "https://localhost:8080/"
        },
        "id": "3--xjFb77oTX",
        "outputId": "48d55bec-a40b-4f9c-eb0b-d986401910aa"
      },
      "source": [
        "# K 分割交差検証の K\n",
        "cv = 5\n",
        "# 目的関数の最適化\n",
        "## lambdaで追加の引数（学習データ）を渡す\n",
        "study_ntr.optimize(lambda trial: objective(trial, x_n, cluster_ntr, cv), n_trials=10)\n",
        "\n",
        "print(study_ntr.best_trial)"
      ],
      "execution_count": 33,
      "outputs": [
        {
          "output_type": "stream",
          "name": "stderr",
          "text": [
            "\u001b[32m[I 2021-09-04 10:15:12,947]\u001b[0m Trial 0 finished with value: 0.8853754940711462 and parameters: {'n_estimators': 8, 'criterion': 'gini', 'max_depth': 19, 'max_features': 'sqrt'}. Best is trial 0 with value: 0.8853754940711462.\u001b[0m\n"
          ]
        },
        {
          "output_type": "stream",
          "name": "stdout",
          "text": [
            "Current_params :  {'n_estimators': 8, 'criterion': 'gini', 'max_depth': 19, 'max_features': 'sqrt'}\n",
            "Current_params :  {'n_estimators': 18, 'criterion': 'entropy', 'max_depth': 2, 'max_features': 'sqrt'}\n"
          ]
        },
        {
          "output_type": "stream",
          "name": "stderr",
          "text": [
            "\u001b[32m[I 2021-09-04 10:15:13,104]\u001b[0m Trial 1 finished with value: 0.8841897233201582 and parameters: {'n_estimators': 18, 'criterion': 'entropy', 'max_depth': 2, 'max_features': 'sqrt'}. Best is trial 0 with value: 0.8853754940711462.\u001b[0m\n",
            "\u001b[32m[I 2021-09-04 10:15:13,153]\u001b[0m Trial 2 finished with value: 0.9367588932806324 and parameters: {'n_estimators': 4, 'criterion': 'entropy', 'max_depth': 17, 'max_features': 'auto'}. Best is trial 2 with value: 0.9367588932806324.\u001b[0m\n",
            "\u001b[32m[I 2021-09-04 10:15:13,195]\u001b[0m Trial 3 finished with value: 0.9019762845849802 and parameters: {'n_estimators': 3, 'criterion': 'entropy', 'max_depth': 15, 'max_features': 'sqrt'}. Best is trial 2 with value: 0.9367588932806324.\u001b[0m\n",
            "\u001b[32m[I 2021-09-04 10:15:13,303]\u001b[0m Trial 4 finished with value: 0.8758893280632412 and parameters: {'n_estimators': 12, 'criterion': 'entropy', 'max_depth': 6, 'max_features': 'auto'}. Best is trial 2 with value: 0.9367588932806324.\u001b[0m\n"
          ]
        },
        {
          "output_type": "stream",
          "name": "stdout",
          "text": [
            "Current_params :  {'n_estimators': 4, 'criterion': 'entropy', 'max_depth': 17, 'max_features': 'auto'}\n",
            "Current_params :  {'n_estimators': 3, 'criterion': 'entropy', 'max_depth': 15, 'max_features': 'sqrt'}\n",
            "Current_params :  {'n_estimators': 12, 'criterion': 'entropy', 'max_depth': 6, 'max_features': 'auto'}\n",
            "Current_params :  {'n_estimators': 17, 'criterion': 'gini', 'max_depth': 21, 'max_features': 'auto'}\n"
          ]
        },
        {
          "output_type": "stream",
          "name": "stderr",
          "text": [
            "\u001b[32m[I 2021-09-04 10:15:13,450]\u001b[0m Trial 5 finished with value: 0.875889328063241 and parameters: {'n_estimators': 17, 'criterion': 'gini', 'max_depth': 21, 'max_features': 'auto'}. Best is trial 2 with value: 0.9367588932806324.\u001b[0m\n",
            "\u001b[32m[I 2021-09-04 10:15:13,475]\u001b[0m Trial 6 finished with value: 0.8565217391304347 and parameters: {'n_estimators': 1, 'criterion': 'gini', 'max_depth': 21, 'max_features': 'auto'}. Best is trial 2 with value: 0.9367588932806324.\u001b[0m\n",
            "\u001b[32m[I 2021-09-04 10:15:13,528]\u001b[0m Trial 7 finished with value: 0.9102766798418973 and parameters: {'n_estimators': 4, 'criterion': 'gini', 'max_depth': 29, 'max_features': 'auto'}. Best is trial 2 with value: 0.9367588932806324.\u001b[0m\n",
            "\u001b[32m[I 2021-09-04 10:15:13,560]\u001b[0m Trial 8 finished with value: 0.8735177865612649 and parameters: {'n_estimators': 2, 'criterion': 'gini', 'max_depth': 11, 'max_features': 'auto'}. Best is trial 2 with value: 0.9367588932806324.\u001b[0m\n",
            "\u001b[32m[I 2021-09-04 10:15:13,640]\u001b[0m Trial 9 finished with value: 0.8581027667984189 and parameters: {'n_estimators': 8, 'criterion': 'entropy', 'max_depth': 6, 'max_features': 'auto'}. Best is trial 2 with value: 0.9367588932806324.\u001b[0m\n"
          ]
        },
        {
          "output_type": "stream",
          "name": "stdout",
          "text": [
            "Current_params :  {'n_estimators': 1, 'criterion': 'gini', 'max_depth': 21, 'max_features': 'auto'}\n",
            "Current_params :  {'n_estimators': 4, 'criterion': 'gini', 'max_depth': 29, 'max_features': 'auto'}\n",
            "Current_params :  {'n_estimators': 2, 'criterion': 'gini', 'max_depth': 11, 'max_features': 'auto'}\n",
            "Current_params :  {'n_estimators': 8, 'criterion': 'entropy', 'max_depth': 6, 'max_features': 'auto'}\n",
            "FrozenTrial(number=2, values=[0.9367588932806324], datetime_start=datetime.datetime(2021, 9, 4, 10, 15, 13, 106554), datetime_complete=datetime.datetime(2021, 9, 4, 10, 15, 13, 153048), params={'n_estimators': 4, 'criterion': 'entropy', 'max_depth': 17, 'max_features': 'auto'}, distributions={'n_estimators': IntUniformDistribution(high=20, low=1, step=1), 'criterion': CategoricalDistribution(choices=('gini', 'entropy')), 'max_depth': IntUniformDistribution(high=30, low=2, step=1), 'max_features': CategoricalDistribution(choices=('sqrt', 'log2', 'auto'))}, user_attrs={}, system_attrs={}, intermediate_values={}, trial_id=2, state=TrialState.COMPLETE, value=None)\n"
          ]
        }
      ]
    },
    {
      "cell_type": "code",
      "metadata": {
        "colab": {
          "base_uri": "https://localhost:8080/"
        },
        "id": "yU1EVrqn7vqO",
        "outputId": "1361208d-e074-44c0-acd1-49dcd5ad115f"
      },
      "source": [
        "study_ntr.best_params"
      ],
      "execution_count": 34,
      "outputs": [
        {
          "output_type": "execute_result",
          "data": {
            "text/plain": [
              "{'criterion': 'entropy',\n",
              " 'max_depth': 17,\n",
              " 'max_features': 'auto',\n",
              " 'n_estimators': 4}"
            ]
          },
          "metadata": {},
          "execution_count": 34
        }
      ]
    },
    {
      "cell_type": "markdown",
      "metadata": {
        "id": "O1RLz1TU77mV"
      },
      "source": [
        "#### モデルの作成"
      ]
    },
    {
      "cell_type": "code",
      "metadata": {
        "colab": {
          "base_uri": "https://localhost:8080/"
        },
        "id": "svcMDNRt755i",
        "outputId": "8e1474ba-786c-46da-be50-914fb0804875"
      },
      "source": [
        "from sklearn.ensemble import RandomForestClassifier\n",
        "\n",
        "model_ntr = RandomForestClassifier(n_estimators=4, max_depth=17, max_features='auto', criterion='entropy', random_state=0)\n",
        "model_ntr.fit(x_n, cluster_ntr)\n",
        "\n",
        "print('train score :', model_ntr.score(x_n, cluster_ntr))\n",
        "#print('test score :', model.score(x_test, t_test))\""
      ],
      "execution_count": 35,
      "outputs": [
        {
          "output_type": "stream",
          "name": "stdout",
          "text": [
            "train score : 0.9553571428571429\n"
          ]
        }
      ]
    },
    {
      "cell_type": "code",
      "metadata": {
        "id": "GpbrfxnqhZmA"
      },
      "source": [
        "import pickle\n",
        "# モデルの保存\n",
        "with open('/content/drive/MyDrive/Colab Notebooks/kikagaku/AI長期コース/0_自走アプリ/recipe_classifier_ntr.pkl', 'wb') as f:\n",
        "    pickle.dump(model_ntr, f)"
      ],
      "execution_count": 36,
      "outputs": []
    },
    {
      "cell_type": "markdown",
      "metadata": {
        "id": "QDIVU1oeT1kz"
      },
      "source": [
        "# ■２．材料と調理工程"
      ]
    },
    {
      "cell_type": "code",
      "metadata": {
        "colab": {
          "base_uri": "https://localhost:8080/",
          "height": 768
        },
        "id": "zSqzCJ2T-iru",
        "outputId": "c2f2abf8-c91f-4598-aaa5-691e15ce5844"
      },
      "source": [
        "df_ing_and_pro = df_origin.drop(['食塩相当量[グラム]', '野菜量[グラム]','エネルギー[キロカロリー]', 'たんぱく質[グラム]', '炭水化物[グラム]', '脂質[グラム]', 'カルシウム[mg]', '鉄分[mg]', 'ビタミンA[ug]', 'ビタミンB1[mg]', 'ビタミンB2[mg]', 'ビタミンC[mg]'], axis=1)\n",
        "df_ing_and_pro = df_ing_and_pro.fillna({\n",
        "    '調理工程': ''\n",
        "})\n",
        "df_ing_and_pro.head()"
      ],
      "execution_count": 37,
      "outputs": [
        {
          "output_type": "execute_result",
          "data": {
            "text/html": [
              "<div>\n",
              "<style scoped>\n",
              "    .dataframe tbody tr th:only-of-type {\n",
              "        vertical-align: middle;\n",
              "    }\n",
              "\n",
              "    .dataframe tbody tr th {\n",
              "        vertical-align: top;\n",
              "    }\n",
              "\n",
              "    .dataframe thead th {\n",
              "        text-align: right;\n",
              "    }\n",
              "</style>\n",
              "<table border=\"1\" class=\"dataframe\">\n",
              "  <thead>\n",
              "    <tr style=\"text-align: right;\">\n",
              "      <th></th>\n",
              "      <th>料理の種類</th>\n",
              "      <th>料理名</th>\n",
              "      <th>調理工程</th>\n",
              "      <th>材料1＿材料名</th>\n",
              "      <th>材料1＿重量[グラム]</th>\n",
              "      <th>材料2＿材料名</th>\n",
              "      <th>材料2＿重量[グラム]</th>\n",
              "      <th>材料3＿材料名</th>\n",
              "      <th>材料3＿重量[グラム]</th>\n",
              "      <th>材料4＿材料名</th>\n",
              "      <th>材料4＿重量[グラム]</th>\n",
              "      <th>材料5＿材料名</th>\n",
              "      <th>材料5＿重量[グラム]</th>\n",
              "      <th>材料6＿材料名</th>\n",
              "      <th>材料6＿重量[グラム]</th>\n",
              "      <th>材料7＿材料名</th>\n",
              "      <th>材料7＿重量[グラム]</th>\n",
              "      <th>材料8＿材料名</th>\n",
              "      <th>材料8＿重量[グラム]</th>\n",
              "      <th>材料9＿材料名</th>\n",
              "      <th>材料9＿重量[グラム]</th>\n",
              "      <th>材料10＿材料名</th>\n",
              "      <th>材料10＿重量[グラム]</th>\n",
              "      <th>材料11＿材料名</th>\n",
              "      <th>材料11＿重量[グラム]</th>\n",
              "      <th>材料12＿材料名</th>\n",
              "      <th>材料12＿重量[グラム]</th>\n",
              "      <th>材料13＿材料名</th>\n",
              "      <th>材料13＿重量[グラム]</th>\n",
              "      <th>材料14＿材料名</th>\n",
              "      <th>材料14＿重量[グラム]</th>\n",
              "      <th>材料15＿材料名</th>\n",
              "      <th>材料15＿重量[グラム]</th>\n",
              "      <th>材料16＿材料名</th>\n",
              "      <th>材料16＿重量[グラム]</th>\n",
              "      <th>材料17＿材料名</th>\n",
              "      <th>材料17＿重量[グラム]</th>\n",
              "      <th>材料18＿材料名</th>\n",
              "      <th>材料18＿重量[グラム]</th>\n",
              "      <th>材料19＿材料名</th>\n",
              "      <th>材料19＿重量[グラム]</th>\n",
              "      <th>材料20＿材料名</th>\n",
              "      <th>材料20＿重量[グラム]</th>\n",
              "    </tr>\n",
              "  </thead>\n",
              "  <tbody>\n",
              "    <tr>\n",
              "      <th>0</th>\n",
              "      <td>ごはん</td>\n",
              "      <td>ごはん（中茶碗1杯）</td>\n",
              "      <td></td>\n",
              "      <td>めし・精白米（水稲）</td>\n",
              "      <td>150</td>\n",
              "      <td>NaN</td>\n",
              "      <td>NaN</td>\n",
              "      <td>NaN</td>\n",
              "      <td>NaN</td>\n",
              "      <td>NaN</td>\n",
              "      <td>NaN</td>\n",
              "      <td>NaN</td>\n",
              "      <td>NaN</td>\n",
              "      <td>NaN</td>\n",
              "      <td>NaN</td>\n",
              "      <td>NaN</td>\n",
              "      <td>NaN</td>\n",
              "      <td>NaN</td>\n",
              "      <td>NaN</td>\n",
              "      <td>NaN</td>\n",
              "      <td>NaN</td>\n",
              "      <td>NaN</td>\n",
              "      <td>NaN</td>\n",
              "      <td>NaN</td>\n",
              "      <td>NaN</td>\n",
              "      <td>NaN</td>\n",
              "      <td>NaN</td>\n",
              "      <td>NaN</td>\n",
              "      <td>NaN</td>\n",
              "      <td>NaN</td>\n",
              "      <td>NaN</td>\n",
              "      <td>NaN</td>\n",
              "      <td>NaN</td>\n",
              "      <td>NaN</td>\n",
              "      <td>NaN</td>\n",
              "      <td>NaN</td>\n",
              "      <td>NaN</td>\n",
              "      <td>NaN</td>\n",
              "      <td>NaN</td>\n",
              "      <td>NaN</td>\n",
              "      <td>NaN</td>\n",
              "      <td>NaN</td>\n",
              "      <td>NaN</td>\n",
              "    </tr>\n",
              "    <tr>\n",
              "      <th>1</th>\n",
              "      <td>ごはん</td>\n",
              "      <td>麦ごはん</td>\n",
              "      <td></td>\n",
              "      <td>米・精白米（水稲）</td>\n",
              "      <td>60</td>\n",
              "      <td>大麦・押麦</td>\n",
              "      <td>10.0</td>\n",
              "      <td>NaN</td>\n",
              "      <td>NaN</td>\n",
              "      <td>NaN</td>\n",
              "      <td>NaN</td>\n",
              "      <td>NaN</td>\n",
              "      <td>NaN</td>\n",
              "      <td>NaN</td>\n",
              "      <td>NaN</td>\n",
              "      <td>NaN</td>\n",
              "      <td>NaN</td>\n",
              "      <td>NaN</td>\n",
              "      <td>NaN</td>\n",
              "      <td>NaN</td>\n",
              "      <td>NaN</td>\n",
              "      <td>NaN</td>\n",
              "      <td>NaN</td>\n",
              "      <td>NaN</td>\n",
              "      <td>NaN</td>\n",
              "      <td>NaN</td>\n",
              "      <td>NaN</td>\n",
              "      <td>NaN</td>\n",
              "      <td>NaN</td>\n",
              "      <td>NaN</td>\n",
              "      <td>NaN</td>\n",
              "      <td>NaN</td>\n",
              "      <td>NaN</td>\n",
              "      <td>NaN</td>\n",
              "      <td>NaN</td>\n",
              "      <td>NaN</td>\n",
              "      <td>NaN</td>\n",
              "      <td>NaN</td>\n",
              "      <td>NaN</td>\n",
              "      <td>NaN</td>\n",
              "      <td>NaN</td>\n",
              "      <td>NaN</td>\n",
              "      <td>NaN</td>\n",
              "    </tr>\n",
              "    <tr>\n",
              "      <th>2</th>\n",
              "      <td>ごはん</td>\n",
              "      <td>きのこたっぷり混ぜご飯</td>\n",
              "      <td></td>\n",
              "      <td>米・精白米（水稲）</td>\n",
              "      <td>70</td>\n",
              "      <td>えのきたけ＿生</td>\n",
              "      <td>7.0</td>\n",
              "      <td>しめじ・ぶなしめじ＿生</td>\n",
              "      <td>7.0</td>\n",
              "      <td>まいたけ＿生</td>\n",
              "      <td>7.0</td>\n",
              "      <td>油揚げ</td>\n",
              "      <td>5.0</td>\n",
              "      <td>かつお・昆布だし</td>\n",
              "      <td>90.0</td>\n",
              "      <td>こいくちしょうゆ</td>\n",
              "      <td>6.0</td>\n",
              "      <td>みりん風調味料</td>\n",
              "      <td>9.0</td>\n",
              "      <td>清酒・上撰</td>\n",
              "      <td>7.5</td>\n",
              "      <td>糸みつば・葉＿生</td>\n",
              "      <td>2.0</td>\n",
              "      <td>NaN</td>\n",
              "      <td>NaN</td>\n",
              "      <td>NaN</td>\n",
              "      <td>NaN</td>\n",
              "      <td>NaN</td>\n",
              "      <td>NaN</td>\n",
              "      <td>NaN</td>\n",
              "      <td>NaN</td>\n",
              "      <td>NaN</td>\n",
              "      <td>NaN</td>\n",
              "      <td>NaN</td>\n",
              "      <td>NaN</td>\n",
              "      <td>NaN</td>\n",
              "      <td>NaN</td>\n",
              "      <td>NaN</td>\n",
              "      <td>NaN</td>\n",
              "      <td>NaN</td>\n",
              "      <td>NaN</td>\n",
              "      <td>NaN</td>\n",
              "      <td>NaN</td>\n",
              "    </tr>\n",
              "    <tr>\n",
              "      <th>3</th>\n",
              "      <td>ごはん</td>\n",
              "      <td>五目炊き込みご飯</td>\n",
              "      <td></td>\n",
              "      <td>米・精白米（水稲）</td>\n",
              "      <td>66</td>\n",
              "      <td>油揚げ</td>\n",
              "      <td>5.0</td>\n",
              "      <td>にんじん・根、皮つき＿生</td>\n",
              "      <td>7.0</td>\n",
              "      <td>板こんにゃく（精粉こんにゃく）</td>\n",
              "      <td>15.0</td>\n",
              "      <td>ごぼう・根＿生</td>\n",
              "      <td>20.0</td>\n",
              "      <td>生しいたけ＿生</td>\n",
              "      <td>5.0</td>\n",
              "      <td>若鶏・むね、皮なし＿生</td>\n",
              "      <td>25.0</td>\n",
              "      <td>こいくちしょうゆ</td>\n",
              "      <td>3.0</td>\n",
              "      <td>みりん風調味料</td>\n",
              "      <td>3.0</td>\n",
              "      <td>昆布だし</td>\n",
              "      <td>50.0</td>\n",
              "      <td>食塩</td>\n",
              "      <td>0.5</td>\n",
              "      <td>清酒・上撰</td>\n",
              "      <td>1.2</td>\n",
              "      <td>さやいんげん・若ざや＿生</td>\n",
              "      <td>3.0</td>\n",
              "      <td>NaN</td>\n",
              "      <td>NaN</td>\n",
              "      <td>NaN</td>\n",
              "      <td>NaN</td>\n",
              "      <td>NaN</td>\n",
              "      <td>NaN</td>\n",
              "      <td>NaN</td>\n",
              "      <td>NaN</td>\n",
              "      <td>NaN</td>\n",
              "      <td>NaN</td>\n",
              "      <td>NaN</td>\n",
              "      <td>NaN</td>\n",
              "      <td>NaN</td>\n",
              "      <td>NaN</td>\n",
              "    </tr>\n",
              "    <tr>\n",
              "      <th>4</th>\n",
              "      <td>ごはん</td>\n",
              "      <td>赤飯</td>\n",
              "      <td></td>\n",
              "      <td>赤飯（もち米製品）</td>\n",
              "      <td>150</td>\n",
              "      <td>ごま＿いり</td>\n",
              "      <td>1.0</td>\n",
              "      <td>食塩</td>\n",
              "      <td>0.5</td>\n",
              "      <td>NaN</td>\n",
              "      <td>NaN</td>\n",
              "      <td>NaN</td>\n",
              "      <td>NaN</td>\n",
              "      <td>NaN</td>\n",
              "      <td>NaN</td>\n",
              "      <td>NaN</td>\n",
              "      <td>NaN</td>\n",
              "      <td>NaN</td>\n",
              "      <td>NaN</td>\n",
              "      <td>NaN</td>\n",
              "      <td>NaN</td>\n",
              "      <td>NaN</td>\n",
              "      <td>NaN</td>\n",
              "      <td>NaN</td>\n",
              "      <td>NaN</td>\n",
              "      <td>NaN</td>\n",
              "      <td>NaN</td>\n",
              "      <td>NaN</td>\n",
              "      <td>NaN</td>\n",
              "      <td>NaN</td>\n",
              "      <td>NaN</td>\n",
              "      <td>NaN</td>\n",
              "      <td>NaN</td>\n",
              "      <td>NaN</td>\n",
              "      <td>NaN</td>\n",
              "      <td>NaN</td>\n",
              "      <td>NaN</td>\n",
              "      <td>NaN</td>\n",
              "      <td>NaN</td>\n",
              "      <td>NaN</td>\n",
              "      <td>NaN</td>\n",
              "      <td>NaN</td>\n",
              "      <td>NaN</td>\n",
              "    </tr>\n",
              "  </tbody>\n",
              "</table>\n",
              "</div>"
            ],
            "text/plain": [
              "  料理の種類          料理名 調理工程  ... 材料19＿重量[グラム]  材料20＿材料名 材料20＿重量[グラム]\n",
              "0   ごはん   ごはん（中茶碗1杯）       ...          NaN       NaN          NaN\n",
              "1   ごはん         麦ごはん       ...          NaN       NaN          NaN\n",
              "2   ごはん  きのこたっぷり混ぜご飯       ...          NaN       NaN          NaN\n",
              "3   ごはん     五目炊き込みご飯       ...          NaN       NaN          NaN\n",
              "4   ごはん           赤飯       ...          NaN       NaN          NaN\n",
              "\n",
              "[5 rows x 43 columns]"
            ]
          },
          "metadata": {},
          "execution_count": 37
        }
      ]
    },
    {
      "cell_type": "code",
      "metadata": {
        "id": "CdWqD9uKT2HP"
      },
      "source": [
        "# 材料\n",
        "import math\n",
        "\n",
        "ingredients_list = []\n",
        "for i in range(len(df_ing_and_pro.index)):\n",
        "  ingredients = []\n",
        "  for j in range(1,20):\n",
        "    ing_col = \"材料{}＿材料名\".format(j)\n",
        "    qt_col = \"材料{}＿重量[グラム]\".format(j)\n",
        "\n",
        "    material = df_ing_and_pro[ing_col][i]\n",
        "    qt = df_ing_and_pro[qt_col][i]\n",
        "    if isinstance(material, str):\n",
        "      mat_qt = material + '：' +str(qt)\n",
        "      ingredients.append(mat_qt)\n",
        "  \n",
        "  ingredients = '\\n'.join(ingredients)\n",
        "  ingredients_list.append(ingredients)"
      ],
      "execution_count": 38,
      "outputs": []
    },
    {
      "cell_type": "code",
      "metadata": {
        "colab": {
          "base_uri": "https://localhost:8080/"
        },
        "id": "LJlBaDBjhnq1",
        "outputId": "c2595324-2e24-4409-9c91-d58a8d9ed200"
      },
      "source": [
        "ingredients_list[:10]"
      ],
      "execution_count": 39,
      "outputs": [
        {
          "output_type": "execute_result",
          "data": {
            "text/plain": [
              "['めし・精白米（水稲）：150',\n",
              " '米・精白米（水稲）：60\\n大麦・押麦：10.0',\n",
              " '米・精白米（水稲）：70\\nえのきたけ＿生：7.0\\nしめじ・ぶなしめじ＿生：7.0\\nまいたけ＿生：7.0\\n油揚げ：5.0\\nかつお・昆布だし：90.0\\nこいくちしょうゆ：6.0\\nみりん風調味料：9.0\\n清酒・上撰：7.5\\n糸みつば・葉＿生：2.0',\n",
              " '米・精白米（水稲）：66\\n油揚げ：5.0\\nにんじん・根、皮つき＿生：7.0\\n板こんにゃく（精粉こんにゃく）：15.0\\nごぼう・根＿生：20.0\\n生しいたけ＿生：5.0\\n若鶏・むね、皮なし＿生：25.0\\nこいくちしょうゆ：3.0\\nみりん風調味料：3.0\\n昆布だし：50.0\\n食塩：0.5\\n清酒・上撰：1.2\\nさやいんげん・若ざや＿生：3.0',\n",
              " '赤飯（もち米製品）：150\\nごま＿いり：1.0\\n食塩：0.5',\n",
              " 'めし・精白米（水稲）：105\\n清酒・上撰：3.75\\n穀物酢：13.0\\n車糖・上白糖：4.5\\n食塩：1.5\\n油揚げ：22.5\\nかつお・昆布だし：20.0\\n車糖・上白糖：3.7\\nこいくちしょうゆ：4.2\\nごま＿いり：1.0',\n",
              " 'めし・精白米（水稲）：170\\n清酒・上撰：3.75\\n穀物酢：13.0\\n車糖・上白糖：4.5\\n食塩：1.5\\n乾ししいたけ＿乾：2.0\\n車糖・上白糖：1.5\\nみりん風調味料：3.0\\nこいくちしょうゆ：3.0\\n鶏卵・全卵＿生：25.0\\n車糖・上白糖：1.5\\n食塩：0.2\\n調合油：1.0\\nきゅうり＿生：60.0\\nまだら・でんぶ：3.0\\nあまのり・焼きのり：2.0',\n",
              " 'めし・精白米（水稲）：200\\n穀物酢：20.0\\n車糖・上白糖：4.5\\n食塩：2.0\\nにんじん・根、皮つき＿生：15.0\\n食塩：0.2\\n車糖・上白糖：1.0\\n昆布だし：10.0\\n乾ししいたけ＿乾：2.0\\nかんぴょう＿乾：2.0\\nこいくちしょうゆ：3.0\\n車糖・上白糖：1.5\\n鶏卵・全卵＿生：28.0\\n食塩：0.2\\n調合油：1.0\\nくるまえび・養殖＿生：20.0\\n食塩：0.2\\nさやいんげん・若ざや＿生：5.0',\n",
              " 'めし・精白米（水稲）：260\\n若鶏・もも、皮なし＿生：75.0\\n清酒・上撰：3.75\\nたまねぎ・りん茎＿生：60.0\\nかつおだし：25.0\\nこいくちしょうゆ：12.0\\nみりん風調味料：9.0\\n車糖・上白糖：2.25\\n鶏卵・全卵＿生：50.0\\n切りみつば・葉＿生：5.0',\n",
              " 'めし・精白米（水稲）：260\\n豚・ロース・脂身つき＿生：80.0\\n食塩：1.0\\n薄力粉・1等：4.0\\n鶏卵・全卵＿生：4.0\\nパン粉＿乾燥：4.0\\n調合油：9.0\\nたまねぎ・りん茎＿生：20.0\\nこいくちしょうゆ：10.0\\nみりん・本みりん：5.0\\n鶏卵・全卵＿生：50.0']"
            ]
          },
          "metadata": {},
          "execution_count": 39
        }
      ]
    },
    {
      "cell_type": "code",
      "metadata": {
        "id": "0AVsltlRUPpp"
      },
      "source": [
        "import re\n",
        "\n",
        "def preprocessing(texts1, texts2):\n",
        "    processed_txts = []\n",
        "    for i in range(len(texts1)):\n",
        "      text = texts1[i] + texts2[i]\n",
        "      text = text.replace('\\n', '') # 改行コードを削除\n",
        "      text = re.sub('[・（）()：.0-9a-zA-Z]', '', text)\n",
        "      processed_txts.append(text)\n",
        "    return processed_txts"
      ],
      "execution_count": 40,
      "outputs": []
    },
    {
      "cell_type": "code",
      "metadata": {
        "colab": {
          "base_uri": "https://localhost:8080/"
        },
        "id": "eHKmrV4m9UK2",
        "outputId": "2dde8b90-a8e0-4031-8348-71fb04ea69ba"
      },
      "source": [
        "texts1 = list(ingredients_list)\n",
        "texts2 = list(df_ing_and_pro['調理工程'])\n",
        "\n",
        "processed_txts = preprocessing(texts1, texts2)\n",
        "processed_txts[30:40]"
      ],
      "execution_count": 41,
      "outputs": [
        {
          "output_type": "execute_result",
          "data": {
            "text/plain": [
              "['うどん＿ゆでかつお昆布だしこいくちしょうゆみりん本みりん根深ねぎ葉、軟白＿生油揚げかつお昆布だし車糖上白糖こいくちしょうゆ油揚げを半分に切る。小さめのフライパンに水 、醤油みりん砂糖 各大さじ１と油揚げを加える。煮立ったら、片面１分半～２分ずつ煮る。そのまま置いておく。冷凍うどんをで５分加熱する。鍋に水 、醤油 大さじ１、めんつゆ 大さじ１、砂糖 小さじ２、ほんだし 小さじ１を入れひと煮立ちさせる。器に加熱したうどんを加え、つゆを注ぐ。きつねとお好みで刻みネギかまぼこをトッピングする。',\n",
              " 'うどん＿ゆでかつお昆布だしこいくちしょうゆみりん本みりん根深ねぎ葉、軟白＿生和牛かた脂身つき＿生たまねぎりん茎＿生かつお昆布だし清酒上撰こいくちしょうゆ車糖上白糖みりん本みりん生姜は皮を剥き、千切りにしておくフライパンにサラダ油をひき中火に熱し、生姜を炒める香りが立ったら牛こま切れ肉を加え、炒めます。色が変わってきたらを加え、肉に火が通ったら火から下ろす鍋につゆの材料を加え混ぜ合わせ、中火にかけ沸騰させる。うどんを入れ、パッケージの表記通りにゆでる器に盛り付け、をのせ、小ねぎを散らす',\n",
              " 'うどん＿ゆでかつお昆布だしこいくちしょうゆみりん本みりん根深ねぎ葉、軟白＿生やまのいもいちょういも＿生長芋はすりおろす耐熱ボウルにうどんを入れ、ふんわりラップをかけて、パッケージの表記通りに電子レンジで加熱し、解凍する鍋に水、を入れ、中火にかけてひと煮立ちさせ、火から下ろすを盛り付けた器に、を注ぎ入れ、、青のりをのせる',\n",
              " 'うどん＿ゆでかつお昆布だしこいくちしょうゆみりん本みりん根深ねぎ葉、軟白＿生鶏卵全卵＿生',\n",
              " 'うどん＿ゆでかつお昆布だしこいくちしょうゆみりん本みりん根深ねぎ葉、軟白＿生ブラックタイガー養殖＿生食塩薄力粉等鶏卵全卵＿生調合油',\n",
              " 'うどん＿ゆでかつお昆布だしこいくちしょうゆみりん本みりん根深ねぎ葉、軟白＿生ごぼう根＿生食塩薄力粉等鶏卵全卵＿生調合油',\n",
              " 'そば＿ゆでかつお昆布だしこいくちしょうゆみりん本みりん根深ねぎ葉、軟白＿生',\n",
              " 'そば＿ゆで根深ねぎ葉、軟白＿生あまのり焼きのりめんつゆストレート',\n",
              " 'そば＿ゆでかつお昆布だしこいくちしょうゆみりん本みりん根深ねぎ葉、軟白＿生湯通し塩蔵わかめ＿塩抜き',\n",
              " 'そば＿ゆでかつお昆布だしこいくちしょうゆみりん本みりん根深ねぎ葉、軟白＿生和牛かた脂身つき＿生たまねぎりん茎＿生かつお昆布だし清酒上撰こいくちしょうゆ車糖上白糖みりん本みりん']"
            ]
          },
          "metadata": {},
          "execution_count": 41
        }
      ]
    },
    {
      "cell_type": "code",
      "metadata": {
        "id": "RcmkICAgCyDx"
      },
      "source": [
        "import MeCab\n",
        "def keitaiso(text):\n",
        "  tagger = MeCab.Tagger(\"-Ochasen\")\n",
        "  tagger.parse(\"\")\n",
        "  node = tagger.parseToNode(text)\n",
        "  word = \"\"\n",
        "  pre_feature = \"\"\n",
        "  while node:\n",
        "         # 名詞、形容詞、動詞、形容動詞であるかを判定する。\n",
        "    HANTEI = \"名詞\" in node.feature\n",
        "    HANTEI = \"形容詞\" in node.feature or HANTEI\n",
        "    HANTEI = \"動詞\" in node.feature or HANTEI\n",
        "    HANTEI = \"形容動詞\" in node.feature or HANTEI\n",
        "         # 以下に該当する場合は除外する。（ストップワード）\n",
        "    HANTEI = (not \"代名詞\" in node.feature) and HANTEI\n",
        "    HANTEI = (not \"助動詞\" in node.feature) and HANTEI\n",
        "    HANTEI = (not \"非自立\" in node.feature) and HANTEI\n",
        "    HANTEI = (not \"数\" in node.feature) and HANTEI\n",
        "    HANTEI = (not \"人名\" in node.feature) and HANTEI\n",
        "    if HANTEI:\n",
        "      if (\"名詞接続\" in pre_feature and \"名詞\" in node.feature) or (\"接尾\" in node.feature):\n",
        "        word += \"{0}\".format(node.surface)\n",
        "      else:\n",
        "        word += \" {0}\".format(node.surface)\n",
        "      #print(\"{0}{1}\".format(node.surface, node.feature))\n",
        "    pre_feature = node.feature\n",
        "    node = node.next\n",
        "  return word[1:]"
      ],
      "execution_count": 42,
      "outputs": []
    },
    {
      "cell_type": "code",
      "metadata": {
        "colab": {
          "base_uri": "https://localhost:8080/"
        },
        "id": "QiIBIhrxC23J",
        "outputId": "44e9aeae-e673-410f-ae05-21168f54d870"
      },
      "source": [
        "texts_nva = [keitaiso(text) for text in processed_txts]\n",
        "texts_nva[30:40]"
      ],
      "execution_count": 43,
      "outputs": [
        {
          "output_type": "execute_result",
          "data": {
            "text/plain": [
              "['うどん ゆで かつお 昆布 こい くちし ょうゆみりん 本みりん 根深 ねぎ 葉 軟白 生油揚げ かつお 昆布 だし車糖 上白糖 こい くち しょうゆ 油揚げ 半分 切る 小さめ フライパン 水 醤油 みりん 砂糖 各大さじ 油揚げ 加える 煮立っ 片面 ～ 煮る 置い 冷凍 うどん で 加熱 する 鍋 水 醤油 大さじ めん つゆ 大さじ 砂糖 小さじ ほん 小さじ 入れ ひと煮立ち させる 器 加熱 し うどん 加え つゆ 注ぐ きつね お好み 刻み ネギ かまぼこ トッピング する',\n",
              " 'うどん ゆで かつお 昆布 こい くちし ょうゆみりん 本みりん 根深 ねぎ 葉 軟白 生和牛かた 脂身つき 生たまねぎ 茎 生かつお 昆布 清酒上 撰 こい くち しょうゆ車糖 上白糖 みりん 本みりん 生姜 皮 剥き 千切り し フライパン サラダ油 ひき 中火 熱し 生姜 炒める 香り 立っ 牛 こま切れ 肉 加え 炒め 色 変わっ 加え 肉 火 通っ 火 下ろす 鍋 つゆ 材料 加え 混ぜ合わせ 中火 沸騰 させる うどん 入れ パッケージ 表記通り ゆでる 器 盛り付け のせ 小ねぎ 散らす',\n",
              " 'うどん ゆで かつお 昆布 こい くちし ょうゆみりん 本みりん 根深 ねぎ 葉 軟白生 いも いちょう いも 生長芋 すり おろす 耐熱 ボウル うどん 入れ ラップ かけ パッケージ 表記通り 電子 レンジ 加熱 し 解凍 する 鍋 水 入れ 中火 ひと煮立ち させ 火 下ろす 盛り付け 器 注ぎ 入れ 青のり のせる',\n",
              " 'うどん ゆで かつお 昆布 こい くちし ょうゆみりん 本みりん 根深 ねぎ 葉 軟白 生鶏卵 全卵生',\n",
              " 'うどん ゆで かつお 昆布 こい くちし ょうゆみりん 本みりん 根深 ねぎ 葉 軟白 生ブラック タイガー 養殖 生食 塩 薄力粉等 鶏卵 全卵 生調合油',\n",
              " 'うどん ゆで かつお 昆布 こい くちし ょうゆみりん 本みりん 根深 ねぎ 葉 軟白 生ごぼう 根 生食 塩 薄力粉等 鶏卵 全卵 生調合油',\n",
              " 'そば ゆで かつお 昆布 こい くちし ょうゆみりん 本みりん 根深 ねぎ 葉 軟白生',\n",
              " 'そば ゆで 根深 ねぎ 葉 軟白 生あま のり焼き のり めん つゆ ストレート',\n",
              " 'そば ゆで かつお 昆布 こい くちし ょうゆみりん 本みりん 根深 ねぎ 葉 軟白 生湯通し 塩蔵 わかめ 塩 抜き',\n",
              " 'そば ゆで かつお 昆布 こい くちし ょうゆみりん 本みりん 根深 ねぎ 葉 軟白 生和牛かた 脂身つき 生たまねぎ 茎 生かつお 昆布 清酒上 撰 こい くち しょうゆ車糖 上白糖 みりん 本みりん']"
            ]
          },
          "metadata": {},
          "execution_count": 43
        }
      ]
    },
    {
      "cell_type": "code",
      "metadata": {
        "id": "f36RnCp0ISsv"
      },
      "source": [
        "# 文書ごとに単語を分割してリストにする。\n",
        "trainings = [TaggedDocument(words = data.split(),tags = [i]) for i,data in enumerate(texts_nva)]"
      ],
      "execution_count": 44,
      "outputs": []
    },
    {
      "cell_type": "code",
      "metadata": {
        "colab": {
          "base_uri": "https://localhost:8080/"
        },
        "id": "0_sNIhdoIW53",
        "outputId": "9001bad3-0351-42f1-e2ef-6fedbfd835aa"
      },
      "source": [
        "trainings[30:40]"
      ],
      "execution_count": 45,
      "outputs": [
        {
          "output_type": "execute_result",
          "data": {
            "text/plain": [
              "[TaggedDocument(words=['うどん', 'ゆで', 'かつお', '昆布', 'こい', 'くちし', 'ょうゆみりん', '本みりん', '根深', 'ねぎ', '葉', '軟白', '生油揚げ', 'かつお', '昆布', 'だし車糖', '上白糖', 'こい', 'くち', 'しょうゆ', '油揚げ', '半分', '切る', '小さめ', 'フライパン', '水', '醤油', 'みりん', '砂糖', '各大さじ', '油揚げ', '加える', '煮立っ', '片面', '～', '煮る', '置い', '冷凍', 'うどん', 'で', '加熱', 'する', '鍋', '水', '醤油', '大さじ', 'めん', 'つゆ', '大さじ', '砂糖', '小さじ', 'ほん', '小さじ', '入れ', 'ひと煮立ち', 'させる', '器', '加熱', 'し', 'うどん', '加え', 'つゆ', '注ぐ', 'きつね', 'お好み', '刻み', 'ネギ', 'かまぼこ', 'トッピング', 'する'], tags=[30]),\n",
              " TaggedDocument(words=['うどん', 'ゆで', 'かつお', '昆布', 'こい', 'くちし', 'ょうゆみりん', '本みりん', '根深', 'ねぎ', '葉', '軟白', '生和牛かた', '脂身つき', '生たまねぎ', '茎', '生かつお', '昆布', '清酒上', '撰', 'こい', 'くち', 'しょうゆ車糖', '上白糖', 'みりん', '本みりん', '生姜', '皮', '剥き', '千切り', 'し', 'フライパン', 'サラダ油', 'ひき', '中火', '熱し', '生姜', '炒める', '香り', '立っ', '牛', 'こま切れ', '肉', '加え', '炒め', '色', '変わっ', '加え', '肉', '火', '通っ', '火', '下ろす', '鍋', 'つゆ', '材料', '加え', '混ぜ合わせ', '中火', '沸騰', 'させる', 'うどん', '入れ', 'パッケージ', '表記通り', 'ゆでる', '器', '盛り付け', 'のせ', '小ねぎ', '散らす'], tags=[31]),\n",
              " TaggedDocument(words=['うどん', 'ゆで', 'かつお', '昆布', 'こい', 'くちし', 'ょうゆみりん', '本みりん', '根深', 'ねぎ', '葉', '軟白生', 'いも', 'いちょう', 'いも', '生長芋', 'すり', 'おろす', '耐熱', 'ボウル', 'うどん', '入れ', 'ラップ', 'かけ', 'パッケージ', '表記通り', '電子', 'レンジ', '加熱', 'し', '解凍', 'する', '鍋', '水', '入れ', '中火', 'ひと煮立ち', 'させ', '火', '下ろす', '盛り付け', '器', '注ぎ', '入れ', '青のり', 'のせる'], tags=[32]),\n",
              " TaggedDocument(words=['うどん', 'ゆで', 'かつお', '昆布', 'こい', 'くちし', 'ょうゆみりん', '本みりん', '根深', 'ねぎ', '葉', '軟白', '生鶏卵', '全卵生'], tags=[33]),\n",
              " TaggedDocument(words=['うどん', 'ゆで', 'かつお', '昆布', 'こい', 'くちし', 'ょうゆみりん', '本みりん', '根深', 'ねぎ', '葉', '軟白', '生ブラック', 'タイガー', '養殖', '生食', '塩', '薄力粉等', '鶏卵', '全卵', '生調合油'], tags=[34]),\n",
              " TaggedDocument(words=['うどん', 'ゆで', 'かつお', '昆布', 'こい', 'くちし', 'ょうゆみりん', '本みりん', '根深', 'ねぎ', '葉', '軟白', '生ごぼう', '根', '生食', '塩', '薄力粉等', '鶏卵', '全卵', '生調合油'], tags=[35]),\n",
              " TaggedDocument(words=['そば', 'ゆで', 'かつお', '昆布', 'こい', 'くちし', 'ょうゆみりん', '本みりん', '根深', 'ねぎ', '葉', '軟白生'], tags=[36]),\n",
              " TaggedDocument(words=['そば', 'ゆで', '根深', 'ねぎ', '葉', '軟白', '生あま', 'のり焼き', 'のり', 'めん', 'つゆ', 'ストレート'], tags=[37]),\n",
              " TaggedDocument(words=['そば', 'ゆで', 'かつお', '昆布', 'こい', 'くちし', 'ょうゆみりん', '本みりん', '根深', 'ねぎ', '葉', '軟白', '生湯通し', '塩蔵', 'わかめ', '塩', '抜き'], tags=[38]),\n",
              " TaggedDocument(words=['そば', 'ゆで', 'かつお', '昆布', 'こい', 'くちし', 'ょうゆみりん', '本みりん', '根深', 'ねぎ', '葉', '軟白', '生和牛かた', '脂身つき', '生たまねぎ', '茎', '生かつお', '昆布', '清酒上', '撰', 'こい', 'くち', 'しょうゆ車糖', '上白糖', 'みりん', '本みりん'], tags=[39])]"
            ]
          },
          "metadata": {},
          "execution_count": 45
        }
      ]
    },
    {
      "cell_type": "code",
      "metadata": {
        "colab": {
          "base_uri": "https://localhost:8080/"
        },
        "id": "lloEGB_1IkjX",
        "outputId": "024dfb90-307f-485c-a2f5-2fdf224d4502"
      },
      "source": [
        "# モデルの学習\n",
        "m = Doc2Vec(documents= trainings, dm = 1, size=300, window=8, min_count=10, workers=4)"
      ],
      "execution_count": 46,
      "outputs": [
        {
          "output_type": "stream",
          "name": "stderr",
          "text": [
            "/usr/local/lib/python3.7/dist-packages/gensim/models/doc2vec.py:319: UserWarning:\n",
            "\n",
            "The parameter `size` is deprecated, will be removed in 4.0.0, use `vector_size` instead.\n",
            "\n"
          ]
        }
      ]
    },
    {
      "cell_type": "code",
      "metadata": {
        "id": "MWG1AcmqJnrC"
      },
      "source": [
        "# モデルの保存\n",
        "m.save(\"/content/drive/MyDrive/Colab Notebooks/kikagaku/AI長期コース/0_自走アプリ/ip_doc2vec.model\")"
      ],
      "execution_count": 47,
      "outputs": []
    },
    {
      "cell_type": "markdown",
      "metadata": {
        "id": "STRt-cBqJsP0"
      },
      "source": [
        "## クラスタリング"
      ]
    },
    {
      "cell_type": "markdown",
      "metadata": {
        "id": "MZulHJxvJy3l"
      },
      "source": [
        "### k-means"
      ]
    },
    {
      "cell_type": "code",
      "metadata": {
        "id": "BgrR6sBgKCg8"
      },
      "source": [
        "#ベクトルをリストに格納\n",
        "vectors_list=[m.docvecs[n] for n in range(len(m.docvecs))]"
      ],
      "execution_count": 48,
      "outputs": []
    },
    {
      "cell_type": "code",
      "metadata": {
        "id": "H7MGQR_FKEBb"
      },
      "source": [
        "# 標準化\n",
        "from sklearn.preprocessing import StandardScaler\n",
        "\n",
        "scaler = StandardScaler()\n",
        "x_scaled = scaler.fit_transform(vectors_list)"
      ],
      "execution_count": 49,
      "outputs": []
    },
    {
      "cell_type": "code",
      "metadata": {
        "id": "NF9vBictKIx2"
      },
      "source": [
        "# PCAで次元削減\n",
        "from sklearn.decomposition import PCA\n",
        "\n",
        "pca = PCA(n_components=2, random_state=0)\n",
        "\n",
        "x_std_transformed = pca.fit_transform(x_scaled)"
      ],
      "execution_count": 50,
      "outputs": []
    },
    {
      "cell_type": "code",
      "metadata": {
        "colab": {
          "base_uri": "https://localhost:8080/",
          "height": 276
        },
        "id": "PtJ-bO7HKN8E",
        "outputId": "0133c174-c8cd-4090-a4fc-c51d0b1da1f9"
      },
      "source": [
        "## エルボー法によるクラスタリングの性能評価\n",
        "from sklearn.cluster import KMeans\n",
        "\n",
        "# クラスタ内誤差平方和を格納\n",
        "sse = []\n",
        "\n",
        "for i in range(1, 6):\n",
        "  # k-meansの適用\n",
        "  kmeans = KMeans(n_clusters=i, random_state=0)\n",
        "  #kmeans.fit(vectors_list)\n",
        "  kmeans.fit(x_std_transformed)\n",
        "  \n",
        "  # クラスタ内誤差平方和をリストに追加\n",
        "  sse.append(kmeans.inertia_)\n",
        "\n",
        "# クラスタリング結果の可視化\n",
        "plt.ylabel('SSE')\n",
        "plt.xlabel('Number of clusters')\n",
        "plt.xticks(range(1,6))\n",
        "plt.plot(range(1,6), sse, marker='o')\n",
        "plt.show()"
      ],
      "execution_count": 51,
      "outputs": [
        {
          "output_type": "display_data",
          "data": {
            "image/png": "[encoded data removed]",
            "text/plain": [
              "<Figure size 432x288 with 1 Axes>"
            ]
          },
          "metadata": {}
        }
      ]
    },
    {
      "cell_type": "code",
      "metadata": {
        "colab": {
          "base_uri": "https://localhost:8080/"
        },
        "id": "bu2G_KMCKlKe",
        "outputId": "8e260999-22f0-4b52-e5b1-b5d95e9d8862"
      },
      "source": [
        "# モデルの作成\n",
        "from sklearn.cluster import KMeans\n",
        "\n",
        "kmeans_ip = KMeans(n_clusters=3, random_state=0)\n",
        "\n",
        "# kmeans_ip.fit(X.toarray())\n",
        "kmeans_ip.fit(x_std_transformed)"
      ],
      "execution_count": 52,
      "outputs": [
        {
          "output_type": "execute_result",
          "data": {
            "text/plain": [
              "KMeans(algorithm='auto', copy_x=True, init='k-means++', max_iter=300,\n",
              "       n_clusters=3, n_init=10, n_jobs=None, precompute_distances='auto',\n",
              "       random_state=0, tol=0.0001, verbose=0)"
            ]
          },
          "metadata": {},
          "execution_count": 52
        }
      ]
    },
    {
      "cell_type": "code",
      "metadata": {
        "id": "HzEUFw6-LC_R"
      },
      "source": [
        "# クラスタの取得\n",
        "#cluster_ip = kmeans_ip.predict(X.toarray())\n",
        "cluster_ip = kmeans_ip.predict(x_std_transformed)"
      ],
      "execution_count": 53,
      "outputs": []
    },
    {
      "cell_type": "code",
      "metadata": {
        "colab": {
          "base_uri": "https://localhost:8080/"
        },
        "id": "XfA6-DHNLTdh",
        "outputId": "f8e99453-e625-4681-b8f1-ba1c99ba6fb9"
      },
      "source": [
        "cluster_ip"
      ],
      "execution_count": 54,
      "outputs": [
        {
          "output_type": "execute_result",
          "data": {
            "text/plain": [
              "array([0, 0, 0, 2, 0, 0, 2, 2, 0, 2, 0, 0, 2, 0, 0, 2, 0, 0, 0, 0, 0, 0,\n",
              "       0, 0, 0, 0, 0, 0, 0, 2, 1, 1, 2, 0, 2, 0, 0, 0, 0, 2, 2, 0, 0, 0,\n",
              "       0, 0, 2, 2, 2, 1, 1, 2, 1, 1, 1, 1, 1, 1, 2, 2, 2, 2, 1, 1, 2, 2,\n",
              "       1, 1, 1, 2, 2, 2, 2, 1, 2, 2, 1, 1, 1, 1, 2, 1, 1, 2, 0, 1, 1, 2,\n",
              "       0, 0, 0, 0, 0, 0, 0, 0, 0, 2, 2, 0, 0, 2, 2, 2, 2, 0, 0, 1, 1, 2,\n",
              "       2, 1, 1, 1, 2, 2, 2, 1, 2, 1, 2, 0, 1, 2, 2, 2, 2, 0, 0, 0, 1, 2,\n",
              "       2, 1, 1, 2, 2, 2, 1, 1, 1, 2, 2, 1, 1, 2, 1, 2, 2, 0, 0, 0, 0, 2,\n",
              "       2, 1, 1, 2, 1, 2, 2, 1, 2, 1, 1, 2, 2, 1, 1, 1, 1, 2, 0, 0, 0, 0,\n",
              "       0, 0, 0, 0, 0, 0, 0, 0, 0, 0, 0, 0, 0, 0, 0, 0], dtype=int32)"
            ]
          },
          "metadata": {},
          "execution_count": 54
        }
      ]
    },
    {
      "cell_type": "code",
      "metadata": {
        "colab": {
          "base_uri": "https://localhost:8080/",
          "height": 765
        },
        "id": "QDSVFWunL_Q1",
        "outputId": "9258ced9-a2db-439a-d0ca-5b408f8dcafe"
      },
      "source": [
        "df_processed = df_origin[['料理名', 'エネルギー[キロカロリー]', 'たんぱく質[グラム]', '炭水化物[グラム]', '脂質[グラム]', 'カルシウム[mg]', '鉄分[mg]', 'ビタミンA[ug]', 'ビタミンB1[mg]', 'ビタミンB2[mg]', 'ビタミンC[mg]', '調理工程']]\n",
        "df_processed['材料'] = ingredients_list\n",
        "df_processed['n_cluster'] = df_cluster['n_cluster']\n",
        "df_processed['ip_cluster'] = cluster_ip\n",
        "df_processed.head()"
      ],
      "execution_count": 55,
      "outputs": [
        {
          "output_type": "stream",
          "name": "stderr",
          "text": [
            "/usr/local/lib/python3.7/dist-packages/ipykernel_launcher.py:2: SettingWithCopyWarning:\n",
            "\n",
            "\n",
            "A value is trying to be set on a copy of a slice from a DataFrame.\n",
            "Try using .loc[row_indexer,col_indexer] = value instead\n",
            "\n",
            "See the caveats in the documentation: https://pandas.pydata.org/pandas-docs/stable/user_guide/indexing.html#returning-a-view-versus-a-copy\n",
            "\n",
            "/usr/local/lib/python3.7/dist-packages/ipykernel_launcher.py:3: SettingWithCopyWarning:\n",
            "\n",
            "\n",
            "A value is trying to be set on a copy of a slice from a DataFrame.\n",
            "Try using .loc[row_indexer,col_indexer] = value instead\n",
            "\n",
            "See the caveats in the documentation: https://pandas.pydata.org/pandas-docs/stable/user_guide/indexing.html#returning-a-view-versus-a-copy\n",
            "\n",
            "/usr/local/lib/python3.7/dist-packages/ipykernel_launcher.py:4: SettingWithCopyWarning:\n",
            "\n",
            "\n",
            "A value is trying to be set on a copy of a slice from a DataFrame.\n",
            "Try using .loc[row_indexer,col_indexer] = value instead\n",
            "\n",
            "See the caveats in the documentation: https://pandas.pydata.org/pandas-docs/stable/user_guide/indexing.html#returning-a-view-versus-a-copy\n",
            "\n"
          ]
        },
        {
          "output_type": "execute_result",
          "data": {
            "text/html": [
              "<div>\n",
              "<style scoped>\n",
              "    .dataframe tbody tr th:only-of-type {\n",
              "        vertical-align: middle;\n",
              "    }\n",
              "\n",
              "    .dataframe tbody tr th {\n",
              "        vertical-align: top;\n",
              "    }\n",
              "\n",
              "    .dataframe thead th {\n",
              "        text-align: right;\n",
              "    }\n",
              "</style>\n",
              "<table border=\"1\" class=\"dataframe\">\n",
              "  <thead>\n",
              "    <tr style=\"text-align: right;\">\n",
              "      <th></th>\n",
              "      <th>料理名</th>\n",
              "      <th>エネルギー[キロカロリー]</th>\n",
              "      <th>たんぱく質[グラム]</th>\n",
              "      <th>炭水化物[グラム]</th>\n",
              "      <th>脂質[グラム]</th>\n",
              "      <th>カルシウム[mg]</th>\n",
              "      <th>鉄分[mg]</th>\n",
              "      <th>ビタミンA[ug]</th>\n",
              "      <th>ビタミンB1[mg]</th>\n",
              "      <th>ビタミンB2[mg]</th>\n",
              "      <th>ビタミンC[mg]</th>\n",
              "      <th>調理工程</th>\n",
              "      <th>材料</th>\n",
              "      <th>n_cluster</th>\n",
              "      <th>ip_cluster</th>\n",
              "    </tr>\n",
              "  </thead>\n",
              "  <tbody>\n",
              "    <tr>\n",
              "      <th>0</th>\n",
              "      <td>ごはん（中茶碗1杯）</td>\n",
              "      <td>252</td>\n",
              "      <td>3.8</td>\n",
              "      <td>55.7</td>\n",
              "      <td>0.5</td>\n",
              "      <td>NaN</td>\n",
              "      <td>NaN</td>\n",
              "      <td>NaN</td>\n",
              "      <td>NaN</td>\n",
              "      <td>NaN</td>\n",
              "      <td>NaN</td>\n",
              "      <td>NaN</td>\n",
              "      <td>めし・精白米（水稲）：150</td>\n",
              "      <td>9.0</td>\n",
              "      <td>0</td>\n",
              "    </tr>\n",
              "    <tr>\n",
              "      <th>1</th>\n",
              "      <td>麦ごはん</td>\n",
              "      <td>248</td>\n",
              "      <td>4.3</td>\n",
              "      <td>54.0</td>\n",
              "      <td>0.7</td>\n",
              "      <td>NaN</td>\n",
              "      <td>NaN</td>\n",
              "      <td>NaN</td>\n",
              "      <td>NaN</td>\n",
              "      <td>NaN</td>\n",
              "      <td>NaN</td>\n",
              "      <td>NaN</td>\n",
              "      <td>米・精白米（水稲）：60\\n大麦・押麦：10.0</td>\n",
              "      <td>9.0</td>\n",
              "      <td>0</td>\n",
              "    </tr>\n",
              "    <tr>\n",
              "      <th>2</th>\n",
              "      <td>きのこたっぷり混ぜご飯</td>\n",
              "      <td>307</td>\n",
              "      <td>6.6</td>\n",
              "      <td>61.4</td>\n",
              "      <td>2.4</td>\n",
              "      <td>NaN</td>\n",
              "      <td>NaN</td>\n",
              "      <td>NaN</td>\n",
              "      <td>NaN</td>\n",
              "      <td>NaN</td>\n",
              "      <td>NaN</td>\n",
              "      <td>NaN</td>\n",
              "      <td>米・精白米（水稲）：70\\nえのきたけ＿生：7.0\\nしめじ・ぶなしめじ＿生：7.0\\nまい...</td>\n",
              "      <td>9.0</td>\n",
              "      <td>0</td>\n",
              "    </tr>\n",
              "    <tr>\n",
              "      <th>3</th>\n",
              "      <td>五目炊き込みご飯</td>\n",
              "      <td>311</td>\n",
              "      <td>11.4</td>\n",
              "      <td>57.9</td>\n",
              "      <td>2.7</td>\n",
              "      <td>28.0</td>\n",
              "      <td>0.5</td>\n",
              "      <td>62.0</td>\n",
              "      <td>0.06</td>\n",
              "      <td>0.09</td>\n",
              "      <td>2.0</td>\n",
              "      <td>NaN</td>\n",
              "      <td>米・精白米（水稲）：66\\n油揚げ：5.0\\nにんじん・根、皮つき＿生：7.0\\n板こんにゃ...</td>\n",
              "      <td>2.0</td>\n",
              "      <td>2</td>\n",
              "    </tr>\n",
              "    <tr>\n",
              "      <th>4</th>\n",
              "      <td>赤飯</td>\n",
              "      <td>289</td>\n",
              "      <td>6.1</td>\n",
              "      <td>63.8</td>\n",
              "      <td>1.1</td>\n",
              "      <td>18.0</td>\n",
              "      <td>0.8</td>\n",
              "      <td>0.0</td>\n",
              "      <td>0.13</td>\n",
              "      <td>0.03</td>\n",
              "      <td>0.0</td>\n",
              "      <td>NaN</td>\n",
              "      <td>赤飯（もち米製品）：150\\nごま＿いり：1.0\\n食塩：0.5</td>\n",
              "      <td>1.0</td>\n",
              "      <td>0</td>\n",
              "    </tr>\n",
              "  </tbody>\n",
              "</table>\n",
              "</div>"
            ],
            "text/plain": [
              "           料理名  エネルギー[キロカロリー]  ...  n_cluster  ip_cluster\n",
              "0   ごはん（中茶碗1杯）            252  ...        9.0           0\n",
              "1         麦ごはん            248  ...        9.0           0\n",
              "2  きのこたっぷり混ぜご飯            307  ...        9.0           0\n",
              "3     五目炊き込みご飯            311  ...        2.0           2\n",
              "4           赤飯            289  ...        1.0           0\n",
              "\n",
              "[5 rows x 15 columns]"
            ]
          },
          "metadata": {},
          "execution_count": 55
        }
      ]
    },
    {
      "cell_type": "markdown",
      "metadata": {
        "id": "u48Jvjp0OdXu"
      },
      "source": [
        "### 結果の考察"
      ]
    },
    {
      "cell_type": "code",
      "metadata": {
        "colab": {
          "base_uri": "https://localhost:8080/",
          "height": 411
        },
        "id": "_uGVtO9bOdLP",
        "outputId": "a13845bb-1871-4bd5-9f21-95abb1fdd1d9"
      },
      "source": [
        "# 可視化\n",
        "fig = plt.figure(figsize=(7,10))\n",
        "\n",
        "ax2 = fig.add_subplot(2, 1, 2)\n",
        "sns.scatterplot(x_std_transformed[:, 0], x_std_transformed[:, 1],\n",
        "               hue=cluster_ip, palette=sns.color_palette(n_colors=3))\n",
        "ax2.set_title('After')"
      ],
      "execution_count": 56,
      "outputs": [
        {
          "output_type": "stream",
          "name": "stderr",
          "text": [
            "/usr/local/lib/python3.7/dist-packages/seaborn/_decorators.py:43: FutureWarning:\n",
            "\n",
            "Pass the following variables as keyword args: x, y. From version 0.12, the only valid positional argument will be `data`, and passing other arguments without an explicit keyword will result in an error or misinterpretation.\n",
            "\n"
          ]
        },
        {
          "output_type": "execute_result",
          "data": {
            "text/plain": [
              "Text(0.5, 1.0, 'After')"
            ]
          },
          "metadata": {},
          "execution_count": 56
        },
        {
          "output_type": "display_data",
          "data": {
            "image/png": "[encoded data removed]",
            "text/plain": [
              "<Figure size 504x720 with 1 Axes>"
            ]
          },
          "metadata": {}
        }
      ]
    },
    {
      "cell_type": "markdown",
      "metadata": {
        "id": "btUgobI2PFza"
      },
      "source": [
        "### ラベル予測モデルの作成"
      ]
    },
    {
      "cell_type": "code",
      "metadata": {
        "id": "thMe6fL4PVD8"
      },
      "source": [
        "# 学習データ\n",
        "x_train = np.array(vectors_list)\n",
        "t_train = cluster_ip"
      ],
      "execution_count": 57,
      "outputs": []
    },
    {
      "cell_type": "code",
      "metadata": {
        "colab": {
          "base_uri": "https://localhost:8080/"
        },
        "id": "P6R_aTKEPcfe",
        "outputId": "6b3a1fb8-73da-4e68-a701-5c34c53f5c24"
      },
      "source": [
        "x_train.shape, t_train.shape"
      ],
      "execution_count": 58,
      "outputs": [
        {
          "output_type": "execute_result",
          "data": {
            "text/plain": [
              "((192, 300), (192,))"
            ]
          },
          "metadata": {},
          "execution_count": 58
        }
      ]
    },
    {
      "cell_type": "markdown",
      "metadata": {
        "id": "xYkOxafHPiqn"
      },
      "source": [
        "### ランダムフォレスト"
      ]
    },
    {
      "cell_type": "code",
      "metadata": {
        "colab": {
          "base_uri": "https://localhost:8080/"
        },
        "id": "KyKUhG6Ed2jN",
        "outputId": "93db7054-ccc9-4373-e7c1-b8cadb333a28"
      },
      "source": [
        "# ハイパーパラメータチューニング\n",
        "!pip install optuna\n",
        "\n",
        "import optuna\n",
        "# K-分割交差検証\n",
        "from sklearn.model_selection import cross_val_score"
      ],
      "execution_count": 59,
      "outputs": [
        {
          "output_type": "stream",
          "name": "stdout",
          "text": [
            "Requirement already satisfied: optuna in /usr/local/lib/python3.7/dist-packages (2.9.1)\n",
            "Requirement already satisfied: sqlalchemy>=1.1.0 in /usr/local/lib/python3.7/dist-packages (from optuna) (1.4.22)\n",
            "Requirement already satisfied: packaging>=20.0 in /usr/local/lib/python3.7/dist-packages (from optuna) (21.0)\n",
            "Requirement already satisfied: alembic in /usr/local/lib/python3.7/dist-packages (from optuna) (1.7.1)\n",
            "Requirement already satisfied: cliff in /usr/local/lib/python3.7/dist-packages (from optuna) (3.9.0)\n",
            "Requirement already satisfied: scipy!=1.4.0 in /usr/local/lib/python3.7/dist-packages (from optuna) (1.4.1)\n",
            "Requirement already satisfied: cmaes>=0.8.2 in /usr/local/lib/python3.7/dist-packages (from optuna) (0.8.2)\n",
            "Requirement already satisfied: numpy in /usr/local/lib/python3.7/dist-packages (from optuna) (1.19.5)\n",
            "Requirement already satisfied: tqdm in /usr/local/lib/python3.7/dist-packages (from optuna) (4.62.0)\n",
            "Requirement already satisfied: PyYAML in /usr/local/lib/python3.7/dist-packages (from optuna) (3.13)\n",
            "Requirement already satisfied: colorlog in /usr/local/lib/python3.7/dist-packages (from optuna) (6.4.1)\n",
            "Requirement already satisfied: pyparsing>=2.0.2 in /usr/local/lib/python3.7/dist-packages (from packaging>=20.0->optuna) (2.4.7)\n",
            "Requirement already satisfied: importlib-metadata in /usr/local/lib/python3.7/dist-packages (from sqlalchemy>=1.1.0->optuna) (4.6.4)\n",
            "Requirement already satisfied: greenlet!=0.4.17 in /usr/local/lib/python3.7/dist-packages (from sqlalchemy>=1.1.0->optuna) (1.1.1)\n",
            "Requirement already satisfied: Mako in /usr/local/lib/python3.7/dist-packages (from alembic->optuna) (1.1.5)\n",
            "Requirement already satisfied: importlib-resources in /usr/local/lib/python3.7/dist-packages (from alembic->optuna) (5.2.2)\n",
            "Requirement already satisfied: stevedore>=2.0.1 in /usr/local/lib/python3.7/dist-packages (from cliff->optuna) (3.4.0)\n",
            "Requirement already satisfied: pbr!=2.1.0,>=2.0.0 in /usr/local/lib/python3.7/dist-packages (from cliff->optuna) (5.6.0)\n",
            "Requirement already satisfied: PrettyTable>=0.7.2 in /usr/local/lib/python3.7/dist-packages (from cliff->optuna) (2.1.0)\n",
            "Requirement already satisfied: autopage>=0.4.0 in /usr/local/lib/python3.7/dist-packages (from cliff->optuna) (0.4.0)\n",
            "Requirement already satisfied: cmd2>=1.0.0 in /usr/local/lib/python3.7/dist-packages (from cliff->optuna) (2.1.2)\n",
            "Requirement already satisfied: wcwidth>=0.1.7 in /usr/local/lib/python3.7/dist-packages (from cmd2>=1.0.0->cliff->optuna) (0.2.5)\n",
            "Requirement already satisfied: pyperclip>=1.6 in /usr/local/lib/python3.7/dist-packages (from cmd2>=1.0.0->cliff->optuna) (1.8.2)\n",
            "Requirement already satisfied: colorama>=0.3.7 in /usr/local/lib/python3.7/dist-packages (from cmd2>=1.0.0->cliff->optuna) (0.4.4)\n",
            "Requirement already satisfied: attrs>=16.3.0 in /usr/local/lib/python3.7/dist-packages (from cmd2>=1.0.0->cliff->optuna) (21.2.0)\n",
            "Requirement already satisfied: typing-extensions in /usr/local/lib/python3.7/dist-packages (from cmd2>=1.0.0->cliff->optuna) (3.7.4.3)\n",
            "Requirement already satisfied: zipp>=0.5 in /usr/local/lib/python3.7/dist-packages (from importlib-metadata->sqlalchemy>=1.1.0->optuna) (3.5.0)\n",
            "Requirement already satisfied: MarkupSafe>=0.9.2 in /usr/local/lib/python3.7/dist-packages (from Mako->alembic->optuna) (2.0.1)\n"
          ]
        }
      ]
    },
    {
      "cell_type": "code",
      "metadata": {
        "id": "yMLZLifAV61y"
      },
      "source": [
        "from sklearn.ensemble import RandomForestClassifier"
      ],
      "execution_count": 60,
      "outputs": []
    },
    {
      "cell_type": "code",
      "metadata": {
        "id": "COWlwbh8QBkk"
      },
      "source": [
        "def objective(trial, x, t, cv):\n",
        "    # 1. ハイパーパラメータごとに探索範囲を指定\n",
        "    n_estimators = trial.suggest_int('n_estimators', 1, 20)\n",
        "    criterion = trial.suggest_categorical('criterion', ['gini', 'entropy'])\n",
        "    max_depth = trial.suggest_int('max_depth', 2, 30)\n",
        "    max_features = trial.suggest_categorical('max_features', ['sqrt', 'log2', 'auto'])\n",
        "\n",
        "    # 2. 学習に使用するアルゴリズムを指定\n",
        "    estimator = RandomForestClassifier(\n",
        "      n_estimators = n_estimators,\n",
        "      criterion = criterion,\n",
        "      max_depth = max_depth,\n",
        "      max_features = max_features,\n",
        "      random_state = 0\n",
        "    )\n",
        "\n",
        "    # 3. 学習の実行、検証結果の表示\n",
        "    print('Current_params : ', trial.params)\n",
        "    accuracy = cross_val_score(estimator, x, t, cv=cv).mean()\n",
        "    return accuracy"
      ],
      "execution_count": 61,
      "outputs": []
    },
    {
      "cell_type": "code",
      "metadata": {
        "colab": {
          "base_uri": "https://localhost:8080/"
        },
        "id": "pefdyaiCQC-O",
        "outputId": "c4c8c1a8-76f5-45ab-c967-3dcb6327a6f4"
      },
      "source": [
        "# study オブジェクトの作成（最大化）\n",
        "study_ip = optuna.create_study(direction='maximize', sampler=optuna.samplers.TPESampler(seed=42))"
      ],
      "execution_count": 62,
      "outputs": [
        {
          "output_type": "stream",
          "name": "stderr",
          "text": [
            "\u001b[32m[I 2021-09-04 10:15:18,909]\u001b[0m A new study created in memory with name: no-name-e8f9ced6-1dfb-4644-8567-1530e079c4a3\u001b[0m\n"
          ]
        }
      ]
    },
    {
      "cell_type": "code",
      "metadata": {
        "colab": {
          "base_uri": "https://localhost:8080/"
        },
        "id": "5ONxqes0QcvI",
        "outputId": "167cbbf0-5fba-4385-8c79-4c49f2235d69"
      },
      "source": [
        "# K 分割交差検証の K\n",
        "cv = 5\n",
        "# 目的関数の最適化\n",
        "## lambdaで追加の引数（学習データ）を渡す\n",
        "study_ip.optimize(lambda trial: objective(trial, x_train, t_train, cv), n_trials=10)\n",
        "\n",
        "print(study_ip.best_trial)"
      ],
      "execution_count": 63,
      "outputs": [
        {
          "output_type": "stream",
          "name": "stderr",
          "text": [
            "\u001b[32m[I 2021-09-04 10:15:19,031]\u001b[0m Trial 0 finished with value: 0.9380566801619434 and parameters: {'n_estimators': 8, 'criterion': 'gini', 'max_depth': 19, 'max_features': 'sqrt'}. Best is trial 0 with value: 0.9380566801619434.\u001b[0m\n"
          ]
        },
        {
          "output_type": "stream",
          "name": "stdout",
          "text": [
            "Current_params :  {'n_estimators': 8, 'criterion': 'gini', 'max_depth': 19, 'max_features': 'sqrt'}\n",
            "Current_params :  {'n_estimators': 18, 'criterion': 'entropy', 'max_depth': 2, 'max_features': 'sqrt'}\n"
          ]
        },
        {
          "output_type": "stream",
          "name": "stderr",
          "text": [
            "\u001b[32m[I 2021-09-04 10:15:19,254]\u001b[0m Trial 1 finished with value: 0.9481781376518219 and parameters: {'n_estimators': 18, 'criterion': 'entropy', 'max_depth': 2, 'max_features': 'sqrt'}. Best is trial 1 with value: 0.9481781376518219.\u001b[0m\n",
            "\u001b[32m[I 2021-09-04 10:15:19,320]\u001b[0m Trial 2 finished with value: 0.8962213225371121 and parameters: {'n_estimators': 4, 'criterion': 'entropy', 'max_depth': 17, 'max_features': 'auto'}. Best is trial 1 with value: 0.9481781376518219.\u001b[0m\n",
            "\u001b[32m[I 2021-09-04 10:15:19,381]\u001b[0m Trial 3 finished with value: 0.9017543859649122 and parameters: {'n_estimators': 3, 'criterion': 'entropy', 'max_depth': 15, 'max_features': 'sqrt'}. Best is trial 1 with value: 0.9481781376518219.\u001b[0m\n"
          ]
        },
        {
          "output_type": "stream",
          "name": "stdout",
          "text": [
            "Current_params :  {'n_estimators': 4, 'criterion': 'entropy', 'max_depth': 17, 'max_features': 'auto'}\n",
            "Current_params :  {'n_estimators': 3, 'criterion': 'entropy', 'max_depth': 15, 'max_features': 'sqrt'}\n",
            "Current_params :  {'n_estimators': 12, 'criterion': 'entropy', 'max_depth': 6, 'max_features': 'auto'}\n"
          ]
        },
        {
          "output_type": "stream",
          "name": "stderr",
          "text": [
            "\u001b[32m[I 2021-09-04 10:15:19,556]\u001b[0m Trial 4 finished with value: 0.9481781376518219 and parameters: {'n_estimators': 12, 'criterion': 'entropy', 'max_depth': 6, 'max_features': 'auto'}. Best is trial 1 with value: 0.9481781376518219.\u001b[0m\n",
            "\u001b[32m[I 2021-09-04 10:15:19,753]\u001b[0m Trial 5 finished with value: 0.9638326585695006 and parameters: {'n_estimators': 17, 'criterion': 'gini', 'max_depth': 21, 'max_features': 'auto'}. Best is trial 5 with value: 0.9638326585695006.\u001b[0m\n"
          ]
        },
        {
          "output_type": "stream",
          "name": "stdout",
          "text": [
            "Current_params :  {'n_estimators': 17, 'criterion': 'gini', 'max_depth': 21, 'max_features': 'auto'}\n",
            "Current_params :  {'n_estimators': 1, 'criterion': 'gini', 'max_depth': 21, 'max_features': 'auto'}\n"
          ]
        },
        {
          "output_type": "stream",
          "name": "stderr",
          "text": [
            "\u001b[32m[I 2021-09-04 10:15:19,790]\u001b[0m Trial 6 finished with value: 0.8755735492577598 and parameters: {'n_estimators': 1, 'criterion': 'gini', 'max_depth': 21, 'max_features': 'auto'}. Best is trial 5 with value: 0.9638326585695006.\u001b[0m\n",
            "\u001b[32m[I 2021-09-04 10:15:19,862]\u001b[0m Trial 7 finished with value: 0.9120107962213225 and parameters: {'n_estimators': 4, 'criterion': 'gini', 'max_depth': 29, 'max_features': 'auto'}. Best is trial 5 with value: 0.9638326585695006.\u001b[0m\n",
            "\u001b[32m[I 2021-09-04 10:15:19,897]\u001b[0m Trial 8 finished with value: 0.8912280701754387 and parameters: {'n_estimators': 2, 'criterion': 'gini', 'max_depth': 11, 'max_features': 'auto'}. Best is trial 5 with value: 0.9638326585695006.\u001b[0m\n"
          ]
        },
        {
          "output_type": "stream",
          "name": "stdout",
          "text": [
            "Current_params :  {'n_estimators': 4, 'criterion': 'gini', 'max_depth': 29, 'max_features': 'auto'}\n",
            "Current_params :  {'n_estimators': 2, 'criterion': 'gini', 'max_depth': 11, 'max_features': 'auto'}\n",
            "Current_params :  {'n_estimators': 8, 'criterion': 'entropy', 'max_depth': 6, 'max_features': 'auto'}\n"
          ]
        },
        {
          "output_type": "stream",
          "name": "stderr",
          "text": [
            "\u001b[32m[I 2021-09-04 10:15:20,034]\u001b[0m Trial 9 finished with value: 0.9117408906882591 and parameters: {'n_estimators': 8, 'criterion': 'entropy', 'max_depth': 6, 'max_features': 'auto'}. Best is trial 5 with value: 0.9638326585695006.\u001b[0m\n"
          ]
        },
        {
          "output_type": "stream",
          "name": "stdout",
          "text": [
            "FrozenTrial(number=5, values=[0.9638326585695006], datetime_start=datetime.datetime(2021, 9, 4, 10, 15, 19, 558044), datetime_complete=datetime.datetime(2021, 9, 4, 10, 15, 19, 753533), params={'n_estimators': 17, 'criterion': 'gini', 'max_depth': 21, 'max_features': 'auto'}, distributions={'n_estimators': IntUniformDistribution(high=20, low=1, step=1), 'criterion': CategoricalDistribution(choices=('gini', 'entropy')), 'max_depth': IntUniformDistribution(high=30, low=2, step=1), 'max_features': CategoricalDistribution(choices=('sqrt', 'log2', 'auto'))}, user_attrs={}, system_attrs={}, intermediate_values={}, trial_id=5, state=TrialState.COMPLETE, value=None)\n"
          ]
        }
      ]
    },
    {
      "cell_type": "code",
      "metadata": {
        "colab": {
          "base_uri": "https://localhost:8080/"
        },
        "id": "dCMWbPLwQ_l2",
        "outputId": "2df38d34-3fb0-41da-fef7-299ddf333747"
      },
      "source": [
        "study_ip.best_params"
      ],
      "execution_count": 64,
      "outputs": [
        {
          "output_type": "execute_result",
          "data": {
            "text/plain": [
              "{'criterion': 'gini',\n",
              " 'max_depth': 21,\n",
              " 'max_features': 'auto',\n",
              " 'n_estimators': 17}"
            ]
          },
          "metadata": {},
          "execution_count": 64
        }
      ]
    },
    {
      "cell_type": "markdown",
      "metadata": {
        "id": "XjdMPTmoRDYM"
      },
      "source": [
        "### モデルの作成"
      ]
    },
    {
      "cell_type": "code",
      "metadata": {
        "colab": {
          "base_uri": "https://localhost:8080/"
        },
        "id": "gYWa5ndDRBv5",
        "outputId": "2165ccfc-0eeb-4bf7-d259-64dae26bc5dd"
      },
      "source": [
        "from sklearn.ensemble import RandomForestClassifier\n",
        "\n",
        "model = RandomForestClassifier(n_estimators=4, max_depth=17, max_features='auto', criterion='entropy', random_state=0)\n",
        "model.fit(x_train, t_train)\n",
        "\n",
        "print('train score :', model.score(x_train, t_train))\n",
        "#print('test score :', model.score(x_test, t_test))\""
      ],
      "execution_count": 65,
      "outputs": [
        {
          "output_type": "stream",
          "name": "stdout",
          "text": [
            "train score : 1.0\n"
          ]
        }
      ]
    },
    {
      "cell_type": "code",
      "metadata": {
        "id": "So225pkWRSlw"
      },
      "source": [
        "import pickle\n",
        "# モデルの保存\n",
        "with open('/content/drive/MyDrive/Colab Notebooks/kikagaku/AI長期コース/0_自走アプリ/recipe_classifier_ip.pkl', 'wb') as f:\n",
        "    pickle.dump(model, f)"
      ],
      "execution_count": 66,
      "outputs": []
    },
    {
      "cell_type": "markdown",
      "metadata": {
        "id": "NzSDPq2PR6gH"
      },
      "source": [
        "## 類似度上位の料理"
      ]
    },
    {
      "cell_type": "code",
      "metadata": {
        "colab": {
          "base_uri": "https://localhost:8080/",
          "height": 357
        },
        "id": "o5jeNtcWSAx2",
        "outputId": "0bb65143-b222-4bba-f450-171cf51fd917"
      },
      "source": [
        "df_processed.head()"
      ],
      "execution_count": 67,
      "outputs": [
        {
          "output_type": "execute_result",
          "data": {
            "text/html": [
              "<div>\n",
              "<style scoped>\n",
              "    .dataframe tbody tr th:only-of-type {\n",
              "        vertical-align: middle;\n",
              "    }\n",
              "\n",
              "    .dataframe tbody tr th {\n",
              "        vertical-align: top;\n",
              "    }\n",
              "\n",
              "    .dataframe thead th {\n",
              "        text-align: right;\n",
              "    }\n",
              "</style>\n",
              "<table border=\"1\" class=\"dataframe\">\n",
              "  <thead>\n",
              "    <tr style=\"text-align: right;\">\n",
              "      <th></th>\n",
              "      <th>料理名</th>\n",
              "      <th>エネルギー[キロカロリー]</th>\n",
              "      <th>たんぱく質[グラム]</th>\n",
              "      <th>炭水化物[グラム]</th>\n",
              "      <th>脂質[グラム]</th>\n",
              "      <th>カルシウム[mg]</th>\n",
              "      <th>鉄分[mg]</th>\n",
              "      <th>ビタミンA[ug]</th>\n",
              "      <th>ビタミンB1[mg]</th>\n",
              "      <th>ビタミンB2[mg]</th>\n",
              "      <th>ビタミンC[mg]</th>\n",
              "      <th>調理工程</th>\n",
              "      <th>材料</th>\n",
              "      <th>n_cluster</th>\n",
              "      <th>ip_cluster</th>\n",
              "    </tr>\n",
              "  </thead>\n",
              "  <tbody>\n",
              "    <tr>\n",
              "      <th>0</th>\n",
              "      <td>ごはん（中茶碗1杯）</td>\n",
              "      <td>252</td>\n",
              "      <td>3.8</td>\n",
              "      <td>55.7</td>\n",
              "      <td>0.5</td>\n",
              "      <td>NaN</td>\n",
              "      <td>NaN</td>\n",
              "      <td>NaN</td>\n",
              "      <td>NaN</td>\n",
              "      <td>NaN</td>\n",
              "      <td>NaN</td>\n",
              "      <td>NaN</td>\n",
              "      <td>めし・精白米（水稲）：150</td>\n",
              "      <td>9.0</td>\n",
              "      <td>0</td>\n",
              "    </tr>\n",
              "    <tr>\n",
              "      <th>1</th>\n",
              "      <td>麦ごはん</td>\n",
              "      <td>248</td>\n",
              "      <td>4.3</td>\n",
              "      <td>54.0</td>\n",
              "      <td>0.7</td>\n",
              "      <td>NaN</td>\n",
              "      <td>NaN</td>\n",
              "      <td>NaN</td>\n",
              "      <td>NaN</td>\n",
              "      <td>NaN</td>\n",
              "      <td>NaN</td>\n",
              "      <td>NaN</td>\n",
              "      <td>米・精白米（水稲）：60\\n大麦・押麦：10.0</td>\n",
              "      <td>9.0</td>\n",
              "      <td>0</td>\n",
              "    </tr>\n",
              "    <tr>\n",
              "      <th>2</th>\n",
              "      <td>きのこたっぷり混ぜご飯</td>\n",
              "      <td>307</td>\n",
              "      <td>6.6</td>\n",
              "      <td>61.4</td>\n",
              "      <td>2.4</td>\n",
              "      <td>NaN</td>\n",
              "      <td>NaN</td>\n",
              "      <td>NaN</td>\n",
              "      <td>NaN</td>\n",
              "      <td>NaN</td>\n",
              "      <td>NaN</td>\n",
              "      <td>NaN</td>\n",
              "      <td>米・精白米（水稲）：70\\nえのきたけ＿生：7.0\\nしめじ・ぶなしめじ＿生：7.0\\nまい...</td>\n",
              "      <td>9.0</td>\n",
              "      <td>0</td>\n",
              "    </tr>\n",
              "    <tr>\n",
              "      <th>3</th>\n",
              "      <td>五目炊き込みご飯</td>\n",
              "      <td>311</td>\n",
              "      <td>11.4</td>\n",
              "      <td>57.9</td>\n",
              "      <td>2.7</td>\n",
              "      <td>28.0</td>\n",
              "      <td>0.5</td>\n",
              "      <td>62.0</td>\n",
              "      <td>0.06</td>\n",
              "      <td>0.09</td>\n",
              "      <td>2.0</td>\n",
              "      <td>NaN</td>\n",
              "      <td>米・精白米（水稲）：66\\n油揚げ：5.0\\nにんじん・根、皮つき＿生：7.0\\n板こんにゃ...</td>\n",
              "      <td>2.0</td>\n",
              "      <td>2</td>\n",
              "    </tr>\n",
              "    <tr>\n",
              "      <th>4</th>\n",
              "      <td>赤飯</td>\n",
              "      <td>289</td>\n",
              "      <td>6.1</td>\n",
              "      <td>63.8</td>\n",
              "      <td>1.1</td>\n",
              "      <td>18.0</td>\n",
              "      <td>0.8</td>\n",
              "      <td>0.0</td>\n",
              "      <td>0.13</td>\n",
              "      <td>0.03</td>\n",
              "      <td>0.0</td>\n",
              "      <td>NaN</td>\n",
              "      <td>赤飯（もち米製品）：150\\nごま＿いり：1.0\\n食塩：0.5</td>\n",
              "      <td>1.0</td>\n",
              "      <td>0</td>\n",
              "    </tr>\n",
              "  </tbody>\n",
              "</table>\n",
              "</div>"
            ],
            "text/plain": [
              "           料理名  エネルギー[キロカロリー]  ...  n_cluster  ip_cluster\n",
              "0   ごはん（中茶碗1杯）            252  ...        9.0           0\n",
              "1         麦ごはん            248  ...        9.0           0\n",
              "2  きのこたっぷり混ぜご飯            307  ...        9.0           0\n",
              "3     五目炊き込みご飯            311  ...        2.0           2\n",
              "4           赤飯            289  ...        1.0           0\n",
              "\n",
              "[5 rows x 15 columns]"
            ]
          },
          "metadata": {},
          "execution_count": 67
        }
      ]
    },
    {
      "cell_type": "code",
      "metadata": {
        "colab": {
          "base_uri": "https://localhost:8080/",
          "height": 357
        },
        "id": "S_qcSz8CUbiF",
        "outputId": "657837fa-2956-466e-bf06-1377d4c4146a"
      },
      "source": [
        "df_processed = df_processed.fillna('')\n",
        "df_processed.head()"
      ],
      "execution_count": 68,
      "outputs": [
        {
          "output_type": "execute_result",
          "data": {
            "text/html": [
              "<div>\n",
              "<style scoped>\n",
              "    .dataframe tbody tr th:only-of-type {\n",
              "        vertical-align: middle;\n",
              "    }\n",
              "\n",
              "    .dataframe tbody tr th {\n",
              "        vertical-align: top;\n",
              "    }\n",
              "\n",
              "    .dataframe thead th {\n",
              "        text-align: right;\n",
              "    }\n",
              "</style>\n",
              "<table border=\"1\" class=\"dataframe\">\n",
              "  <thead>\n",
              "    <tr style=\"text-align: right;\">\n",
              "      <th></th>\n",
              "      <th>料理名</th>\n",
              "      <th>エネルギー[キロカロリー]</th>\n",
              "      <th>たんぱく質[グラム]</th>\n",
              "      <th>炭水化物[グラム]</th>\n",
              "      <th>脂質[グラム]</th>\n",
              "      <th>カルシウム[mg]</th>\n",
              "      <th>鉄分[mg]</th>\n",
              "      <th>ビタミンA[ug]</th>\n",
              "      <th>ビタミンB1[mg]</th>\n",
              "      <th>ビタミンB2[mg]</th>\n",
              "      <th>ビタミンC[mg]</th>\n",
              "      <th>調理工程</th>\n",
              "      <th>材料</th>\n",
              "      <th>n_cluster</th>\n",
              "      <th>ip_cluster</th>\n",
              "    </tr>\n",
              "  </thead>\n",
              "  <tbody>\n",
              "    <tr>\n",
              "      <th>0</th>\n",
              "      <td>ごはん（中茶碗1杯）</td>\n",
              "      <td>252</td>\n",
              "      <td>3.8</td>\n",
              "      <td>55.7</td>\n",
              "      <td>0.5</td>\n",
              "      <td></td>\n",
              "      <td></td>\n",
              "      <td></td>\n",
              "      <td></td>\n",
              "      <td></td>\n",
              "      <td></td>\n",
              "      <td></td>\n",
              "      <td>めし・精白米（水稲）：150</td>\n",
              "      <td>9.0</td>\n",
              "      <td>0</td>\n",
              "    </tr>\n",
              "    <tr>\n",
              "      <th>1</th>\n",
              "      <td>麦ごはん</td>\n",
              "      <td>248</td>\n",
              "      <td>4.3</td>\n",
              "      <td>54.0</td>\n",
              "      <td>0.7</td>\n",
              "      <td></td>\n",
              "      <td></td>\n",
              "      <td></td>\n",
              "      <td></td>\n",
              "      <td></td>\n",
              "      <td></td>\n",
              "      <td></td>\n",
              "      <td>米・精白米（水稲）：60\\n大麦・押麦：10.0</td>\n",
              "      <td>9.0</td>\n",
              "      <td>0</td>\n",
              "    </tr>\n",
              "    <tr>\n",
              "      <th>2</th>\n",
              "      <td>きのこたっぷり混ぜご飯</td>\n",
              "      <td>307</td>\n",
              "      <td>6.6</td>\n",
              "      <td>61.4</td>\n",
              "      <td>2.4</td>\n",
              "      <td></td>\n",
              "      <td></td>\n",
              "      <td></td>\n",
              "      <td></td>\n",
              "      <td></td>\n",
              "      <td></td>\n",
              "      <td></td>\n",
              "      <td>米・精白米（水稲）：70\\nえのきたけ＿生：7.0\\nしめじ・ぶなしめじ＿生：7.0\\nまい...</td>\n",
              "      <td>9.0</td>\n",
              "      <td>0</td>\n",
              "    </tr>\n",
              "    <tr>\n",
              "      <th>3</th>\n",
              "      <td>五目炊き込みご飯</td>\n",
              "      <td>311</td>\n",
              "      <td>11.4</td>\n",
              "      <td>57.9</td>\n",
              "      <td>2.7</td>\n",
              "      <td>28</td>\n",
              "      <td>0.5</td>\n",
              "      <td>62</td>\n",
              "      <td>0.06</td>\n",
              "      <td>0.09</td>\n",
              "      <td>2</td>\n",
              "      <td></td>\n",
              "      <td>米・精白米（水稲）：66\\n油揚げ：5.0\\nにんじん・根、皮つき＿生：7.0\\n板こんにゃ...</td>\n",
              "      <td>2.0</td>\n",
              "      <td>2</td>\n",
              "    </tr>\n",
              "    <tr>\n",
              "      <th>4</th>\n",
              "      <td>赤飯</td>\n",
              "      <td>289</td>\n",
              "      <td>6.1</td>\n",
              "      <td>63.8</td>\n",
              "      <td>1.1</td>\n",
              "      <td>18</td>\n",
              "      <td>0.8</td>\n",
              "      <td>0</td>\n",
              "      <td>0.13</td>\n",
              "      <td>0.03</td>\n",
              "      <td>0</td>\n",
              "      <td></td>\n",
              "      <td>赤飯（もち米製品）：150\\nごま＿いり：1.0\\n食塩：0.5</td>\n",
              "      <td>1.0</td>\n",
              "      <td>0</td>\n",
              "    </tr>\n",
              "  </tbody>\n",
              "</table>\n",
              "</div>"
            ],
            "text/plain": [
              "           料理名  エネルギー[キロカロリー]  ...  n_cluster  ip_cluster\n",
              "0   ごはん（中茶碗1杯）            252  ...        9.0           0\n",
              "1         麦ごはん            248  ...        9.0           0\n",
              "2  きのこたっぷり混ぜご飯            307  ...        9.0           0\n",
              "3     五目炊き込みご飯            311  ...        2.0           2\n",
              "4           赤飯            289  ...        1.0           0\n",
              "\n",
              "[5 rows x 15 columns]"
            ]
          },
          "metadata": {},
          "execution_count": 68
        }
      ]
    },
    {
      "cell_type": "markdown",
      "metadata": {
        "id": "HfGCm0XJSvce"
      },
      "source": [
        "### コサイン類似度"
      ]
    },
    {
      "cell_type": "code",
      "metadata": {
        "id": "vHvmn5B_Sysg"
      },
      "source": [
        "from sklearn.metrics.pairwise import cosine_similarity"
      ],
      "execution_count": 69,
      "outputs": []
    },
    {
      "cell_type": "code",
      "metadata": {
        "id": "cx5nQ6zWTDD3"
      },
      "source": [
        "# 関数：栄養\n",
        "def recipe_cs_top3_ntr(df):\n",
        "\n",
        "  cos_sims_top3_ntr_all = []\n",
        "  for i in range(df.shape[0]):\n",
        "    if df.iloc[i, 5] == '':\n",
        "      cos_sims_top3_ntr_all.append('')\n",
        "    else:\n",
        "      cos_sims_ntr = {}\n",
        "      for j in range(df.shape[0]):\n",
        "        if i == j:\n",
        "          continue\n",
        "        elif df.iloc[j, 5] == '':\n",
        "          continue\n",
        "        else:        \n",
        "          cs_ntr = round(float(cosine_similarity(df.iloc[i, 1:10].values.reshape(1, -1), df.iloc[j, 1:10].values.reshape(1, -1))), 3)\n",
        "          cos_sims_ntr[j] = cs_ntr\n",
        "\n",
        "      cos_sims_top3_ntr = sorted(cos_sims_ntr.items(), key=lambda x:x[1], reverse=True)[:3]\n",
        "      top3_idx_ntr = [df['料理名'][k[0]] for k in cos_sims_top3_ntr]\n",
        "\n",
        "      cos_sims_top3_ntr_all.append(top3_idx_ntr)\n",
        "\n",
        "  return cos_sims_top3_ntr_all"
      ],
      "execution_count": 70,
      "outputs": []
    },
    {
      "cell_type": "code",
      "metadata": {
        "colab": {
          "base_uri": "https://localhost:8080/"
        },
        "id": "74d4VT42W7-U",
        "outputId": "5c540c63-8130-4f1b-88d0-483578484b82"
      },
      "source": [
        "cos_sims_top3_ntr_all = recipe_cs_top3_ntr(df_processed)\n",
        "cos_sims_top3_ntr_all[:10]"
      ],
      "execution_count": 71,
      "outputs": [
        {
          "output_type": "execute_result",
          "data": {
            "text/plain": [
              "['',\n",
              " '',\n",
              " '',\n",
              " ['巻き寿司', '親子丼', '炒飯'],\n",
              " ['きな粉もち（1個）', 'えび天うどん（えび天1尾）', '肉そば'],\n",
              " '',\n",
              " ['五目炊き込みご飯', '炒飯', '筑前煮'],\n",
              " ['かぼちゃの煮物', '焼魚の野菜あんかけ', 'ゆで卵（塩）'],\n",
              " ['炒飯', 'ざるそば', '五目炊き込みご飯'],\n",
              " '']"
            ]
          },
          "metadata": {},
          "execution_count": 71
        }
      ]
    },
    {
      "cell_type": "code",
      "metadata": {
        "id": "z0gZMjXBtTxq"
      },
      "source": [
        "# 関数：材料・工程\n",
        "def recipe_cs_top3_ip(df, data):\n",
        "\n",
        "  cos_sims_top3_ip_all = []\n",
        "  for i in range(df.shape[0]):\n",
        "    cos_sims_ip = {}\n",
        "    for j in range(df.shape[0]):\n",
        "      if i == j:\n",
        "        continue\n",
        "      else:\n",
        "        #cs_ip = round(float(cosine_similarity(tfidf_maxrix[i].reshape(1, -1), tfidf_maxrix[j].reshape(1, -1))), 3)\n",
        "        cs_ip = round(float(cosine_similarity(data[i].reshape(1, -1), data[j].reshape(1, -1))), 3)\n",
        "\n",
        "        cos_sims_ip[j] = cs_ip\n",
        "\n",
        "    cos_sims_top3_ip = sorted(cos_sims_ip.items(), key=lambda x:x[1], reverse=True)[:3]\n",
        "    top3_idx_ip = [df['料理名'][k[0]] for k in cos_sims_top3_ip]\n",
        "\n",
        "    cos_sims_top3_ip_all.append(top3_idx_ip)\n",
        "\n",
        "  return cos_sims_top3_ip_all"
      ],
      "execution_count": 72,
      "outputs": []
    },
    {
      "cell_type": "code",
      "metadata": {
        "id": "4pm-gKgctaeX"
      },
      "source": [
        "cos_sims_top3_ip_all = recipe_cs_top3_ip(df_processed, vectors_list)"
      ],
      "execution_count": 73,
      "outputs": []
    },
    {
      "cell_type": "code",
      "metadata": {
        "colab": {
          "base_uri": "https://localhost:8080/"
        },
        "id": "0iqlT1jwtsoY",
        "outputId": "12b3be74-6779-4cf3-f23c-e8da9ab304c4"
      },
      "source": [
        "cos_sims_top3_ip_all[30:40]"
      ],
      "execution_count": 74,
      "outputs": [
        {
          "output_type": "execute_result",
          "data": {
            "text/plain": [
              "[['豚汁', 'かぼちゃのポタージュ', 'ポテトコロッケ'],\n",
              " ['豚汁', 'ポテトコロッケ', 'かぼちゃのポタージュ'],\n",
              " ['クリームシチュー', '豚汁', 'すきやき'],\n",
              " ['カキフライ（4個）', 'クリームシチュー', '大根きんぴら'],\n",
              " ['豚汁', '麻婆豆腐', '若竹煮'],\n",
              " ['肉野菜炒め', '麻婆豆腐', 'ビーフシチュー'],\n",
              " ['筑前煮', '若竹煮', '豆腐とえのきとわかめのすまし汁'],\n",
              " ['茶碗蒸し', '蓮根ハンバーグ', '豆腐ハンバーグ＿ジャポネソース'],\n",
              " ['ビーフシチュー', '春キャベツの具沢山ミルクスープ', 'ポテトコロッケ'],\n",
              " ['豚汁', '麻婆豆腐', '鶏の甘酢あんかけ']]"
            ]
          },
          "metadata": {},
          "execution_count": 74
        }
      ]
    },
    {
      "cell_type": "code",
      "metadata": {
        "id": "2GALf9TCrJXO"
      },
      "source": [
        "df_processed['似ている料理_栄養'] = cos_sims_top3_ntr_all\n",
        "df_processed['似ている料理_材料・工程'] = cos_sims_top3_ip_all"
      ],
      "execution_count": 75,
      "outputs": []
    },
    {
      "cell_type": "code",
      "metadata": {
        "colab": {
          "base_uri": "https://localhost:8080/",
          "height": 493
        },
        "id": "z35n9-OquGDC",
        "outputId": "803d031a-9bb9-4f73-8137-2b4af2bd5e4e"
      },
      "source": [
        "df_processed.head()"
      ],
      "execution_count": 76,
      "outputs": [
        {
          "output_type": "execute_result",
          "data": {
            "text/html": [
              "<div>\n",
              "<style scoped>\n",
              "    .dataframe tbody tr th:only-of-type {\n",
              "        vertical-align: middle;\n",
              "    }\n",
              "\n",
              "    .dataframe tbody tr th {\n",
              "        vertical-align: top;\n",
              "    }\n",
              "\n",
              "    .dataframe thead th {\n",
              "        text-align: right;\n",
              "    }\n",
              "</style>\n",
              "<table border=\"1\" class=\"dataframe\">\n",
              "  <thead>\n",
              "    <tr style=\"text-align: right;\">\n",
              "      <th></th>\n",
              "      <th>料理名</th>\n",
              "      <th>エネルギー[キロカロリー]</th>\n",
              "      <th>たんぱく質[グラム]</th>\n",
              "      <th>炭水化物[グラム]</th>\n",
              "      <th>脂質[グラム]</th>\n",
              "      <th>カルシウム[mg]</th>\n",
              "      <th>鉄分[mg]</th>\n",
              "      <th>ビタミンA[ug]</th>\n",
              "      <th>ビタミンB1[mg]</th>\n",
              "      <th>ビタミンB2[mg]</th>\n",
              "      <th>ビタミンC[mg]</th>\n",
              "      <th>調理工程</th>\n",
              "      <th>材料</th>\n",
              "      <th>n_cluster</th>\n",
              "      <th>ip_cluster</th>\n",
              "      <th>似ている料理_栄養</th>\n",
              "      <th>似ている料理_材料・工程</th>\n",
              "    </tr>\n",
              "  </thead>\n",
              "  <tbody>\n",
              "    <tr>\n",
              "      <th>0</th>\n",
              "      <td>ごはん（中茶碗1杯）</td>\n",
              "      <td>252</td>\n",
              "      <td>3.8</td>\n",
              "      <td>55.7</td>\n",
              "      <td>0.5</td>\n",
              "      <td></td>\n",
              "      <td></td>\n",
              "      <td></td>\n",
              "      <td></td>\n",
              "      <td></td>\n",
              "      <td></td>\n",
              "      <td></td>\n",
              "      <td>めし・精白米（水稲）：150</td>\n",
              "      <td>9.0</td>\n",
              "      <td>0</td>\n",
              "      <td></td>\n",
              "      <td>[たまごの袋煮, チキンカツ（ソース付き）, 焼き茄子]</td>\n",
              "    </tr>\n",
              "    <tr>\n",
              "      <th>1</th>\n",
              "      <td>麦ごはん</td>\n",
              "      <td>248</td>\n",
              "      <td>4.3</td>\n",
              "      <td>54.0</td>\n",
              "      <td>0.7</td>\n",
              "      <td></td>\n",
              "      <td></td>\n",
              "      <td></td>\n",
              "      <td></td>\n",
              "      <td></td>\n",
              "      <td></td>\n",
              "      <td></td>\n",
              "      <td>米・精白米（水稲）：60\\n大麦・押麦：10.0</td>\n",
              "      <td>9.0</td>\n",
              "      <td>0</td>\n",
              "      <td></td>\n",
              "      <td>[カツ丼, タコの刺身（5切）（醤油付き）, 鶏むね肉の味噌ダレ焼き]</td>\n",
              "    </tr>\n",
              "    <tr>\n",
              "      <th>2</th>\n",
              "      <td>きのこたっぷり混ぜご飯</td>\n",
              "      <td>307</td>\n",
              "      <td>6.6</td>\n",
              "      <td>61.4</td>\n",
              "      <td>2.4</td>\n",
              "      <td></td>\n",
              "      <td></td>\n",
              "      <td></td>\n",
              "      <td></td>\n",
              "      <td></td>\n",
              "      <td></td>\n",
              "      <td></td>\n",
              "      <td>米・精白米（水稲）：70\\nえのきたけ＿生：7.0\\nしめじ・ぶなしめじ＿生：7.0\\nまい...</td>\n",
              "      <td>9.0</td>\n",
              "      <td>0</td>\n",
              "      <td></td>\n",
              "      <td>[肉野菜炒め, ポテトコロッケ, オニオンスープ]</td>\n",
              "    </tr>\n",
              "    <tr>\n",
              "      <th>3</th>\n",
              "      <td>五目炊き込みご飯</td>\n",
              "      <td>311</td>\n",
              "      <td>11.4</td>\n",
              "      <td>57.9</td>\n",
              "      <td>2.7</td>\n",
              "      <td>28</td>\n",
              "      <td>0.5</td>\n",
              "      <td>62</td>\n",
              "      <td>0.06</td>\n",
              "      <td>0.09</td>\n",
              "      <td>2</td>\n",
              "      <td></td>\n",
              "      <td>米・精白米（水稲）：66\\n油揚げ：5.0\\nにんじん・根、皮つき＿生：7.0\\n板こんにゃ...</td>\n",
              "      <td>2.0</td>\n",
              "      <td>2</td>\n",
              "      <td>[巻き寿司, 親子丼, 炒飯]</td>\n",
              "      <td>[クリームシチュー, かぼちゃのポタージュ, 豚汁]</td>\n",
              "    </tr>\n",
              "    <tr>\n",
              "      <th>4</th>\n",
              "      <td>赤飯</td>\n",
              "      <td>289</td>\n",
              "      <td>6.1</td>\n",
              "      <td>63.8</td>\n",
              "      <td>1.1</td>\n",
              "      <td>18</td>\n",
              "      <td>0.8</td>\n",
              "      <td>0</td>\n",
              "      <td>0.13</td>\n",
              "      <td>0.03</td>\n",
              "      <td>0</td>\n",
              "      <td></td>\n",
              "      <td>赤飯（もち米製品）：150\\nごま＿いり：1.0\\n食塩：0.5</td>\n",
              "      <td>1.0</td>\n",
              "      <td>0</td>\n",
              "      <td>[きな粉もち（1個）, えび天うどん（えび天1尾）, 肉そば]</td>\n",
              "      <td>[鶏もも肉の照り焼き, もやしと油揚げのみそ汁, にら玉スープ]</td>\n",
              "    </tr>\n",
              "  </tbody>\n",
              "</table>\n",
              "</div>"
            ],
            "text/plain": [
              "           料理名  ...                         似ている料理_材料・工程\n",
              "0   ごはん（中茶碗1杯）  ...         [たまごの袋煮, チキンカツ（ソース付き）, 焼き茄子]\n",
              "1         麦ごはん  ...  [カツ丼, タコの刺身（5切）（醤油付き）, 鶏むね肉の味噌ダレ焼き]\n",
              "2  きのこたっぷり混ぜご飯  ...            [肉野菜炒め, ポテトコロッケ, オニオンスープ]\n",
              "3     五目炊き込みご飯  ...           [クリームシチュー, かぼちゃのポタージュ, 豚汁]\n",
              "4           赤飯  ...     [鶏もも肉の照り焼き, もやしと油揚げのみそ汁, にら玉スープ]\n",
              "\n",
              "[5 rows x 17 columns]"
            ]
          },
          "metadata": {},
          "execution_count": 76
        }
      ]
    },
    {
      "cell_type": "code",
      "metadata": {
        "id": "a736195eu0Cm"
      },
      "source": [
        "# 関数：栄養上おすすめの組み合わせ\n",
        "proper_energy = 2700 / 3\n",
        "proper_protein = 65 / 3\n",
        "proper_calcium = 750 / 3\n",
        "proper_iron = 7.5 / 3\n",
        "proper_vitamin_a = 900 / 3\n",
        "proper_vitamin_b1 = 1.4 / 3\n",
        "proper_vitamin_b2 = 1.6 / 3\n",
        "proper_vitamin_c = 100 / 3\n",
        "\n",
        "def recipe_cs_top_recommend(df):\n",
        "\n",
        "  cos_sims_top_recommend_all = []\n",
        "  for i in range(df.shape[0]):\n",
        "    if df.iloc[i, 5] == '':\n",
        "      cos_sims_top_recommend_all.append('')\n",
        "    else:\n",
        "\n",
        "      recommend_ntr_vec = [\n",
        "                  proper_energy - df.iloc[i, 1],\n",
        "                  proper_protein - df.iloc[i, 2],\n",
        "                  proper_calcium - df.iloc[i, 5],\n",
        "                  proper_iron - df.iloc[i, 6],\n",
        "                  proper_vitamin_a - df.iloc[i, 7],\n",
        "                  proper_vitamin_b1 - df.iloc[i, 8],\n",
        "                  proper_vitamin_b2 - df.iloc[i, 9],\n",
        "                  proper_vitamin_c - df.iloc[i, 10]\n",
        "      ] \n",
        "\n",
        "      cos_sims_recommend = {}\n",
        "      for j in range(df.shape[0]):\n",
        "        if i == j:\n",
        "          continue\n",
        "        elif df.iloc[j, 5] == '':\n",
        "          continue\n",
        "        else:\n",
        "          ntr_vec = [\n",
        "                     df.iloc[j, 1],\n",
        "                     df.iloc[j, 2],\n",
        "                     df.iloc[j, 5],\n",
        "                     df.iloc[j, 6],\n",
        "                     df.iloc[j, 7],\n",
        "                     df.iloc[j, 8],\n",
        "                     df.iloc[j, 9],\n",
        "                     df.iloc[j, 10]\n",
        "          ]\n",
        "\n",
        "          cs_recommend = round(float(cosine_similarity(np.array(recommend_ntr_vec).reshape(1, -1), np.array(ntr_vec).reshape(1, -1))), 3)\n",
        "          cos_sims_recommend[j] = cs_recommend\n",
        "\n",
        "      #cos_sims_top3_recommend = sorted(cos_sims_recommend.items(), key=lambda x:x[1], reverse=True)[:3]\n",
        "      #top3_idx_recommend = [df['料理名'][k[0]] for k in cos_sims_top3_recommend]\n",
        "\n",
        "      top_recommend = sorted(cos_sims_recommend.items(), key=lambda x:x[1], reverse=True)[0]\n",
        "      top_recommend_name = df['料理名'][top_recommend[0]]\n",
        "\n",
        "      cos_sims_top_recommend_all.append(top_recommend_name)\n",
        "\n",
        "  return cos_sims_top_recommend_all"
      ],
      "execution_count": 79,
      "outputs": []
    },
    {
      "cell_type": "code",
      "metadata": {
        "id": "vyCjSzLd4M1c"
      },
      "source": [
        "cos_sims_top_recommend_all = recipe_cs_top_recommend(df_processed)"
      ],
      "execution_count": 80,
      "outputs": []
    },
    {
      "cell_type": "code",
      "metadata": {
        "colab": {
          "base_uri": "https://localhost:8080/",
          "height": 612
        },
        "id": "t7-YFnE64gXy",
        "outputId": "d90af892-b3de-40ce-ecf2-834ef1b6371d"
      },
      "source": [
        "df_processed['おすすめの組み合わせ'] = cos_sims_top_recommend_all\n",
        "df_processed.head()"
      ],
      "execution_count": 81,
      "outputs": [
        {
          "output_type": "execute_result",
          "data": {
            "text/html": [
              "<div>\n",
              "<style scoped>\n",
              "    .dataframe tbody tr th:only-of-type {\n",
              "        vertical-align: middle;\n",
              "    }\n",
              "\n",
              "    .dataframe tbody tr th {\n",
              "        vertical-align: top;\n",
              "    }\n",
              "\n",
              "    .dataframe thead th {\n",
              "        text-align: right;\n",
              "    }\n",
              "</style>\n",
              "<table border=\"1\" class=\"dataframe\">\n",
              "  <thead>\n",
              "    <tr style=\"text-align: right;\">\n",
              "      <th></th>\n",
              "      <th>料理名</th>\n",
              "      <th>エネルギー[キロカロリー]</th>\n",
              "      <th>たんぱく質[グラム]</th>\n",
              "      <th>炭水化物[グラム]</th>\n",
              "      <th>脂質[グラム]</th>\n",
              "      <th>カルシウム[mg]</th>\n",
              "      <th>鉄分[mg]</th>\n",
              "      <th>ビタミンA[ug]</th>\n",
              "      <th>ビタミンB1[mg]</th>\n",
              "      <th>ビタミンB2[mg]</th>\n",
              "      <th>ビタミンC[mg]</th>\n",
              "      <th>調理工程</th>\n",
              "      <th>材料</th>\n",
              "      <th>n_cluster</th>\n",
              "      <th>ip_cluster</th>\n",
              "      <th>似ている料理_栄養</th>\n",
              "      <th>似ている料理_材料・工程</th>\n",
              "      <th>おすすめの組み合わせ</th>\n",
              "    </tr>\n",
              "  </thead>\n",
              "  <tbody>\n",
              "    <tr>\n",
              "      <th>0</th>\n",
              "      <td>ごはん（中茶碗1杯）</td>\n",
              "      <td>252</td>\n",
              "      <td>3.8</td>\n",
              "      <td>55.7</td>\n",
              "      <td>0.5</td>\n",
              "      <td></td>\n",
              "      <td></td>\n",
              "      <td></td>\n",
              "      <td></td>\n",
              "      <td></td>\n",
              "      <td></td>\n",
              "      <td></td>\n",
              "      <td>めし・精白米（水稲）：150</td>\n",
              "      <td>9.0</td>\n",
              "      <td>0</td>\n",
              "      <td></td>\n",
              "      <td>[たまごの袋煮, チキンカツ（ソース付き）, 焼き茄子]</td>\n",
              "      <td></td>\n",
              "    </tr>\n",
              "    <tr>\n",
              "      <th>1</th>\n",
              "      <td>麦ごはん</td>\n",
              "      <td>248</td>\n",
              "      <td>4.3</td>\n",
              "      <td>54.0</td>\n",
              "      <td>0.7</td>\n",
              "      <td></td>\n",
              "      <td></td>\n",
              "      <td></td>\n",
              "      <td></td>\n",
              "      <td></td>\n",
              "      <td></td>\n",
              "      <td></td>\n",
              "      <td>米・精白米（水稲）：60\\n大麦・押麦：10.0</td>\n",
              "      <td>9.0</td>\n",
              "      <td>0</td>\n",
              "      <td></td>\n",
              "      <td>[カツ丼, タコの刺身（5切）（醤油付き）, 鶏むね肉の味噌ダレ焼き]</td>\n",
              "      <td></td>\n",
              "    </tr>\n",
              "    <tr>\n",
              "      <th>2</th>\n",
              "      <td>きのこたっぷり混ぜご飯</td>\n",
              "      <td>307</td>\n",
              "      <td>6.6</td>\n",
              "      <td>61.4</td>\n",
              "      <td>2.4</td>\n",
              "      <td></td>\n",
              "      <td></td>\n",
              "      <td></td>\n",
              "      <td></td>\n",
              "      <td></td>\n",
              "      <td></td>\n",
              "      <td></td>\n",
              "      <td>米・精白米（水稲）：70\\nえのきたけ＿生：7.0\\nしめじ・ぶなしめじ＿生：7.0\\nまい...</td>\n",
              "      <td>9.0</td>\n",
              "      <td>0</td>\n",
              "      <td></td>\n",
              "      <td>[肉野菜炒め, ポテトコロッケ, オニオンスープ]</td>\n",
              "      <td></td>\n",
              "    </tr>\n",
              "    <tr>\n",
              "      <th>3</th>\n",
              "      <td>五目炊き込みご飯</td>\n",
              "      <td>311</td>\n",
              "      <td>11.4</td>\n",
              "      <td>57.9</td>\n",
              "      <td>2.7</td>\n",
              "      <td>28</td>\n",
              "      <td>0.5</td>\n",
              "      <td>62</td>\n",
              "      <td>0.06</td>\n",
              "      <td>0.09</td>\n",
              "      <td>2</td>\n",
              "      <td></td>\n",
              "      <td>米・精白米（水稲）：66\\n油揚げ：5.0\\nにんじん・根、皮つき＿生：7.0\\n板こんにゃ...</td>\n",
              "      <td>2.0</td>\n",
              "      <td>2</td>\n",
              "      <td>[巻き寿司, 親子丼, 炒飯]</td>\n",
              "      <td>[クリームシチュー, かぼちゃのポタージュ, 豚汁]</td>\n",
              "      <td>フレンチトースト（食パン6枚切り1枚）</td>\n",
              "    </tr>\n",
              "    <tr>\n",
              "      <th>4</th>\n",
              "      <td>赤飯</td>\n",
              "      <td>289</td>\n",
              "      <td>6.1</td>\n",
              "      <td>63.8</td>\n",
              "      <td>1.1</td>\n",
              "      <td>18</td>\n",
              "      <td>0.8</td>\n",
              "      <td>0</td>\n",
              "      <td>0.13</td>\n",
              "      <td>0.03</td>\n",
              "      <td>0</td>\n",
              "      <td></td>\n",
              "      <td>赤飯（もち米製品）：150\\nごま＿いり：1.0\\n食塩：0.5</td>\n",
              "      <td>1.0</td>\n",
              "      <td>0</td>\n",
              "      <td>[きな粉もち（1個）, えび天うどん（えび天1尾）, 肉そば]</td>\n",
              "      <td>[鶏もも肉の照り焼き, もやしと油揚げのみそ汁, にら玉スープ]</td>\n",
              "      <td>クリームシチュー</td>\n",
              "    </tr>\n",
              "  </tbody>\n",
              "</table>\n",
              "</div>"
            ],
            "text/plain": [
              "           料理名  ...           おすすめの組み合わせ\n",
              "0   ごはん（中茶碗1杯）  ...                     \n",
              "1         麦ごはん  ...                     \n",
              "2  きのこたっぷり混ぜご飯  ...                     \n",
              "3     五目炊き込みご飯  ...  フレンチトースト（食パン6枚切り1枚）\n",
              "4           赤飯  ...             クリームシチュー\n",
              "\n",
              "[5 rows x 18 columns]"
            ]
          },
          "metadata": {},
          "execution_count": 81
        }
      ]
    },
    {
      "cell_type": "code",
      "metadata": {
        "id": "qxrHldF56hWV"
      },
      "source": [
        "df_processed = df_processed.reindex(columns=['料理名', 'エネルギー[キロカロリー]', '炭水化物[グラム]', 'たんぱく質[グラム]', '脂質[グラム]', 'カルシウム[mg]', '鉄分[mg]', 'ビタミンA[ug]', 'ビタミンB1[mg]', 'ビタミンB2[mg]', 'ビタミンC[mg]', '材料', '調理工程', 'n_cluster', 'ip_cluster', '似ている料理_栄養', '似ている料理_材料・工程', 'おすすめの組み合わせ'])"
      ],
      "execution_count": 82,
      "outputs": []
    },
    {
      "cell_type": "code",
      "metadata": {
        "colab": {
          "base_uri": "https://localhost:8080/",
          "height": 612
        },
        "id": "d09SM4P09QNz",
        "outputId": "07b3e2c7-c88d-45f9-b8bc-1f2780f8f950"
      },
      "source": [
        "df_processed.head()"
      ],
      "execution_count": 83,
      "outputs": [
        {
          "output_type": "execute_result",
          "data": {
            "text/html": [
              "<div>\n",
              "<style scoped>\n",
              "    .dataframe tbody tr th:only-of-type {\n",
              "        vertical-align: middle;\n",
              "    }\n",
              "\n",
              "    .dataframe tbody tr th {\n",
              "        vertical-align: top;\n",
              "    }\n",
              "\n",
              "    .dataframe thead th {\n",
              "        text-align: right;\n",
              "    }\n",
              "</style>\n",
              "<table border=\"1\" class=\"dataframe\">\n",
              "  <thead>\n",
              "    <tr style=\"text-align: right;\">\n",
              "      <th></th>\n",
              "      <th>料理名</th>\n",
              "      <th>エネルギー[キロカロリー]</th>\n",
              "      <th>炭水化物[グラム]</th>\n",
              "      <th>たんぱく質[グラム]</th>\n",
              "      <th>脂質[グラム]</th>\n",
              "      <th>カルシウム[mg]</th>\n",
              "      <th>鉄分[mg]</th>\n",
              "      <th>ビタミンA[ug]</th>\n",
              "      <th>ビタミンB1[mg]</th>\n",
              "      <th>ビタミンB2[mg]</th>\n",
              "      <th>ビタミンC[mg]</th>\n",
              "      <th>材料</th>\n",
              "      <th>調理工程</th>\n",
              "      <th>n_cluster</th>\n",
              "      <th>ip_cluster</th>\n",
              "      <th>似ている料理_栄養</th>\n",
              "      <th>似ている料理_材料・工程</th>\n",
              "      <th>おすすめの組み合わせ</th>\n",
              "    </tr>\n",
              "  </thead>\n",
              "  <tbody>\n",
              "    <tr>\n",
              "      <th>0</th>\n",
              "      <td>ごはん（中茶碗1杯）</td>\n",
              "      <td>252</td>\n",
              "      <td>55.7</td>\n",
              "      <td>3.8</td>\n",
              "      <td>0.5</td>\n",
              "      <td></td>\n",
              "      <td></td>\n",
              "      <td></td>\n",
              "      <td></td>\n",
              "      <td></td>\n",
              "      <td></td>\n",
              "      <td>めし・精白米（水稲）：150</td>\n",
              "      <td></td>\n",
              "      <td>9.0</td>\n",
              "      <td>0</td>\n",
              "      <td></td>\n",
              "      <td>[たまごの袋煮, チキンカツ（ソース付き）, 焼き茄子]</td>\n",
              "      <td></td>\n",
              "    </tr>\n",
              "    <tr>\n",
              "      <th>1</th>\n",
              "      <td>麦ごはん</td>\n",
              "      <td>248</td>\n",
              "      <td>54.0</td>\n",
              "      <td>4.3</td>\n",
              "      <td>0.7</td>\n",
              "      <td></td>\n",
              "      <td></td>\n",
              "      <td></td>\n",
              "      <td></td>\n",
              "      <td></td>\n",
              "      <td></td>\n",
              "      <td>米・精白米（水稲）：60\\n大麦・押麦：10.0</td>\n",
              "      <td></td>\n",
              "      <td>9.0</td>\n",
              "      <td>0</td>\n",
              "      <td></td>\n",
              "      <td>[カツ丼, タコの刺身（5切）（醤油付き）, 鶏むね肉の味噌ダレ焼き]</td>\n",
              "      <td></td>\n",
              "    </tr>\n",
              "    <tr>\n",
              "      <th>2</th>\n",
              "      <td>きのこたっぷり混ぜご飯</td>\n",
              "      <td>307</td>\n",
              "      <td>61.4</td>\n",
              "      <td>6.6</td>\n",
              "      <td>2.4</td>\n",
              "      <td></td>\n",
              "      <td></td>\n",
              "      <td></td>\n",
              "      <td></td>\n",
              "      <td></td>\n",
              "      <td></td>\n",
              "      <td>米・精白米（水稲）：70\\nえのきたけ＿生：7.0\\nしめじ・ぶなしめじ＿生：7.0\\nまい...</td>\n",
              "      <td></td>\n",
              "      <td>9.0</td>\n",
              "      <td>0</td>\n",
              "      <td></td>\n",
              "      <td>[肉野菜炒め, ポテトコロッケ, オニオンスープ]</td>\n",
              "      <td></td>\n",
              "    </tr>\n",
              "    <tr>\n",
              "      <th>3</th>\n",
              "      <td>五目炊き込みご飯</td>\n",
              "      <td>311</td>\n",
              "      <td>57.9</td>\n",
              "      <td>11.4</td>\n",
              "      <td>2.7</td>\n",
              "      <td>28</td>\n",
              "      <td>0.5</td>\n",
              "      <td>62</td>\n",
              "      <td>0.06</td>\n",
              "      <td>0.09</td>\n",
              "      <td>2</td>\n",
              "      <td>米・精白米（水稲）：66\\n油揚げ：5.0\\nにんじん・根、皮つき＿生：7.0\\n板こんにゃ...</td>\n",
              "      <td></td>\n",
              "      <td>2.0</td>\n",
              "      <td>2</td>\n",
              "      <td>[巻き寿司, 親子丼, 炒飯]</td>\n",
              "      <td>[クリームシチュー, かぼちゃのポタージュ, 豚汁]</td>\n",
              "      <td>フレンチトースト（食パン6枚切り1枚）</td>\n",
              "    </tr>\n",
              "    <tr>\n",
              "      <th>4</th>\n",
              "      <td>赤飯</td>\n",
              "      <td>289</td>\n",
              "      <td>63.8</td>\n",
              "      <td>6.1</td>\n",
              "      <td>1.1</td>\n",
              "      <td>18</td>\n",
              "      <td>0.8</td>\n",
              "      <td>0</td>\n",
              "      <td>0.13</td>\n",
              "      <td>0.03</td>\n",
              "      <td>0</td>\n",
              "      <td>赤飯（もち米製品）：150\\nごま＿いり：1.0\\n食塩：0.5</td>\n",
              "      <td></td>\n",
              "      <td>1.0</td>\n",
              "      <td>0</td>\n",
              "      <td>[きな粉もち（1個）, えび天うどん（えび天1尾）, 肉そば]</td>\n",
              "      <td>[鶏もも肉の照り焼き, もやしと油揚げのみそ汁, にら玉スープ]</td>\n",
              "      <td>クリームシチュー</td>\n",
              "    </tr>\n",
              "  </tbody>\n",
              "</table>\n",
              "</div>"
            ],
            "text/plain": [
              "           料理名  ...           おすすめの組み合わせ\n",
              "0   ごはん（中茶碗1杯）  ...                     \n",
              "1         麦ごはん  ...                     \n",
              "2  きのこたっぷり混ぜご飯  ...                     \n",
              "3     五目炊き込みご飯  ...  フレンチトースト（食パン6枚切り1枚）\n",
              "4           赤飯  ...             クリームシチュー\n",
              "\n",
              "[5 rows x 18 columns]"
            ]
          },
          "metadata": {},
          "execution_count": 83
        }
      ]
    },
    {
      "cell_type": "code",
      "metadata": {
        "colab": {
          "base_uri": "https://localhost:8080/",
          "height": 612
        },
        "id": "QZ-rBGtEUB4J",
        "outputId": "14787881-a1d4-4f16-f0fb-a5b6fe535151"
      },
      "source": [
        "df_processed['カルシウム[mg]'] = df_processed['カルシウム[mg]'].replace(r'^\\s*$', 0.0, regex=True)\n",
        "df_processed['鉄分[mg]'] = df_processed['鉄分[mg]'].replace(r'^\\s*$', 0.0, regex=True)\n",
        "df_processed['ビタミンA[ug]'] = df_processed['ビタミンA[ug]'].replace(r'^\\s*$', 0.0, regex=True)\n",
        "df_processed['ビタミンB1[mg]'] = df_processed['ビタミンB1[mg]'].replace(r'^\\s*$', 0.0, regex=True)\n",
        "df_processed['ビタミンB2[mg]'] = df_processed['ビタミンB2[mg]'].replace(r'^\\s*$', 0.0, regex=True)\n",
        "df_processed['ビタミンC[mg]'] = df_processed['ビタミンC[mg]'].replace(r'^\\s*$', 0.0, regex=True)\n",
        "\n",
        "#df_processed['カルシウム[mg]'] = df_processed['カルシウム[mg]'].replace(r'^\\s*$', np.nan, regex=True)\n",
        "#df_processed['鉄分[mg]'] = df_processed['鉄分[mg]'].replace(r'^\\s*$', np.nan, regex=True)\n",
        "#df_processed['ビタミンA[ug]'] = df_processed['ビタミンA[ug]'].replace(r'^\\s*$', np.nan, regex=True)\n",
        "#df_processed['ビタミンB1[mg]'] = df_processed['ビタミンB1[mg]'].replace(r'^\\s*$', np.nan, regex=True)\n",
        "#df_processed['ビタミンB2[mg]'] = df_processed['ビタミンB2[mg]'].replace(r'^\\s*$', np.nan, regex=True)\n",
        "#df_processed['ビタミンC[mg]'] = df_processed['ビタミンC[mg]'].replace(r'^\\s*$', np.nan, regex=True)\n",
        "\n",
        "df_processed.head()"
      ],
      "execution_count": 84,
      "outputs": [
        {
          "output_type": "execute_result",
          "data": {
            "text/html": [
              "<div>\n",
              "<style scoped>\n",
              "    .dataframe tbody tr th:only-of-type {\n",
              "        vertical-align: middle;\n",
              "    }\n",
              "\n",
              "    .dataframe tbody tr th {\n",
              "        vertical-align: top;\n",
              "    }\n",
              "\n",
              "    .dataframe thead th {\n",
              "        text-align: right;\n",
              "    }\n",
              "</style>\n",
              "<table border=\"1\" class=\"dataframe\">\n",
              "  <thead>\n",
              "    <tr style=\"text-align: right;\">\n",
              "      <th></th>\n",
              "      <th>料理名</th>\n",
              "      <th>エネルギー[キロカロリー]</th>\n",
              "      <th>炭水化物[グラム]</th>\n",
              "      <th>たんぱく質[グラム]</th>\n",
              "      <th>脂質[グラム]</th>\n",
              "      <th>カルシウム[mg]</th>\n",
              "      <th>鉄分[mg]</th>\n",
              "      <th>ビタミンA[ug]</th>\n",
              "      <th>ビタミンB1[mg]</th>\n",
              "      <th>ビタミンB2[mg]</th>\n",
              "      <th>ビタミンC[mg]</th>\n",
              "      <th>材料</th>\n",
              "      <th>調理工程</th>\n",
              "      <th>n_cluster</th>\n",
              "      <th>ip_cluster</th>\n",
              "      <th>似ている料理_栄養</th>\n",
              "      <th>似ている料理_材料・工程</th>\n",
              "      <th>おすすめの組み合わせ</th>\n",
              "    </tr>\n",
              "  </thead>\n",
              "  <tbody>\n",
              "    <tr>\n",
              "      <th>0</th>\n",
              "      <td>ごはん（中茶碗1杯）</td>\n",
              "      <td>252</td>\n",
              "      <td>55.7</td>\n",
              "      <td>3.8</td>\n",
              "      <td>0.5</td>\n",
              "      <td>0.0</td>\n",
              "      <td>0.0</td>\n",
              "      <td>0.0</td>\n",
              "      <td>0.00</td>\n",
              "      <td>0.00</td>\n",
              "      <td>0.0</td>\n",
              "      <td>めし・精白米（水稲）：150</td>\n",
              "      <td></td>\n",
              "      <td>9.0</td>\n",
              "      <td>0</td>\n",
              "      <td></td>\n",
              "      <td>[たまごの袋煮, チキンカツ（ソース付き）, 焼き茄子]</td>\n",
              "      <td></td>\n",
              "    </tr>\n",
              "    <tr>\n",
              "      <th>1</th>\n",
              "      <td>麦ごはん</td>\n",
              "      <td>248</td>\n",
              "      <td>54.0</td>\n",
              "      <td>4.3</td>\n",
              "      <td>0.7</td>\n",
              "      <td>0.0</td>\n",
              "      <td>0.0</td>\n",
              "      <td>0.0</td>\n",
              "      <td>0.00</td>\n",
              "      <td>0.00</td>\n",
              "      <td>0.0</td>\n",
              "      <td>米・精白米（水稲）：60\\n大麦・押麦：10.0</td>\n",
              "      <td></td>\n",
              "      <td>9.0</td>\n",
              "      <td>0</td>\n",
              "      <td></td>\n",
              "      <td>[カツ丼, タコの刺身（5切）（醤油付き）, 鶏むね肉の味噌ダレ焼き]</td>\n",
              "      <td></td>\n",
              "    </tr>\n",
              "    <tr>\n",
              "      <th>2</th>\n",
              "      <td>きのこたっぷり混ぜご飯</td>\n",
              "      <td>307</td>\n",
              "      <td>61.4</td>\n",
              "      <td>6.6</td>\n",
              "      <td>2.4</td>\n",
              "      <td>0.0</td>\n",
              "      <td>0.0</td>\n",
              "      <td>0.0</td>\n",
              "      <td>0.00</td>\n",
              "      <td>0.00</td>\n",
              "      <td>0.0</td>\n",
              "      <td>米・精白米（水稲）：70\\nえのきたけ＿生：7.0\\nしめじ・ぶなしめじ＿生：7.0\\nまい...</td>\n",
              "      <td></td>\n",
              "      <td>9.0</td>\n",
              "      <td>0</td>\n",
              "      <td></td>\n",
              "      <td>[肉野菜炒め, ポテトコロッケ, オニオンスープ]</td>\n",
              "      <td></td>\n",
              "    </tr>\n",
              "    <tr>\n",
              "      <th>3</th>\n",
              "      <td>五目炊き込みご飯</td>\n",
              "      <td>311</td>\n",
              "      <td>57.9</td>\n",
              "      <td>11.4</td>\n",
              "      <td>2.7</td>\n",
              "      <td>28.0</td>\n",
              "      <td>0.5</td>\n",
              "      <td>62.0</td>\n",
              "      <td>0.06</td>\n",
              "      <td>0.09</td>\n",
              "      <td>2.0</td>\n",
              "      <td>米・精白米（水稲）：66\\n油揚げ：5.0\\nにんじん・根、皮つき＿生：7.0\\n板こんにゃ...</td>\n",
              "      <td></td>\n",
              "      <td>2.0</td>\n",
              "      <td>2</td>\n",
              "      <td>[巻き寿司, 親子丼, 炒飯]</td>\n",
              "      <td>[クリームシチュー, かぼちゃのポタージュ, 豚汁]</td>\n",
              "      <td>フレンチトースト（食パン6枚切り1枚）</td>\n",
              "    </tr>\n",
              "    <tr>\n",
              "      <th>4</th>\n",
              "      <td>赤飯</td>\n",
              "      <td>289</td>\n",
              "      <td>63.8</td>\n",
              "      <td>6.1</td>\n",
              "      <td>1.1</td>\n",
              "      <td>18.0</td>\n",
              "      <td>0.8</td>\n",
              "      <td>0.0</td>\n",
              "      <td>0.13</td>\n",
              "      <td>0.03</td>\n",
              "      <td>0.0</td>\n",
              "      <td>赤飯（もち米製品）：150\\nごま＿いり：1.0\\n食塩：0.5</td>\n",
              "      <td></td>\n",
              "      <td>1.0</td>\n",
              "      <td>0</td>\n",
              "      <td>[きな粉もち（1個）, えび天うどん（えび天1尾）, 肉そば]</td>\n",
              "      <td>[鶏もも肉の照り焼き, もやしと油揚げのみそ汁, にら玉スープ]</td>\n",
              "      <td>クリームシチュー</td>\n",
              "    </tr>\n",
              "  </tbody>\n",
              "</table>\n",
              "</div>"
            ],
            "text/plain": [
              "           料理名  ...           おすすめの組み合わせ\n",
              "0   ごはん（中茶碗1杯）  ...                     \n",
              "1         麦ごはん  ...                     \n",
              "2  きのこたっぷり混ぜご飯  ...                     \n",
              "3     五目炊き込みご飯  ...  フレンチトースト（食パン6枚切り1枚）\n",
              "4           赤飯  ...             クリームシチュー\n",
              "\n",
              "[5 rows x 18 columns]"
            ]
          },
          "metadata": {},
          "execution_count": 84
        }
      ]
    },
    {
      "cell_type": "code",
      "metadata": {
        "id": "CpVXP8IY9kDv"
      },
      "source": [
        "df_processed.to_csv(\"/content/drive/MyDrive/Colab Notebooks/kikagaku/AI長期コース/0_自走アプリ/dataset/ProcessedMasterData_From_OpenData.csv\", index=False)"
      ],
      "execution_count": 85,
      "outputs": []
    },
    {
      "cell_type": "code",
      "metadata": {
        "id": "wAF4pQ1zWAZR"
      },
      "source": [
        "\"\"\"\n",
        "  if request.method == 'POST':\n",
        "    age_range = request.POST.get('age_range')\n",
        "    gender = request.POST.get('gender')\n",
        "\n",
        "    obj_ntr = obj.values_list('protein', 'fat', 'calcium', 'iron', 'vitamin_a', 'vitamin_b1', 'vitamin_b2', 'vitamin_c')\n",
        "    ntr_list = [float(obj_ntr[0][i]) for i in range(8)]\n",
        "    tgt_dri = DietaryReferenceIntake.objects.filter(age_range=age_range, gender=gender).order_by('id').reverse().values_list('protein', 'fat', 'calcium', 'iron', 'vitamin_a', 'vitamin_b1', 'vitamin_b2', 'vitamin_c')\n",
        "    tgt_dri_per_meal = [float(tgt_dri[0][i]) / 3 for i in range(8)]\n",
        "\n",
        "    necessary_ntr = []\n",
        "    for i, dri in enumerate(tgt_dri_per_meal):\n",
        "      if dri - ntr_list[i] > 0:\n",
        "        necessary_ntr.append(dri - ntr_list[i])\n",
        "      else:\n",
        "        necessary_ntr.append(float(0))\n",
        "\"\"\""
      ],
      "execution_count": null,
      "outputs": []
    },
    {
      "cell_type": "code",
      "metadata": {
        "id": "N5LL96_sZlaI"
      },
      "source": [
        ""
      ],
      "execution_count": null,
      "outputs": []
    }
  ]
}